{
 "cells": [
  {
   "cell_type": "code",
   "execution_count": 1,
   "metadata": {
    "tags": []
   },
   "outputs": [
    {
     "data": {
      "text/html": [
       "<div>\n",
       "<style scoped>\n",
       "    .dataframe tbody tr th:only-of-type {\n",
       "        vertical-align: middle;\n",
       "    }\n",
       "\n",
       "    .dataframe tbody tr th {\n",
       "        vertical-align: top;\n",
       "    }\n",
       "\n",
       "    .dataframe thead th {\n",
       "        text-align: right;\n",
       "    }\n",
       "</style>\n",
       "<table border=\"1\" class=\"dataframe\">\n",
       "  <thead>\n",
       "    <tr style=\"text-align: right;\">\n",
       "      <th></th>\n",
       "      <th>ID</th>\n",
       "      <th>BIRTHDATE</th>\n",
       "      <th>DEATHDATE</th>\n",
       "      <th>PASSPORT</th>\n",
       "      <th>MARITAL</th>\n",
       "      <th>RACE</th>\n",
       "      <th>ETHNICITY</th>\n",
       "      <th>GENDER</th>\n",
       "      <th>BIRTHPLACE</th>\n",
       "      <th>ZIP</th>\n",
       "      <th>...</th>\n",
       "      <th>ALLERGIES_CODE</th>\n",
       "      <th>IMMUNIZATIONS_CODE</th>\n",
       "      <th>CAREPLANS_CODE</th>\n",
       "      <th>CAREPLANS_REASONCODE</th>\n",
       "      <th>BODY_WEIGHT</th>\n",
       "      <th>BODY_HEIGHT</th>\n",
       "      <th>BMI</th>\n",
       "      <th>SYSTOLIC_BP</th>\n",
       "      <th>DIASTOLIC_BP</th>\n",
       "      <th>OBSERVATIONS_CODE</th>\n",
       "    </tr>\n",
       "  </thead>\n",
       "  <tbody>\n",
       "    <tr>\n",
       "      <th>0</th>\n",
       "      <td>660bec03-9e58-47f2-98b9-2f1c564f3838</td>\n",
       "      <td>1996-07-26</td>\n",
       "      <td>NaN</td>\n",
       "      <td>false</td>\n",
       "      <td>NaN</td>\n",
       "      <td>white</td>\n",
       "      <td>irish</td>\n",
       "      <td>F</td>\n",
       "      <td>Fitchburg MA US</td>\n",
       "      <td>20810.0</td>\n",
       "      <td>...</td>\n",
       "      <td>NaN</td>\n",
       "      <td>[140, 140, 140, 114, 140, 140, 140, 140]</td>\n",
       "      <td>[872781000000100, 266694003, 183051005, 539500...</td>\n",
       "      <td>[39848009.0, 39848009.0, 39848009.0, 10509002....</td>\n",
       "      <td>73.54</td>\n",
       "      <td>163.07</td>\n",
       "      <td>27.66</td>\n",
       "      <td>101.0</td>\n",
       "      <td>75.0</td>\n",
       "      <td>['8302-2', '29463-7', '39156-5', '8480-6', '84...</td>\n",
       "    </tr>\n",
       "    <tr>\n",
       "      <th>1</th>\n",
       "      <td>5125d2b2-3aef-4ae2-aa5c-335f7e206b92</td>\n",
       "      <td>1996-09-24</td>\n",
       "      <td>NaN</td>\n",
       "      <td>false</td>\n",
       "      <td>NaN</td>\n",
       "      <td>white</td>\n",
       "      <td>french_canadian</td>\n",
       "      <td>F</td>\n",
       "      <td>Westborough MA US</td>\n",
       "      <td>2638.0</td>\n",
       "      <td>...</td>\n",
       "      <td>[91930004, 419263009, 424213003]</td>\n",
       "      <td>[140, 62, 140, 140, 114, 140, 140, 140, 140]</td>\n",
       "      <td>[326051000000105, 409002, 58332002, 3260510000...</td>\n",
       "      <td>[nan, nan, nan, nan, nan, nan, nan]</td>\n",
       "      <td>17.33</td>\n",
       "      <td>95.92</td>\n",
       "      <td>18.84</td>\n",
       "      <td>137.0</td>\n",
       "      <td>89.0</td>\n",
       "      <td>['8302-2', '29463-7', '39156-5', '8480-6', '84...</td>\n",
       "    </tr>\n",
       "    <tr>\n",
       "      <th>2</th>\n",
       "      <td>26626faf-cbd5-48d5-a3bf-a7b21ae08e4b</td>\n",
       "      <td>1944-09-01</td>\n",
       "      <td>2015-09-04</td>\n",
       "      <td>X19963891X</td>\n",
       "      <td>M</td>\n",
       "      <td>white</td>\n",
       "      <td>irish</td>\n",
       "      <td>M</td>\n",
       "      <td>Fall River MA US</td>\n",
       "      <td>23401.0</td>\n",
       "      <td>...</td>\n",
       "      <td>NaN</td>\n",
       "      <td>[133, 140, 33, 140, 140, 140, 140]</td>\n",
       "      <td>[133901003, 385949008, 440381005, 439830001, 3...</td>\n",
       "      <td>[403190006.0, 403190006.0, 403190006.0, 403190...</td>\n",
       "      <td>74.58</td>\n",
       "      <td>174.14</td>\n",
       "      <td>24.60</td>\n",
       "      <td>111.0</td>\n",
       "      <td>71.0</td>\n",
       "      <td>['8302-2', '29463-7', '39156-5', '8480-6', '84...</td>\n",
       "    </tr>\n",
       "    <tr>\n",
       "      <th>3</th>\n",
       "      <td>eed62b4a-1099-47ec-a2ac-d953830b44d6</td>\n",
       "      <td>1965-08-05</td>\n",
       "      <td>NaN</td>\n",
       "      <td>false</td>\n",
       "      <td>M</td>\n",
       "      <td>hispanic</td>\n",
       "      <td>central_american</td>\n",
       "      <td>M</td>\n",
       "      <td>Shrewsbury MA US</td>\n",
       "      <td>2631.0</td>\n",
       "      <td>...</td>\n",
       "      <td>NaN</td>\n",
       "      <td>[140, 140, 140, 113]</td>\n",
       "      <td>NaN</td>\n",
       "      <td>NaN</td>\n",
       "      <td>113.23</td>\n",
       "      <td>164.74</td>\n",
       "      <td>41.72</td>\n",
       "      <td>131.0</td>\n",
       "      <td>86.0</td>\n",
       "      <td>['8302-2', '29463-7', '39156-5', '8480-6', '84...</td>\n",
       "    </tr>\n",
       "    <tr>\n",
       "      <th>4</th>\n",
       "      <td>6e9f8b3e-5a21-401e-868d-2d62e0e7f452</td>\n",
       "      <td>1979-11-03</td>\n",
       "      <td>NaN</td>\n",
       "      <td>X29737332X</td>\n",
       "      <td>M</td>\n",
       "      <td>white</td>\n",
       "      <td>irish</td>\n",
       "      <td>F</td>\n",
       "      <td>Wilmington MA US</td>\n",
       "      <td>2630.0</td>\n",
       "      <td>...</td>\n",
       "      <td>[300913006]</td>\n",
       "      <td>[140, 113, 140]</td>\n",
       "      <td>[326051000000105, 409002, 58332002, 3260510000...</td>\n",
       "      <td>[nan, nan, nan, nan, nan, 72892002.0, 72892002...</td>\n",
       "      <td>106.81</td>\n",
       "      <td>166.13</td>\n",
       "      <td>38.70</td>\n",
       "      <td>131.0</td>\n",
       "      <td>74.0</td>\n",
       "      <td>['8302-2', '29463-7', '39156-5', '8480-6', '84...</td>\n",
       "    </tr>\n",
       "  </tbody>\n",
       "</table>\n",
       "<p>5 rows × 25 columns</p>\n",
       "</div>"
      ],
      "text/plain": [
       "                                     ID   BIRTHDATE   DEATHDATE    PASSPORT  \\\n",
       "0  660bec03-9e58-47f2-98b9-2f1c564f3838  1996-07-26         NaN       false   \n",
       "1  5125d2b2-3aef-4ae2-aa5c-335f7e206b92  1996-09-24         NaN       false   \n",
       "2  26626faf-cbd5-48d5-a3bf-a7b21ae08e4b  1944-09-01  2015-09-04  X19963891X   \n",
       "3  eed62b4a-1099-47ec-a2ac-d953830b44d6  1965-08-05         NaN       false   \n",
       "4  6e9f8b3e-5a21-401e-868d-2d62e0e7f452  1979-11-03         NaN  X29737332X   \n",
       "\n",
       "  MARITAL      RACE         ETHNICITY GENDER         BIRTHPLACE      ZIP  ...  \\\n",
       "0     NaN     white             irish      F    Fitchburg MA US  20810.0  ...   \n",
       "1     NaN     white   french_canadian      F  Westborough MA US   2638.0  ...   \n",
       "2       M     white             irish      M   Fall River MA US  23401.0  ...   \n",
       "3       M  hispanic  central_american      M   Shrewsbury MA US   2631.0  ...   \n",
       "4       M     white             irish      F   Wilmington MA US   2630.0  ...   \n",
       "\n",
       "                     ALLERGIES_CODE  \\\n",
       "0                               NaN   \n",
       "1  [91930004, 419263009, 424213003]   \n",
       "2                               NaN   \n",
       "3                               NaN   \n",
       "4                       [300913006]   \n",
       "\n",
       "                             IMMUNIZATIONS_CODE  \\\n",
       "0      [140, 140, 140, 114, 140, 140, 140, 140]   \n",
       "1  [140, 62, 140, 140, 114, 140, 140, 140, 140]   \n",
       "2            [133, 140, 33, 140, 140, 140, 140]   \n",
       "3                          [140, 140, 140, 113]   \n",
       "4                               [140, 113, 140]   \n",
       "\n",
       "                                      CAREPLANS_CODE  \\\n",
       "0  [872781000000100, 266694003, 183051005, 539500...   \n",
       "1  [326051000000105, 409002, 58332002, 3260510000...   \n",
       "2  [133901003, 385949008, 440381005, 439830001, 3...   \n",
       "3                                                NaN   \n",
       "4  [326051000000105, 409002, 58332002, 3260510000...   \n",
       "\n",
       "                                CAREPLANS_REASONCODE BODY_WEIGHT BODY_HEIGHT  \\\n",
       "0  [39848009.0, 39848009.0, 39848009.0, 10509002....       73.54      163.07   \n",
       "1                [nan, nan, nan, nan, nan, nan, nan]       17.33       95.92   \n",
       "2  [403190006.0, 403190006.0, 403190006.0, 403190...       74.58      174.14   \n",
       "3                                                NaN      113.23      164.74   \n",
       "4  [nan, nan, nan, nan, nan, 72892002.0, 72892002...      106.81      166.13   \n",
       "\n",
       "     BMI SYSTOLIC_BP DIASTOLIC_BP  \\\n",
       "0  27.66       101.0         75.0   \n",
       "1  18.84       137.0         89.0   \n",
       "2  24.60       111.0         71.0   \n",
       "3  41.72       131.0         86.0   \n",
       "4  38.70       131.0         74.0   \n",
       "\n",
       "                                   OBSERVATIONS_CODE  \n",
       "0  ['8302-2', '29463-7', '39156-5', '8480-6', '84...  \n",
       "1  ['8302-2', '29463-7', '39156-5', '8480-6', '84...  \n",
       "2  ['8302-2', '29463-7', '39156-5', '8480-6', '84...  \n",
       "3  ['8302-2', '29463-7', '39156-5', '8480-6', '84...  \n",
       "4  ['8302-2', '29463-7', '39156-5', '8480-6', '84...  \n",
       "\n",
       "[5 rows x 25 columns]"
      ]
     },
     "execution_count": 1,
     "metadata": {},
     "output_type": "execute_result"
    }
   ],
   "source": [
    "import pandas as pd\n",
    "import seaborn as sns\n",
    "import numpy as np\n",
    "import ast\n",
    "from sklearn.model_selection import train_test_split \n",
    "from sklearn.metrics import mean_squared_error\n",
    "from sklearn.preprocessing import LabelEncoder\n",
    "\n",
    "patient = pd.read_csv('../../CombinedData/combined1.csv')\n",
    "allergies = pd.read_csv('../../CombinedData/allergies.csv')\n",
    "immunizations = pd.read_csv('../../CombinedData/immunizations.csv')\n",
    "conditions = pd.read_csv('../../CombinedData/conditions.csv')\n",
    "medications = pd.read_csv('../../CombinedData/medications.csv')\n",
    "encounters = pd.read_csv('../../CombinedData/encounters.csv')\n",
    "careplans = pd.read_csv('../../CombinedData/careplans.csv')\n",
    "patient.head()"
   ]
  },
  {
   "cell_type": "code",
   "execution_count": 2,
   "metadata": {
    "tags": []
   },
   "outputs": [],
   "source": [
    "patient.drop(columns=['CONDITIONS_CODE','MEDICATIONS_CODE','MEDICATIONS_REASONCODE','ENCOUNTERS_CODE','ENCOUNTERS_REASONCODE','ALLERGIES_CODE', 'IMMUNIZATIONS_CODE', 'CAREPLANS_CODE', 'CAREPLANS_REASONCODE', 'OBSERVATIONS_CODE'], inplace=True)\n",
    "conditions.drop(columns=['START', 'STOP', 'ENCOUNTER', 'DESCRIPTION'], inplace=True)\n",
    "medications.drop(columns=['START', 'STOP', 'ENCOUNTER', 'DESCRIPTION', 'REASONDESCRIPTION'], inplace=True)\n",
    "immunizations.drop(columns=['DATE', 'ENCOUNTER', 'DESCRIPTION'], inplace=True)\n",
    "allergies.drop(columns=['START', 'STOP', 'ENCOUNTER', 'DESCRIPTION'], inplace=True)\n",
    "encounters.drop(columns=['DATE', 'ID', 'DESCRIPTION', 'REASONDESCRIPTION'], inplace=True)\n",
    "careplans.drop(columns=['ID', 'START', 'STOP', 'ENCOUNTER', 'DESCRIPTION', 'REASONDESCRIPTION'], inplace=True)\n"
   ]
  },
  {
   "cell_type": "code",
   "execution_count": 3,
   "metadata": {
    "tags": []
   },
   "outputs": [
    {
     "data": {
      "text/plain": [
       "ID                  0\n",
       "BIRTHDATE           0\n",
       "DEATHDATE       97023\n",
       "PASSPORT            0\n",
       "MARITAL         32230\n",
       "RACE               37\n",
       "ETHNICITY          19\n",
       "GENDER             35\n",
       "BIRTHPLACE         28\n",
       "ZIP               113\n",
       "BODY_WEIGHT         0\n",
       "BODY_HEIGHT         0\n",
       "BMI                 0\n",
       "SYSTOLIC_BP         0\n",
       "DIASTOLIC_BP        0\n",
       "dtype: int64"
      ]
     },
     "execution_count": 3,
     "metadata": {},
     "output_type": "execute_result"
    }
   ],
   "source": [
    "patient.isna().sum()"
   ]
  },
  {
   "cell_type": "code",
   "execution_count": 4,
   "metadata": {
    "tags": []
   },
   "outputs": [
    {
     "data": {
      "text/plain": [
       "ID              0\n",
       "BIRTHDATE       0\n",
       "DEATHDATE       0\n",
       "PASSPORT        0\n",
       "MARITAL         0\n",
       "RACE            0\n",
       "ETHNICITY       0\n",
       "GENDER          0\n",
       "BIRTHPLACE      0\n",
       "ZIP             0\n",
       "BODY_WEIGHT     0\n",
       "BODY_HEIGHT     0\n",
       "BMI             0\n",
       "SYSTOLIC_BP     0\n",
       "DIASTOLIC_BP    0\n",
       "dtype: int64"
      ]
     },
     "execution_count": 4,
     "metadata": {},
     "output_type": "execute_result"
    }
   ],
   "source": [
    "columns_to_fill_with_mode = ['RACE', 'ETHNICITY', 'GENDER', 'BIRTHPLACE', 'ZIP']\n",
    "\n",
    "for column in columns_to_fill_with_mode:\n",
    "    mode_value = patient[column].mode()[0]\n",
    "    patient[column].fillna(mode_value, inplace=True)\n",
    "    \n",
    "patient['MARITAL'] = patient['MARITAL'].fillna('S')\n",
    "patient['DEATHDATE'] = patient['DEATHDATE'].fillna('False')\n",
    "patient['PASSPORT'] = patient['PASSPORT'].apply(lambda x: x.lower() != 'false')\n",
    "columns_to_normalize = ['RACE', 'ETHNICITY', 'PASSPORT', 'BIRTHPLACE'] \n",
    "\n",
    "# Create a LabelEncoder\n",
    "label_encoder = LabelEncoder()\n",
    "\n",
    "# Apply LabelEncoder to each column\n",
    "patient[columns_to_normalize] = patient[columns_to_normalize].apply(label_encoder.fit_transform)\n",
    "\n",
    "patient['MARITAL'] = patient['MARITAL'].apply(lambda x: 0 if x == 'S' else 1)\n",
    "\n",
    "# Map 'M' to 1 and 'F' to 0 in the 'GENDER' column\n",
    "patient['GENDER'] = patient['GENDER'].apply(lambda x: 0 if x == 'F' else 1)\n",
    "\n",
    "patient.isna().sum()"
   ]
  },
  {
   "cell_type": "code",
   "execution_count": 5,
   "metadata": {
    "tags": []
   },
   "outputs": [
    {
     "name": "stderr",
     "output_type": "stream",
     "text": [
      "/var/folders/33/9x78v0zs43q5dygckhsgm6380000gn/T/ipykernel_11619/1867742644.py:14: UserWarning: Could not infer format, so each element will be parsed individually, falling back to `dateutil`. To ensure parsing is consistent and as-expected, please specify a format.\n",
      "  patient['DEATHDATE'] = pd.to_datetime(patient['DEATHDATE'], errors='coerce')\n"
     ]
    },
    {
     "data": {
      "text/html": [
       "<div>\n",
       "<style scoped>\n",
       "    .dataframe tbody tr th:only-of-type {\n",
       "        vertical-align: middle;\n",
       "    }\n",
       "\n",
       "    .dataframe tbody tr th {\n",
       "        vertical-align: top;\n",
       "    }\n",
       "\n",
       "    .dataframe thead th {\n",
       "        text-align: right;\n",
       "    }\n",
       "</style>\n",
       "<table border=\"1\" class=\"dataframe\">\n",
       "  <thead>\n",
       "    <tr style=\"text-align: right;\">\n",
       "      <th></th>\n",
       "      <th>ID</th>\n",
       "      <th>BIRTHDATE</th>\n",
       "      <th>DEATHDATE</th>\n",
       "      <th>PASSPORT</th>\n",
       "      <th>MARITAL</th>\n",
       "      <th>RACE</th>\n",
       "      <th>ETHNICITY</th>\n",
       "      <th>GENDER</th>\n",
       "      <th>BIRTHPLACE</th>\n",
       "      <th>ZIP</th>\n",
       "      <th>BODY_WEIGHT</th>\n",
       "      <th>BODY_HEIGHT</th>\n",
       "      <th>BMI</th>\n",
       "      <th>SYSTOLIC_BP</th>\n",
       "      <th>DIASTOLIC_BP</th>\n",
       "      <th>AGE</th>\n",
       "      <th>AGE_AT_DEATH</th>\n",
       "    </tr>\n",
       "  </thead>\n",
       "  <tbody>\n",
       "    <tr>\n",
       "      <th>0</th>\n",
       "      <td>660bec03-9e58-47f2-98b9-2f1c564f3838</td>\n",
       "      <td>1996-07-26</td>\n",
       "      <td>NaT</td>\n",
       "      <td>0</td>\n",
       "      <td>0</td>\n",
       "      <td>43</td>\n",
       "      <td>59</td>\n",
       "      <td>0</td>\n",
       "      <td>119</td>\n",
       "      <td>20810.0</td>\n",
       "      <td>73.54</td>\n",
       "      <td>163.07</td>\n",
       "      <td>27.66</td>\n",
       "      <td>101.0</td>\n",
       "      <td>75.0</td>\n",
       "      <td>26.0</td>\n",
       "      <td>0.0</td>\n",
       "    </tr>\n",
       "    <tr>\n",
       "      <th>1</th>\n",
       "      <td>5125d2b2-3aef-4ae2-aa5c-335f7e206b92</td>\n",
       "      <td>1996-09-24</td>\n",
       "      <td>NaT</td>\n",
       "      <td>0</td>\n",
       "      <td>0</td>\n",
       "      <td>43</td>\n",
       "      <td>56</td>\n",
       "      <td>0</td>\n",
       "      <td>363</td>\n",
       "      <td>2638.0</td>\n",
       "      <td>17.33</td>\n",
       "      <td>95.92</td>\n",
       "      <td>18.84</td>\n",
       "      <td>137.0</td>\n",
       "      <td>89.0</td>\n",
       "      <td>26.0</td>\n",
       "      <td>0.0</td>\n",
       "    </tr>\n",
       "    <tr>\n",
       "      <th>2</th>\n",
       "      <td>26626faf-cbd5-48d5-a3bf-a7b21ae08e4b</td>\n",
       "      <td>1944-09-01</td>\n",
       "      <td>2015-09-04</td>\n",
       "      <td>1</td>\n",
       "      <td>1</td>\n",
       "      <td>43</td>\n",
       "      <td>59</td>\n",
       "      <td>1</td>\n",
       "      <td>117</td>\n",
       "      <td>23401.0</td>\n",
       "      <td>74.58</td>\n",
       "      <td>174.14</td>\n",
       "      <td>24.60</td>\n",
       "      <td>111.0</td>\n",
       "      <td>71.0</td>\n",
       "      <td>78.0</td>\n",
       "      <td>71.0</td>\n",
       "    </tr>\n",
       "    <tr>\n",
       "      <th>3</th>\n",
       "      <td>eed62b4a-1099-47ec-a2ac-d953830b44d6</td>\n",
       "      <td>1965-08-05</td>\n",
       "      <td>NaT</td>\n",
       "      <td>0</td>\n",
       "      <td>1</td>\n",
       "      <td>41</td>\n",
       "      <td>48</td>\n",
       "      <td>1</td>\n",
       "      <td>304</td>\n",
       "      <td>2631.0</td>\n",
       "      <td>113.23</td>\n",
       "      <td>164.74</td>\n",
       "      <td>41.72</td>\n",
       "      <td>131.0</td>\n",
       "      <td>86.0</td>\n",
       "      <td>57.0</td>\n",
       "      <td>0.0</td>\n",
       "    </tr>\n",
       "    <tr>\n",
       "      <th>4</th>\n",
       "      <td>6e9f8b3e-5a21-401e-868d-2d62e0e7f452</td>\n",
       "      <td>1979-11-03</td>\n",
       "      <td>NaT</td>\n",
       "      <td>1</td>\n",
       "      <td>1</td>\n",
       "      <td>43</td>\n",
       "      <td>59</td>\n",
       "      <td>0</td>\n",
       "      <td>377</td>\n",
       "      <td>2630.0</td>\n",
       "      <td>106.81</td>\n",
       "      <td>166.13</td>\n",
       "      <td>38.70</td>\n",
       "      <td>131.0</td>\n",
       "      <td>74.0</td>\n",
       "      <td>43.0</td>\n",
       "      <td>0.0</td>\n",
       "    </tr>\n",
       "  </tbody>\n",
       "</table>\n",
       "</div>"
      ],
      "text/plain": [
       "                                     ID  BIRTHDATE  DEATHDATE  PASSPORT  \\\n",
       "0  660bec03-9e58-47f2-98b9-2f1c564f3838 1996-07-26        NaT         0   \n",
       "1  5125d2b2-3aef-4ae2-aa5c-335f7e206b92 1996-09-24        NaT         0   \n",
       "2  26626faf-cbd5-48d5-a3bf-a7b21ae08e4b 1944-09-01 2015-09-04         1   \n",
       "3  eed62b4a-1099-47ec-a2ac-d953830b44d6 1965-08-05        NaT         0   \n",
       "4  6e9f8b3e-5a21-401e-868d-2d62e0e7f452 1979-11-03        NaT         1   \n",
       "\n",
       "   MARITAL  RACE  ETHNICITY  GENDER  BIRTHPLACE      ZIP  BODY_WEIGHT  \\\n",
       "0        0    43         59       0         119  20810.0        73.54   \n",
       "1        0    43         56       0         363   2638.0        17.33   \n",
       "2        1    43         59       1         117  23401.0        74.58   \n",
       "3        1    41         48       1         304   2631.0       113.23   \n",
       "4        1    43         59       0         377   2630.0       106.81   \n",
       "\n",
       "   BODY_HEIGHT    BMI  SYSTOLIC_BP  DIASTOLIC_BP   AGE  AGE_AT_DEATH  \n",
       "0       163.07  27.66        101.0          75.0  26.0           0.0  \n",
       "1        95.92  18.84        137.0          89.0  26.0           0.0  \n",
       "2       174.14  24.60        111.0          71.0  78.0          71.0  \n",
       "3       164.74  41.72        131.0          86.0  57.0           0.0  \n",
       "4       166.13  38.70        131.0          74.0  43.0           0.0  "
      ]
     },
     "execution_count": 5,
     "metadata": {},
     "output_type": "execute_result"
    }
   ],
   "source": [
    "# Convert 'BIRTHDATE' to datetime, handling errors by setting problematic values to NaN\n",
    "patient['BIRTHDATE'] = pd.to_datetime(patient['BIRTHDATE'], errors='coerce')\n",
    "\n",
    "# Drop rows with NaN values in 'BIRTHDATE'\n",
    "patient = patient.dropna(subset=['BIRTHDATE'])\n",
    "\n",
    "# Assuming you have cleaned the 'BIRTHDATE' column, you can proceed with the reference date\n",
    "reference_date = pd.to_datetime('2023-01-01')\n",
    "\n",
    "# Calculate age\n",
    "patient['AGE'] = (reference_date - patient['BIRTHDATE']).dt.days // 365.25\n",
    "\n",
    "# Convert 'DEATHDATE' to datetime, handling errors by setting problematic values to NaT\n",
    "patient['DEATHDATE'] = pd.to_datetime(patient['DEATHDATE'], errors='coerce')\n",
    "\n",
    "# Calculate age at death if available\n",
    "patient['AGE_AT_DEATH'] = (patient['DEATHDATE'] - patient['BIRTHDATE']).dt.days // 365.25\n",
    "\n",
    "# Replace NaT with 0 in 'AGE_AT_DEATH' for patients who are not deceased\n",
    "patient['AGE_AT_DEATH'] = patient['AGE_AT_DEATH'].fillna(0)\n",
    "\n",
    "\n",
    "patient.head()"
   ]
  },
  {
   "cell_type": "code",
   "execution_count": 6,
   "metadata": {
    "tags": []
   },
   "outputs": [
    {
     "data": {
      "text/plain": [
       "PATIENT           0\n",
       "ALLERGIES_CODE    0\n",
       "dtype: int64"
      ]
     },
     "execution_count": 6,
     "metadata": {},
     "output_type": "execute_result"
    }
   ],
   "source": [
    "allergies = allergies.rename(columns={'CODE': 'ALLERGIES_CODE'})\n",
    "allergies.isna().sum()"
   ]
  },
  {
   "cell_type": "code",
   "execution_count": 7,
   "metadata": {
    "tags": []
   },
   "outputs": [
    {
     "data": {
      "text/plain": [
       "PATIENT            0\n",
       "CONDITIONS_CODE    0\n",
       "dtype: int64"
      ]
     },
     "execution_count": 7,
     "metadata": {},
     "output_type": "execute_result"
    }
   ],
   "source": [
    "conditions = conditions.rename(columns={'CODE': 'CONDITIONS_CODE'})\n",
    "conditions.isna().sum()"
   ]
  },
  {
   "cell_type": "code",
   "execution_count": 8,
   "metadata": {
    "tags": []
   },
   "outputs": [
    {
     "data": {
      "text/plain": [
       "PATIENT                        0\n",
       "MEDICATIONS_CODE               0\n",
       "MEDICATIONS_REASONCODE    118792\n",
       "dtype: int64"
      ]
     },
     "execution_count": 8,
     "metadata": {},
     "output_type": "execute_result"
    }
   ],
   "source": [
    "medications = medications.rename(columns={'CODE': 'MEDICATIONS_CODE'})\n",
    "medications = medications.rename(columns={'REASONCODE': 'MEDICATIONS_REASONCODE'})\n",
    "medications.isna().sum()"
   ]
  },
  {
   "cell_type": "code",
   "execution_count": 9,
   "metadata": {
    "tags": []
   },
   "outputs": [
    {
     "data": {
      "text/plain": [
       "PATIENT                   0\n",
       "MEDICATIONS_CODE          0\n",
       "MEDICATIONS_REASONCODE    0\n",
       "dtype: int64"
      ]
     },
     "execution_count": 9,
     "metadata": {},
     "output_type": "execute_result"
    }
   ],
   "source": [
    "medications.fillna(0, inplace=True)\n",
    "medications.isna().sum()"
   ]
  },
  {
   "cell_type": "code",
   "execution_count": 10,
   "metadata": {
    "tags": []
   },
   "outputs": [
    {
     "data": {
      "text/plain": [
       "PATIENT               0\n",
       "IMMUNIZATIONS_CODE    0\n",
       "dtype: int64"
      ]
     },
     "execution_count": 10,
     "metadata": {},
     "output_type": "execute_result"
    }
   ],
   "source": [
    "immunizations = immunizations.rename(columns={'CODE': 'IMMUNIZATIONS_CODE'})\n",
    "immunizations.isna().sum()"
   ]
  },
  {
   "cell_type": "code",
   "execution_count": 11,
   "metadata": {
    "tags": []
   },
   "outputs": [
    {
     "data": {
      "text/plain": [
       "PATIENT                       0\n",
       "ENCOUNTERS_CODE               0\n",
       "ENCOUNTERS_REASONCODE    907763\n",
       "dtype: int64"
      ]
     },
     "execution_count": 11,
     "metadata": {},
     "output_type": "execute_result"
    }
   ],
   "source": [
    "encounters = encounters.rename(columns={'CODE': 'ENCOUNTERS_CODE'})\n",
    "encounters = encounters.rename(columns={'REASONCODE': 'ENCOUNTERS_REASONCODE'})\n",
    "encounters.isna().sum()"
   ]
  },
  {
   "cell_type": "code",
   "execution_count": 12,
   "metadata": {
    "tags": []
   },
   "outputs": [
    {
     "data": {
      "text/plain": [
       "PATIENT                  0\n",
       "ENCOUNTERS_CODE          0\n",
       "ENCOUNTERS_REASONCODE    0\n",
       "dtype: int64"
      ]
     },
     "execution_count": 12,
     "metadata": {},
     "output_type": "execute_result"
    }
   ],
   "source": [
    "encounters.fillna(0, inplace=True)\n",
    "encounters.isna().sum()"
   ]
  },
  {
   "cell_type": "code",
   "execution_count": 13,
   "metadata": {
    "tags": []
   },
   "outputs": [
    {
     "data": {
      "text/plain": [
       "PATIENT                     0\n",
       "CAREPLANS_CODE              0\n",
       "CAREPLANS_REASONCODE    94889\n",
       "dtype: int64"
      ]
     },
     "execution_count": 13,
     "metadata": {},
     "output_type": "execute_result"
    }
   ],
   "source": [
    "careplans = careplans.rename(columns={'CODE': 'CAREPLANS_CODE'})\n",
    "careplans = careplans.rename(columns={'REASONCODE': 'CAREPLANS_REASONCODE'})\n",
    "careplans.isna().sum()"
   ]
  },
  {
   "cell_type": "code",
   "execution_count": 14,
   "metadata": {
    "tags": []
   },
   "outputs": [
    {
     "data": {
      "text/plain": [
       "PATIENT                 0\n",
       "CAREPLANS_CODE          0\n",
       "CAREPLANS_REASONCODE    0\n",
       "dtype: int64"
      ]
     },
     "execution_count": 14,
     "metadata": {},
     "output_type": "execute_result"
    }
   ],
   "source": [
    "careplans.fillna(0, inplace=True)\n",
    "careplans.isna().sum()"
   ]
  },
  {
   "cell_type": "code",
   "execution_count": 15,
   "metadata": {
    "tags": []
   },
   "outputs": [],
   "source": [
    "allergies_immu_df = pd.merge(allergies, immunizations, on='PATIENT', how='left')"
   ]
  },
  {
   "cell_type": "code",
   "execution_count": 16,
   "metadata": {
    "tags": []
   },
   "outputs": [
    {
     "data": {
      "text/html": [
       "<div>\n",
       "<style scoped>\n",
       "    .dataframe tbody tr th:only-of-type {\n",
       "        vertical-align: middle;\n",
       "    }\n",
       "\n",
       "    .dataframe tbody tr th {\n",
       "        vertical-align: top;\n",
       "    }\n",
       "\n",
       "    .dataframe thead th {\n",
       "        text-align: right;\n",
       "    }\n",
       "</style>\n",
       "<table border=\"1\" class=\"dataframe\">\n",
       "  <thead>\n",
       "    <tr style=\"text-align: right;\">\n",
       "      <th></th>\n",
       "      <th>PATIENT</th>\n",
       "      <th>ALLERGIES_CODE</th>\n",
       "      <th>IMMUNIZATIONS_CODE</th>\n",
       "      <th>ENCOUNTERS_CODE</th>\n",
       "      <th>ENCOUNTERS_REASONCODE</th>\n",
       "      <th>CONDITIONS_CODE</th>\n",
       "    </tr>\n",
       "  </thead>\n",
       "  <tbody>\n",
       "    <tr>\n",
       "      <th>0</th>\n",
       "      <td>5125d2b2-3aef-4ae2-aa5c-335f7e206b92</td>\n",
       "      <td>91930004</td>\n",
       "      <td>140.0</td>\n",
       "      <td>371883000</td>\n",
       "      <td>0.0</td>\n",
       "      <td>232353008.0</td>\n",
       "    </tr>\n",
       "    <tr>\n",
       "      <th>1</th>\n",
       "      <td>5125d2b2-3aef-4ae2-aa5c-335f7e206b92</td>\n",
       "      <td>91930004</td>\n",
       "      <td>140.0</td>\n",
       "      <td>371883000</td>\n",
       "      <td>0.0</td>\n",
       "      <td>74400008.0</td>\n",
       "    </tr>\n",
       "    <tr>\n",
       "      <th>2</th>\n",
       "      <td>5125d2b2-3aef-4ae2-aa5c-335f7e206b92</td>\n",
       "      <td>91930004</td>\n",
       "      <td>140.0</td>\n",
       "      <td>371883000</td>\n",
       "      <td>0.0</td>\n",
       "      <td>428251008.0</td>\n",
       "    </tr>\n",
       "    <tr>\n",
       "      <th>3</th>\n",
       "      <td>5125d2b2-3aef-4ae2-aa5c-335f7e206b92</td>\n",
       "      <td>91930004</td>\n",
       "      <td>140.0</td>\n",
       "      <td>185347001</td>\n",
       "      <td>0.0</td>\n",
       "      <td>232353008.0</td>\n",
       "    </tr>\n",
       "    <tr>\n",
       "      <th>4</th>\n",
       "      <td>5125d2b2-3aef-4ae2-aa5c-335f7e206b92</td>\n",
       "      <td>91930004</td>\n",
       "      <td>140.0</td>\n",
       "      <td>185347001</td>\n",
       "      <td>0.0</td>\n",
       "      <td>74400008.0</td>\n",
       "    </tr>\n",
       "  </tbody>\n",
       "</table>\n",
       "</div>"
      ],
      "text/plain": [
       "                                PATIENT  ALLERGIES_CODE  IMMUNIZATIONS_CODE  \\\n",
       "0  5125d2b2-3aef-4ae2-aa5c-335f7e206b92        91930004               140.0   \n",
       "1  5125d2b2-3aef-4ae2-aa5c-335f7e206b92        91930004               140.0   \n",
       "2  5125d2b2-3aef-4ae2-aa5c-335f7e206b92        91930004               140.0   \n",
       "3  5125d2b2-3aef-4ae2-aa5c-335f7e206b92        91930004               140.0   \n",
       "4  5125d2b2-3aef-4ae2-aa5c-335f7e206b92        91930004               140.0   \n",
       "\n",
       "   ENCOUNTERS_CODE  ENCOUNTERS_REASONCODE  CONDITIONS_CODE  \n",
       "0        371883000                    0.0      232353008.0  \n",
       "1        371883000                    0.0       74400008.0  \n",
       "2        371883000                    0.0      428251008.0  \n",
       "3        185347001                    0.0      232353008.0  \n",
       "4        185347001                    0.0       74400008.0  "
      ]
     },
     "execution_count": 16,
     "metadata": {},
     "output_type": "execute_result"
    }
   ],
   "source": [
    "all_immu_encou_df = pd.merge(allergies_immu_df, encounters, on='PATIENT', how='left').merge(conditions, on='PATIENT', how='left')\n",
    "all_immu_encou_df.head()"
   ]
  },
  {
   "cell_type": "code",
   "execution_count": 17,
   "metadata": {
    "tags": []
   },
   "outputs": [
    {
     "data": {
      "text/html": [
       "<div>\n",
       "<style scoped>\n",
       "    .dataframe tbody tr th:only-of-type {\n",
       "        vertical-align: middle;\n",
       "    }\n",
       "\n",
       "    .dataframe tbody tr th {\n",
       "        vertical-align: top;\n",
       "    }\n",
       "\n",
       "    .dataframe thead th {\n",
       "        text-align: right;\n",
       "    }\n",
       "</style>\n",
       "<table border=\"1\" class=\"dataframe\">\n",
       "  <thead>\n",
       "    <tr style=\"text-align: right;\">\n",
       "      <th></th>\n",
       "      <th>PATIENT</th>\n",
       "      <th>CAREPLANS_CODE</th>\n",
       "      <th>CAREPLANS_REASONCODE</th>\n",
       "      <th>MEDICATIONS_CODE</th>\n",
       "      <th>MEDICATIONS_REASONCODE</th>\n",
       "      <th>CONDITIONS_CODE</th>\n",
       "    </tr>\n",
       "  </thead>\n",
       "  <tbody>\n",
       "    <tr>\n",
       "      <th>0</th>\n",
       "      <td>660bec03-9e58-47f2-98b9-2f1c564f3838</td>\n",
       "      <td>872781000000100</td>\n",
       "      <td>39848009.0</td>\n",
       "      <td>834060.0</td>\n",
       "      <td>43878008.0</td>\n",
       "      <td>39848009.0</td>\n",
       "    </tr>\n",
       "    <tr>\n",
       "      <th>1</th>\n",
       "      <td>660bec03-9e58-47f2-98b9-2f1c564f3838</td>\n",
       "      <td>872781000000100</td>\n",
       "      <td>39848009.0</td>\n",
       "      <td>834060.0</td>\n",
       "      <td>43878008.0</td>\n",
       "      <td>10509002.0</td>\n",
       "    </tr>\n",
       "    <tr>\n",
       "      <th>2</th>\n",
       "      <td>660bec03-9e58-47f2-98b9-2f1c564f3838</td>\n",
       "      <td>872781000000100</td>\n",
       "      <td>39848009.0</td>\n",
       "      <td>834060.0</td>\n",
       "      <td>43878008.0</td>\n",
       "      <td>444814009.0</td>\n",
       "    </tr>\n",
       "    <tr>\n",
       "      <th>3</th>\n",
       "      <td>660bec03-9e58-47f2-98b9-2f1c564f3838</td>\n",
       "      <td>872781000000100</td>\n",
       "      <td>39848009.0</td>\n",
       "      <td>834060.0</td>\n",
       "      <td>43878008.0</td>\n",
       "      <td>38341003.0</td>\n",
       "    </tr>\n",
       "    <tr>\n",
       "      <th>4</th>\n",
       "      <td>660bec03-9e58-47f2-98b9-2f1c564f3838</td>\n",
       "      <td>872781000000100</td>\n",
       "      <td>39848009.0</td>\n",
       "      <td>834060.0</td>\n",
       "      <td>43878008.0</td>\n",
       "      <td>283371005.0</td>\n",
       "    </tr>\n",
       "  </tbody>\n",
       "</table>\n",
       "</div>"
      ],
      "text/plain": [
       "                                PATIENT   CAREPLANS_CODE  \\\n",
       "0  660bec03-9e58-47f2-98b9-2f1c564f3838  872781000000100   \n",
       "1  660bec03-9e58-47f2-98b9-2f1c564f3838  872781000000100   \n",
       "2  660bec03-9e58-47f2-98b9-2f1c564f3838  872781000000100   \n",
       "3  660bec03-9e58-47f2-98b9-2f1c564f3838  872781000000100   \n",
       "4  660bec03-9e58-47f2-98b9-2f1c564f3838  872781000000100   \n",
       "\n",
       "   CAREPLANS_REASONCODE  MEDICATIONS_CODE  MEDICATIONS_REASONCODE  \\\n",
       "0            39848009.0          834060.0              43878008.0   \n",
       "1            39848009.0          834060.0              43878008.0   \n",
       "2            39848009.0          834060.0              43878008.0   \n",
       "3            39848009.0          834060.0              43878008.0   \n",
       "4            39848009.0          834060.0              43878008.0   \n",
       "\n",
       "   CONDITIONS_CODE  \n",
       "0       39848009.0  \n",
       "1       10509002.0  \n",
       "2      444814009.0  \n",
       "3       38341003.0  \n",
       "4      283371005.0  "
      ]
     },
     "execution_count": 17,
     "metadata": {},
     "output_type": "execute_result"
    }
   ],
   "source": [
    "med_care_df = pd.merge(careplans, medications, on='PATIENT', how='left').merge(conditions, on='PATIENT', how='left')\n",
    "med_care_df.head()"
   ]
  },
  {
   "cell_type": "code",
   "execution_count": 18,
   "metadata": {
    "tags": []
   },
   "outputs": [
    {
     "data": {
      "text/html": [
       "<div>\n",
       "<style scoped>\n",
       "    .dataframe tbody tr th:only-of-type {\n",
       "        vertical-align: middle;\n",
       "    }\n",
       "\n",
       "    .dataframe tbody tr th {\n",
       "        vertical-align: top;\n",
       "    }\n",
       "\n",
       "    .dataframe thead th {\n",
       "        text-align: right;\n",
       "    }\n",
       "</style>\n",
       "<table border=\"1\" class=\"dataframe\">\n",
       "  <thead>\n",
       "    <tr style=\"text-align: right;\">\n",
       "      <th></th>\n",
       "      <th>ID</th>\n",
       "      <th>BIRTHDATE</th>\n",
       "      <th>DEATHDATE</th>\n",
       "      <th>PASSPORT</th>\n",
       "      <th>MARITAL</th>\n",
       "      <th>RACE</th>\n",
       "      <th>ETHNICITY</th>\n",
       "      <th>GENDER</th>\n",
       "      <th>BIRTHPLACE</th>\n",
       "      <th>ZIP</th>\n",
       "      <th>BODY_WEIGHT</th>\n",
       "      <th>BODY_HEIGHT</th>\n",
       "      <th>BMI</th>\n",
       "      <th>SYSTOLIC_BP</th>\n",
       "      <th>DIASTOLIC_BP</th>\n",
       "      <th>AGE</th>\n",
       "      <th>AGE_AT_DEATH</th>\n",
       "      <th>PATIENT</th>\n",
       "      <th>CONDITIONS_CODE</th>\n",
       "    </tr>\n",
       "  </thead>\n",
       "  <tbody>\n",
       "    <tr>\n",
       "      <th>0</th>\n",
       "      <td>660bec03-9e58-47f2-98b9-2f1c564f3838</td>\n",
       "      <td>1996-07-26</td>\n",
       "      <td>NaT</td>\n",
       "      <td>0</td>\n",
       "      <td>0</td>\n",
       "      <td>43</td>\n",
       "      <td>59</td>\n",
       "      <td>0</td>\n",
       "      <td>119</td>\n",
       "      <td>20810.0</td>\n",
       "      <td>73.54</td>\n",
       "      <td>163.07</td>\n",
       "      <td>27.66</td>\n",
       "      <td>101.0</td>\n",
       "      <td>75.0</td>\n",
       "      <td>26.0</td>\n",
       "      <td>0.0</td>\n",
       "      <td>660bec03-9e58-47f2-98b9-2f1c564f3838</td>\n",
       "      <td>39848009.0</td>\n",
       "    </tr>\n",
       "    <tr>\n",
       "      <th>1</th>\n",
       "      <td>660bec03-9e58-47f2-98b9-2f1c564f3838</td>\n",
       "      <td>1996-07-26</td>\n",
       "      <td>NaT</td>\n",
       "      <td>0</td>\n",
       "      <td>0</td>\n",
       "      <td>43</td>\n",
       "      <td>59</td>\n",
       "      <td>0</td>\n",
       "      <td>119</td>\n",
       "      <td>20810.0</td>\n",
       "      <td>73.54</td>\n",
       "      <td>163.07</td>\n",
       "      <td>27.66</td>\n",
       "      <td>101.0</td>\n",
       "      <td>75.0</td>\n",
       "      <td>26.0</td>\n",
       "      <td>0.0</td>\n",
       "      <td>660bec03-9e58-47f2-98b9-2f1c564f3838</td>\n",
       "      <td>10509002.0</td>\n",
       "    </tr>\n",
       "    <tr>\n",
       "      <th>2</th>\n",
       "      <td>660bec03-9e58-47f2-98b9-2f1c564f3838</td>\n",
       "      <td>1996-07-26</td>\n",
       "      <td>NaT</td>\n",
       "      <td>0</td>\n",
       "      <td>0</td>\n",
       "      <td>43</td>\n",
       "      <td>59</td>\n",
       "      <td>0</td>\n",
       "      <td>119</td>\n",
       "      <td>20810.0</td>\n",
       "      <td>73.54</td>\n",
       "      <td>163.07</td>\n",
       "      <td>27.66</td>\n",
       "      <td>101.0</td>\n",
       "      <td>75.0</td>\n",
       "      <td>26.0</td>\n",
       "      <td>0.0</td>\n",
       "      <td>660bec03-9e58-47f2-98b9-2f1c564f3838</td>\n",
       "      <td>444814009.0</td>\n",
       "    </tr>\n",
       "    <tr>\n",
       "      <th>3</th>\n",
       "      <td>660bec03-9e58-47f2-98b9-2f1c564f3838</td>\n",
       "      <td>1996-07-26</td>\n",
       "      <td>NaT</td>\n",
       "      <td>0</td>\n",
       "      <td>0</td>\n",
       "      <td>43</td>\n",
       "      <td>59</td>\n",
       "      <td>0</td>\n",
       "      <td>119</td>\n",
       "      <td>20810.0</td>\n",
       "      <td>73.54</td>\n",
       "      <td>163.07</td>\n",
       "      <td>27.66</td>\n",
       "      <td>101.0</td>\n",
       "      <td>75.0</td>\n",
       "      <td>26.0</td>\n",
       "      <td>0.0</td>\n",
       "      <td>660bec03-9e58-47f2-98b9-2f1c564f3838</td>\n",
       "      <td>38341003.0</td>\n",
       "    </tr>\n",
       "    <tr>\n",
       "      <th>4</th>\n",
       "      <td>660bec03-9e58-47f2-98b9-2f1c564f3838</td>\n",
       "      <td>1996-07-26</td>\n",
       "      <td>NaT</td>\n",
       "      <td>0</td>\n",
       "      <td>0</td>\n",
       "      <td>43</td>\n",
       "      <td>59</td>\n",
       "      <td>0</td>\n",
       "      <td>119</td>\n",
       "      <td>20810.0</td>\n",
       "      <td>73.54</td>\n",
       "      <td>163.07</td>\n",
       "      <td>27.66</td>\n",
       "      <td>101.0</td>\n",
       "      <td>75.0</td>\n",
       "      <td>26.0</td>\n",
       "      <td>0.0</td>\n",
       "      <td>660bec03-9e58-47f2-98b9-2f1c564f3838</td>\n",
       "      <td>283371005.0</td>\n",
       "    </tr>\n",
       "  </tbody>\n",
       "</table>\n",
       "</div>"
      ],
      "text/plain": [
       "                                     ID  BIRTHDATE DEATHDATE  PASSPORT  \\\n",
       "0  660bec03-9e58-47f2-98b9-2f1c564f3838 1996-07-26       NaT         0   \n",
       "1  660bec03-9e58-47f2-98b9-2f1c564f3838 1996-07-26       NaT         0   \n",
       "2  660bec03-9e58-47f2-98b9-2f1c564f3838 1996-07-26       NaT         0   \n",
       "3  660bec03-9e58-47f2-98b9-2f1c564f3838 1996-07-26       NaT         0   \n",
       "4  660bec03-9e58-47f2-98b9-2f1c564f3838 1996-07-26       NaT         0   \n",
       "\n",
       "   MARITAL  RACE  ETHNICITY  GENDER  BIRTHPLACE      ZIP  BODY_WEIGHT  \\\n",
       "0        0    43         59       0         119  20810.0        73.54   \n",
       "1        0    43         59       0         119  20810.0        73.54   \n",
       "2        0    43         59       0         119  20810.0        73.54   \n",
       "3        0    43         59       0         119  20810.0        73.54   \n",
       "4        0    43         59       0         119  20810.0        73.54   \n",
       "\n",
       "   BODY_HEIGHT    BMI  SYSTOLIC_BP  DIASTOLIC_BP   AGE  AGE_AT_DEATH  \\\n",
       "0       163.07  27.66        101.0          75.0  26.0           0.0   \n",
       "1       163.07  27.66        101.0          75.0  26.0           0.0   \n",
       "2       163.07  27.66        101.0          75.0  26.0           0.0   \n",
       "3       163.07  27.66        101.0          75.0  26.0           0.0   \n",
       "4       163.07  27.66        101.0          75.0  26.0           0.0   \n",
       "\n",
       "                                PATIENT  CONDITIONS_CODE  \n",
       "0  660bec03-9e58-47f2-98b9-2f1c564f3838       39848009.0  \n",
       "1  660bec03-9e58-47f2-98b9-2f1c564f3838       10509002.0  \n",
       "2  660bec03-9e58-47f2-98b9-2f1c564f3838      444814009.0  \n",
       "3  660bec03-9e58-47f2-98b9-2f1c564f3838       38341003.0  \n",
       "4  660bec03-9e58-47f2-98b9-2f1c564f3838      283371005.0  "
      ]
     },
     "execution_count": 18,
     "metadata": {},
     "output_type": "execute_result"
    }
   ],
   "source": [
    "patient_merge = pd.merge(patient, conditions, left_on='ID', right_on='PATIENT', how='left')\n",
    "patient_merge.head()"
   ]
  },
  {
   "cell_type": "code",
   "execution_count": 21,
   "metadata": {},
   "outputs": [],
   "source": [
    "from sklearn.linear_model import LogisticRegression\n",
    "from sklearn.model_selection import train_test_split\n",
    "from sklearn.ensemble import BaggingClassifier\n",
    "from sklearn.metrics import accuracy_score, classification_report\n",
    "\n",
    "# These codes are the ones that correlate to a type of lung cancer\n",
    "conditions_code = set([162573006, 254637007, 432121009, 424132000, 422968005, 254632001, 67821000119109])\n",
    "patient_merge.drop(columns=['DEATHDATE', 'BIRTHDATE', 'PATIENT', 'ID'], inplace=True)\n",
    "med_care_df.drop(columns=['PATIENT'], inplace=True)\n",
    "all_immu_encou_df.drop(columns=['PATIENT'], inplace=True)\n",
    "# Create a 'CODE' column in conditions DataFrame\n",
    "patient_merge['TARGET'] = conditions['CONDITIONS_CODE'].apply(lambda code: 1 if code in conditions_code else 0)\n",
    "med_care_df['TARGET'] = conditions['CONDITIONS_CODE'].apply(lambda code: 1 if code in conditions_code else 0)\n",
    "all_immu_encou_df['TARGET'] = conditions['CONDITIONS_CODE'].apply(lambda code: 1 if code in conditions_code else 0)\n",
    "\n",
    "#fill any missing codes with 0 meaning there were no inputs\n",
    "patient_merge.fillna(0, inplace=True)\n",
    "med_care_df.fillna(0, inplace=True)\n",
    "all_immu_encou_df.fillna(0, inplace=True)\n"
   ]
  },
  {
   "cell_type": "code",
   "execution_count": 22,
   "metadata": {},
   "outputs": [
    {
     "name": "stdout",
     "output_type": "stream",
     "text": [
      "TARGET\n",
      "0    427910\n",
      "1    427910\n",
      "Name: count, dtype: int64\n"
     ]
    }
   ],
   "source": [
    "from imblearn.over_sampling import SMOTE\n",
    "\n",
    "X = patient_merge.drop(columns='TARGET')\n",
    "y = patient_merge['TARGET']\n",
    "\n",
    "# Instantiate the SMOTE\n",
    "smote = SMOTE(sampling_strategy='auto', random_state=42)\n",
    "\n",
    "# Fit and apply the SMOTE\n",
    "X_resampled, y_resampled = smote.fit_resample(X, y)\n",
    "\n",
    "# Create a new DataFrame with the balanced data\n",
    "balanced_df1 = pd.concat([pd.DataFrame(X_resampled, columns=X.columns), pd.Series(y_resampled, name='TARGET')], axis=1)\n",
    "\n",
    "# Check the balance\n",
    "print(balanced_df1['TARGET'].value_counts())"
   ]
  },
  {
   "cell_type": "code",
   "execution_count": 23,
   "metadata": {},
   "outputs": [
    {
     "name": "stdout",
     "output_type": "stream",
     "text": [
      "TARGET\n",
      "0.0    22608821\n",
      "1.0    22608821\n",
      "Name: count, dtype: int64\n"
     ]
    }
   ],
   "source": [
    "X = med_care_df.drop(columns='TARGET')\n",
    "y = med_care_df['TARGET']\n",
    "\n",
    "# Instantiate the SMOTE\n",
    "smote = SMOTE(sampling_strategy='auto', random_state=42)\n",
    "\n",
    "# Fit and apply the SMOTE\n",
    "X_resampled, y_resampled = smote.fit_resample(X, y)\n",
    "\n",
    "# Create a new DataFrame with the balanced data\n",
    "balanced_df2 = pd.concat([pd.DataFrame(X_resampled, columns=X.columns), pd.Series(y_resampled, name='TARGET')], axis=1)\n",
    "\n",
    "# Check the balance\n",
    "print(balanced_df2['TARGET'].value_counts())"
   ]
  },
  {
   "cell_type": "code",
   "execution_count": 24,
   "metadata": {},
   "outputs": [
    {
     "name": "stdout",
     "output_type": "stream",
     "text": [
      "TARGET\n",
      "0.0    65963899\n",
      "1.0    65963899\n",
      "Name: count, dtype: int64\n"
     ]
    }
   ],
   "source": [
    "X = all_immu_encou_df.drop(columns='TARGET')\n",
    "y = all_immu_encou_df['TARGET']\n",
    "\n",
    "# Instantiate the SMOTE\n",
    "smote = SMOTE(sampling_strategy='auto', random_state=42)\n",
    "\n",
    "# Fit and apply the SMOTE\n",
    "X_resampled, y_resampled = smote.fit_resample(X, y)\n",
    "\n",
    "# Create a new DataFrame with the balanced data\n",
    "balanced_df3 = pd.concat([pd.DataFrame(X_resampled, columns=X.columns), pd.Series(y_resampled, name='TARGET')], axis=1)\n",
    "\n",
    "# Check the balance\n",
    "print(balanced_df3['TARGET'].value_counts())"
   ]
  },
  {
   "cell_type": "code",
   "execution_count": 25,
   "metadata": {},
   "outputs": [
    {
     "data": {
      "text/html": [
       "<div>\n",
       "<style scoped>\n",
       "    .dataframe tbody tr th:only-of-type {\n",
       "        vertical-align: middle;\n",
       "    }\n",
       "\n",
       "    .dataframe tbody tr th {\n",
       "        vertical-align: top;\n",
       "    }\n",
       "\n",
       "    .dataframe thead th {\n",
       "        text-align: right;\n",
       "    }\n",
       "</style>\n",
       "<table border=\"1\" class=\"dataframe\">\n",
       "  <thead>\n",
       "    <tr style=\"text-align: right;\">\n",
       "      <th></th>\n",
       "      <th>PASSPORT</th>\n",
       "      <th>MARITAL</th>\n",
       "      <th>RACE</th>\n",
       "      <th>ETHNICITY</th>\n",
       "      <th>GENDER</th>\n",
       "      <th>BIRTHPLACE</th>\n",
       "      <th>ZIP</th>\n",
       "      <th>BODY_WEIGHT</th>\n",
       "      <th>BODY_HEIGHT</th>\n",
       "      <th>BMI</th>\n",
       "      <th>SYSTOLIC_BP</th>\n",
       "      <th>DIASTOLIC_BP</th>\n",
       "      <th>AGE</th>\n",
       "      <th>AGE_AT_DEATH</th>\n",
       "      <th>CONDITIONS_CODE</th>\n",
       "      <th>TARGET</th>\n",
       "    </tr>\n",
       "  </thead>\n",
       "  <tbody>\n",
       "    <tr>\n",
       "      <th>0</th>\n",
       "      <td>0</td>\n",
       "      <td>0</td>\n",
       "      <td>43</td>\n",
       "      <td>59</td>\n",
       "      <td>0</td>\n",
       "      <td>119</td>\n",
       "      <td>20810.0</td>\n",
       "      <td>73.54</td>\n",
       "      <td>163.07</td>\n",
       "      <td>27.66</td>\n",
       "      <td>101.0</td>\n",
       "      <td>75.0</td>\n",
       "      <td>26.0</td>\n",
       "      <td>0.0</td>\n",
       "      <td>39848009.0</td>\n",
       "      <td>0</td>\n",
       "    </tr>\n",
       "    <tr>\n",
       "      <th>1</th>\n",
       "      <td>0</td>\n",
       "      <td>0</td>\n",
       "      <td>43</td>\n",
       "      <td>59</td>\n",
       "      <td>0</td>\n",
       "      <td>119</td>\n",
       "      <td>20810.0</td>\n",
       "      <td>73.54</td>\n",
       "      <td>163.07</td>\n",
       "      <td>27.66</td>\n",
       "      <td>101.0</td>\n",
       "      <td>75.0</td>\n",
       "      <td>26.0</td>\n",
       "      <td>0.0</td>\n",
       "      <td>10509002.0</td>\n",
       "      <td>0</td>\n",
       "    </tr>\n",
       "    <tr>\n",
       "      <th>2</th>\n",
       "      <td>0</td>\n",
       "      <td>0</td>\n",
       "      <td>43</td>\n",
       "      <td>59</td>\n",
       "      <td>0</td>\n",
       "      <td>119</td>\n",
       "      <td>20810.0</td>\n",
       "      <td>73.54</td>\n",
       "      <td>163.07</td>\n",
       "      <td>27.66</td>\n",
       "      <td>101.0</td>\n",
       "      <td>75.0</td>\n",
       "      <td>26.0</td>\n",
       "      <td>0.0</td>\n",
       "      <td>444814009.0</td>\n",
       "      <td>0</td>\n",
       "    </tr>\n",
       "    <tr>\n",
       "      <th>3</th>\n",
       "      <td>0</td>\n",
       "      <td>0</td>\n",
       "      <td>43</td>\n",
       "      <td>59</td>\n",
       "      <td>0</td>\n",
       "      <td>119</td>\n",
       "      <td>20810.0</td>\n",
       "      <td>73.54</td>\n",
       "      <td>163.07</td>\n",
       "      <td>27.66</td>\n",
       "      <td>101.0</td>\n",
       "      <td>75.0</td>\n",
       "      <td>26.0</td>\n",
       "      <td>0.0</td>\n",
       "      <td>38341003.0</td>\n",
       "      <td>0</td>\n",
       "    </tr>\n",
       "    <tr>\n",
       "      <th>4</th>\n",
       "      <td>0</td>\n",
       "      <td>0</td>\n",
       "      <td>43</td>\n",
       "      <td>59</td>\n",
       "      <td>0</td>\n",
       "      <td>119</td>\n",
       "      <td>20810.0</td>\n",
       "      <td>73.54</td>\n",
       "      <td>163.07</td>\n",
       "      <td>27.66</td>\n",
       "      <td>101.0</td>\n",
       "      <td>75.0</td>\n",
       "      <td>26.0</td>\n",
       "      <td>0.0</td>\n",
       "      <td>283371005.0</td>\n",
       "      <td>0</td>\n",
       "    </tr>\n",
       "  </tbody>\n",
       "</table>\n",
       "</div>"
      ],
      "text/plain": [
       "   PASSPORT  MARITAL  RACE  ETHNICITY  GENDER  BIRTHPLACE      ZIP  \\\n",
       "0         0        0    43         59       0         119  20810.0   \n",
       "1         0        0    43         59       0         119  20810.0   \n",
       "2         0        0    43         59       0         119  20810.0   \n",
       "3         0        0    43         59       0         119  20810.0   \n",
       "4         0        0    43         59       0         119  20810.0   \n",
       "\n",
       "   BODY_WEIGHT  BODY_HEIGHT    BMI  SYSTOLIC_BP  DIASTOLIC_BP   AGE  \\\n",
       "0        73.54       163.07  27.66        101.0          75.0  26.0   \n",
       "1        73.54       163.07  27.66        101.0          75.0  26.0   \n",
       "2        73.54       163.07  27.66        101.0          75.0  26.0   \n",
       "3        73.54       163.07  27.66        101.0          75.0  26.0   \n",
       "4        73.54       163.07  27.66        101.0          75.0  26.0   \n",
       "\n",
       "   AGE_AT_DEATH  CONDITIONS_CODE  TARGET  \n",
       "0           0.0       39848009.0       0  \n",
       "1           0.0       10509002.0       0  \n",
       "2           0.0      444814009.0       0  \n",
       "3           0.0       38341003.0       0  \n",
       "4           0.0      283371005.0       0  "
      ]
     },
     "execution_count": 25,
     "metadata": {},
     "output_type": "execute_result"
    }
   ],
   "source": [
    "balanced_df1.head()"
   ]
  },
  {
   "cell_type": "code",
   "execution_count": 26,
   "metadata": {},
   "outputs": [
    {
     "data": {
      "text/html": [
       "<div>\n",
       "<style scoped>\n",
       "    .dataframe tbody tr th:only-of-type {\n",
       "        vertical-align: middle;\n",
       "    }\n",
       "\n",
       "    .dataframe tbody tr th {\n",
       "        vertical-align: top;\n",
       "    }\n",
       "\n",
       "    .dataframe thead th {\n",
       "        text-align: right;\n",
       "    }\n",
       "</style>\n",
       "<table border=\"1\" class=\"dataframe\">\n",
       "  <thead>\n",
       "    <tr style=\"text-align: right;\">\n",
       "      <th></th>\n",
       "      <th>CAREPLANS_CODE</th>\n",
       "      <th>CAREPLANS_REASONCODE</th>\n",
       "      <th>MEDICATIONS_CODE</th>\n",
       "      <th>MEDICATIONS_REASONCODE</th>\n",
       "      <th>CONDITIONS_CODE</th>\n",
       "      <th>TARGET</th>\n",
       "    </tr>\n",
       "  </thead>\n",
       "  <tbody>\n",
       "    <tr>\n",
       "      <th>0</th>\n",
       "      <td>872781000000100</td>\n",
       "      <td>39848009.0</td>\n",
       "      <td>834060.0</td>\n",
       "      <td>43878008.0</td>\n",
       "      <td>39848009.0</td>\n",
       "      <td>0.0</td>\n",
       "    </tr>\n",
       "    <tr>\n",
       "      <th>1</th>\n",
       "      <td>872781000000100</td>\n",
       "      <td>39848009.0</td>\n",
       "      <td>834060.0</td>\n",
       "      <td>43878008.0</td>\n",
       "      <td>10509002.0</td>\n",
       "      <td>0.0</td>\n",
       "    </tr>\n",
       "    <tr>\n",
       "      <th>2</th>\n",
       "      <td>872781000000100</td>\n",
       "      <td>39848009.0</td>\n",
       "      <td>834060.0</td>\n",
       "      <td>43878008.0</td>\n",
       "      <td>444814009.0</td>\n",
       "      <td>0.0</td>\n",
       "    </tr>\n",
       "    <tr>\n",
       "      <th>3</th>\n",
       "      <td>872781000000100</td>\n",
       "      <td>39848009.0</td>\n",
       "      <td>834060.0</td>\n",
       "      <td>43878008.0</td>\n",
       "      <td>38341003.0</td>\n",
       "      <td>0.0</td>\n",
       "    </tr>\n",
       "    <tr>\n",
       "      <th>4</th>\n",
       "      <td>872781000000100</td>\n",
       "      <td>39848009.0</td>\n",
       "      <td>834060.0</td>\n",
       "      <td>43878008.0</td>\n",
       "      <td>283371005.0</td>\n",
       "      <td>0.0</td>\n",
       "    </tr>\n",
       "  </tbody>\n",
       "</table>\n",
       "</div>"
      ],
      "text/plain": [
       "    CAREPLANS_CODE  CAREPLANS_REASONCODE  MEDICATIONS_CODE  \\\n",
       "0  872781000000100            39848009.0          834060.0   \n",
       "1  872781000000100            39848009.0          834060.0   \n",
       "2  872781000000100            39848009.0          834060.0   \n",
       "3  872781000000100            39848009.0          834060.0   \n",
       "4  872781000000100            39848009.0          834060.0   \n",
       "\n",
       "   MEDICATIONS_REASONCODE  CONDITIONS_CODE  TARGET  \n",
       "0              43878008.0       39848009.0     0.0  \n",
       "1              43878008.0       10509002.0     0.0  \n",
       "2              43878008.0      444814009.0     0.0  \n",
       "3              43878008.0       38341003.0     0.0  \n",
       "4              43878008.0      283371005.0     0.0  "
      ]
     },
     "execution_count": 26,
     "metadata": {},
     "output_type": "execute_result"
    }
   ],
   "source": [
    "balanced_df2.head()"
   ]
  },
  {
   "cell_type": "code",
   "execution_count": 27,
   "metadata": {},
   "outputs": [
    {
     "data": {
      "text/html": [
       "<div>\n",
       "<style scoped>\n",
       "    .dataframe tbody tr th:only-of-type {\n",
       "        vertical-align: middle;\n",
       "    }\n",
       "\n",
       "    .dataframe tbody tr th {\n",
       "        vertical-align: top;\n",
       "    }\n",
       "\n",
       "    .dataframe thead th {\n",
       "        text-align: right;\n",
       "    }\n",
       "</style>\n",
       "<table border=\"1\" class=\"dataframe\">\n",
       "  <thead>\n",
       "    <tr style=\"text-align: right;\">\n",
       "      <th></th>\n",
       "      <th>ALLERGIES_CODE</th>\n",
       "      <th>IMMUNIZATIONS_CODE</th>\n",
       "      <th>ENCOUNTERS_CODE</th>\n",
       "      <th>ENCOUNTERS_REASONCODE</th>\n",
       "      <th>CONDITIONS_CODE</th>\n",
       "      <th>TARGET</th>\n",
       "    </tr>\n",
       "  </thead>\n",
       "  <tbody>\n",
       "    <tr>\n",
       "      <th>0</th>\n",
       "      <td>91930004</td>\n",
       "      <td>140.0</td>\n",
       "      <td>371883000</td>\n",
       "      <td>0.0</td>\n",
       "      <td>232353008.0</td>\n",
       "      <td>0.0</td>\n",
       "    </tr>\n",
       "    <tr>\n",
       "      <th>1</th>\n",
       "      <td>91930004</td>\n",
       "      <td>140.0</td>\n",
       "      <td>371883000</td>\n",
       "      <td>0.0</td>\n",
       "      <td>74400008.0</td>\n",
       "      <td>0.0</td>\n",
       "    </tr>\n",
       "    <tr>\n",
       "      <th>2</th>\n",
       "      <td>91930004</td>\n",
       "      <td>140.0</td>\n",
       "      <td>371883000</td>\n",
       "      <td>0.0</td>\n",
       "      <td>428251008.0</td>\n",
       "      <td>0.0</td>\n",
       "    </tr>\n",
       "    <tr>\n",
       "      <th>3</th>\n",
       "      <td>91930004</td>\n",
       "      <td>140.0</td>\n",
       "      <td>185347001</td>\n",
       "      <td>0.0</td>\n",
       "      <td>232353008.0</td>\n",
       "      <td>0.0</td>\n",
       "    </tr>\n",
       "    <tr>\n",
       "      <th>4</th>\n",
       "      <td>91930004</td>\n",
       "      <td>140.0</td>\n",
       "      <td>185347001</td>\n",
       "      <td>0.0</td>\n",
       "      <td>74400008.0</td>\n",
       "      <td>0.0</td>\n",
       "    </tr>\n",
       "  </tbody>\n",
       "</table>\n",
       "</div>"
      ],
      "text/plain": [
       "   ALLERGIES_CODE  IMMUNIZATIONS_CODE  ENCOUNTERS_CODE  ENCOUNTERS_REASONCODE  \\\n",
       "0        91930004               140.0        371883000                    0.0   \n",
       "1        91930004               140.0        371883000                    0.0   \n",
       "2        91930004               140.0        371883000                    0.0   \n",
       "3        91930004               140.0        185347001                    0.0   \n",
       "4        91930004               140.0        185347001                    0.0   \n",
       "\n",
       "   CONDITIONS_CODE  TARGET  \n",
       "0      232353008.0     0.0  \n",
       "1       74400008.0     0.0  \n",
       "2      428251008.0     0.0  \n",
       "3      232353008.0     0.0  \n",
       "4       74400008.0     0.0  "
      ]
     },
     "execution_count": 27,
     "metadata": {},
     "output_type": "execute_result"
    }
   ],
   "source": [
    "balanced_df3.head()"
   ]
  },
  {
   "cell_type": "code",
   "execution_count": 28,
   "metadata": {},
   "outputs": [],
   "source": [
    "features1 = ['PASSPORT','MARITAL','RACE','ETHNICITY','GENDER','BIRTHPLACE','ZIP','BODY_WEIGHT','BODY_HEIGHT','BMI','SYSTOLIC_BP','DIASTOLIC_BP','AGE','AGE_AT_DEATH','CONDITIONS_CODE']\n",
    "features2 = ['CAREPLANS_CODE', 'CAREPLANS_REASONCODE', 'MEDICATIONS_CODE', 'MEDICATIONS_REASONCODE', 'CONDITIONS_CODE']\n",
    "features3 = ['ALLERGIES_CODE', 'IMMUNIZATIONS_CODE', 'ENCOUNTERS_CODE', 'ENCOUNTERS_REASONCODE', 'CONDITIONS_CODE']\n",
    "Y1 = balanced_df1['TARGET']\n",
    "Y2 = balanced_df2['TARGET']\n",
    "Y3 = balanced_df3['TARGET']\n",
    "X1 = balanced_df1[features1]\n",
    "X2 = balanced_df2[features2]\n",
    "X3 = balanced_df3[features3]\n",
    "# Split the data into training and test sets\n",
    "X_train1, X_test1, Y_train1, Y_test1 = train_test_split(X1, Y1, test_size=0.2, random_state=42)\n",
    "X_train2, X_test2, Y_train2, Y_test2 = train_test_split(X2, Y2, test_size=0.2, random_state=42)\n",
    "X_train3, X_test3, Y_train3, Y_test3 = train_test_split(X3, Y3, test_size=0.2, random_state=42)"
   ]
  },
  {
   "cell_type": "code",
   "execution_count": 29,
   "metadata": {},
   "outputs": [],
   "source": [
    "from sklearn.preprocessing import StandardScaler\n",
    "scaler = StandardScaler()\n",
    "\n",
    "X_train1_scaled = scaler.fit_transform(X_train1)\n",
    "X_test_1scaled = scaler.transform(X_test1)"
   ]
  },
  {
   "cell_type": "code",
   "execution_count": 30,
   "metadata": {},
   "outputs": [],
   "source": [
    "X_train2_scaled = scaler.fit_transform(X_train2)\n",
    "X_test2_scaled = scaler.transform(X_test2)"
   ]
  },
  {
   "cell_type": "code",
   "execution_count": 31,
   "metadata": {},
   "outputs": [],
   "source": [
    "X_train3_scaled = scaler.fit_transform(X_train3)\n",
    "X_test3_scaled = scaler.transform(X_test3)"
   ]
  },
  {
   "cell_type": "code",
   "execution_count": 32,
   "metadata": {},
   "outputs": [],
   "source": [
    "# Intitiate the logistic regression model\n",
    "lr_model1 = LogisticRegression()\n",
    "lr_model2 = LogisticRegression()"
   ]
  },
  {
   "cell_type": "code",
   "execution_count": 33,
   "metadata": {},
   "outputs": [
    {
     "data": {
      "text/html": [
       "<style>#sk-container-id-1 {color: black;}#sk-container-id-1 pre{padding: 0;}#sk-container-id-1 div.sk-toggleable {background-color: white;}#sk-container-id-1 label.sk-toggleable__label {cursor: pointer;display: block;width: 100%;margin-bottom: 0;padding: 0.3em;box-sizing: border-box;text-align: center;}#sk-container-id-1 label.sk-toggleable__label-arrow:before {content: \"▸\";float: left;margin-right: 0.25em;color: #696969;}#sk-container-id-1 label.sk-toggleable__label-arrow:hover:before {color: black;}#sk-container-id-1 div.sk-estimator:hover label.sk-toggleable__label-arrow:before {color: black;}#sk-container-id-1 div.sk-toggleable__content {max-height: 0;max-width: 0;overflow: hidden;text-align: left;background-color: #f0f8ff;}#sk-container-id-1 div.sk-toggleable__content pre {margin: 0.2em;color: black;border-radius: 0.25em;background-color: #f0f8ff;}#sk-container-id-1 input.sk-toggleable__control:checked~div.sk-toggleable__content {max-height: 200px;max-width: 100%;overflow: auto;}#sk-container-id-1 input.sk-toggleable__control:checked~label.sk-toggleable__label-arrow:before {content: \"▾\";}#sk-container-id-1 div.sk-estimator input.sk-toggleable__control:checked~label.sk-toggleable__label {background-color: #d4ebff;}#sk-container-id-1 div.sk-label input.sk-toggleable__control:checked~label.sk-toggleable__label {background-color: #d4ebff;}#sk-container-id-1 input.sk-hidden--visually {border: 0;clip: rect(1px 1px 1px 1px);clip: rect(1px, 1px, 1px, 1px);height: 1px;margin: -1px;overflow: hidden;padding: 0;position: absolute;width: 1px;}#sk-container-id-1 div.sk-estimator {font-family: monospace;background-color: #f0f8ff;border: 1px dotted black;border-radius: 0.25em;box-sizing: border-box;margin-bottom: 0.5em;}#sk-container-id-1 div.sk-estimator:hover {background-color: #d4ebff;}#sk-container-id-1 div.sk-parallel-item::after {content: \"\";width: 100%;border-bottom: 1px solid gray;flex-grow: 1;}#sk-container-id-1 div.sk-label:hover label.sk-toggleable__label {background-color: #d4ebff;}#sk-container-id-1 div.sk-serial::before {content: \"\";position: absolute;border-left: 1px solid gray;box-sizing: border-box;top: 0;bottom: 0;left: 50%;z-index: 0;}#sk-container-id-1 div.sk-serial {display: flex;flex-direction: column;align-items: center;background-color: white;padding-right: 0.2em;padding-left: 0.2em;position: relative;}#sk-container-id-1 div.sk-item {position: relative;z-index: 1;}#sk-container-id-1 div.sk-parallel {display: flex;align-items: stretch;justify-content: center;background-color: white;position: relative;}#sk-container-id-1 div.sk-item::before, #sk-container-id-1 div.sk-parallel-item::before {content: \"\";position: absolute;border-left: 1px solid gray;box-sizing: border-box;top: 0;bottom: 0;left: 50%;z-index: -1;}#sk-container-id-1 div.sk-parallel-item {display: flex;flex-direction: column;z-index: 1;position: relative;background-color: white;}#sk-container-id-1 div.sk-parallel-item:first-child::after {align-self: flex-end;width: 50%;}#sk-container-id-1 div.sk-parallel-item:last-child::after {align-self: flex-start;width: 50%;}#sk-container-id-1 div.sk-parallel-item:only-child::after {width: 0;}#sk-container-id-1 div.sk-dashed-wrapped {border: 1px dashed gray;margin: 0 0.4em 0.5em 0.4em;box-sizing: border-box;padding-bottom: 0.4em;background-color: white;}#sk-container-id-1 div.sk-label label {font-family: monospace;font-weight: bold;display: inline-block;line-height: 1.2em;}#sk-container-id-1 div.sk-label-container {text-align: center;}#sk-container-id-1 div.sk-container {/* jupyter's `normalize.less` sets `[hidden] { display: none; }` but bootstrap.min.css set `[hidden] { display: none !important; }` so we also need the `!important` here to be able to override the default hidden behavior on the sphinx rendered scikit-learn.org. See: https://github.com/scikit-learn/scikit-learn/issues/21755 */display: inline-block !important;position: relative;}#sk-container-id-1 div.sk-text-repr-fallback {display: none;}</style><div id=\"sk-container-id-1\" class=\"sk-top-container\"><div class=\"sk-text-repr-fallback\"><pre>LogisticRegression()</pre><b>In a Jupyter environment, please rerun this cell to show the HTML representation or trust the notebook. <br />On GitHub, the HTML representation is unable to render, please try loading this page with nbviewer.org.</b></div><div class=\"sk-container\" hidden><div class=\"sk-item\"><div class=\"sk-estimator sk-toggleable\"><input class=\"sk-toggleable__control sk-hidden--visually\" id=\"sk-estimator-id-1\" type=\"checkbox\" checked><label for=\"sk-estimator-id-1\" class=\"sk-toggleable__label sk-toggleable__label-arrow\">LogisticRegression</label><div class=\"sk-toggleable__content\"><pre>LogisticRegression()</pre></div></div></div></div></div>"
      ],
      "text/plain": [
       "LogisticRegression()"
      ]
     },
     "execution_count": 33,
     "metadata": {},
     "output_type": "execute_result"
    }
   ],
   "source": [
    "# Train the bagging model\n",
    "lr_model1.fit(X_train1_scaled, Y_train1)"
   ]
  },
  {
   "cell_type": "code",
   "execution_count": 34,
   "metadata": {},
   "outputs": [
    {
     "data": {
      "text/html": [
       "<style>#sk-container-id-2 {color: black;}#sk-container-id-2 pre{padding: 0;}#sk-container-id-2 div.sk-toggleable {background-color: white;}#sk-container-id-2 label.sk-toggleable__label {cursor: pointer;display: block;width: 100%;margin-bottom: 0;padding: 0.3em;box-sizing: border-box;text-align: center;}#sk-container-id-2 label.sk-toggleable__label-arrow:before {content: \"▸\";float: left;margin-right: 0.25em;color: #696969;}#sk-container-id-2 label.sk-toggleable__label-arrow:hover:before {color: black;}#sk-container-id-2 div.sk-estimator:hover label.sk-toggleable__label-arrow:before {color: black;}#sk-container-id-2 div.sk-toggleable__content {max-height: 0;max-width: 0;overflow: hidden;text-align: left;background-color: #f0f8ff;}#sk-container-id-2 div.sk-toggleable__content pre {margin: 0.2em;color: black;border-radius: 0.25em;background-color: #f0f8ff;}#sk-container-id-2 input.sk-toggleable__control:checked~div.sk-toggleable__content {max-height: 200px;max-width: 100%;overflow: auto;}#sk-container-id-2 input.sk-toggleable__control:checked~label.sk-toggleable__label-arrow:before {content: \"▾\";}#sk-container-id-2 div.sk-estimator input.sk-toggleable__control:checked~label.sk-toggleable__label {background-color: #d4ebff;}#sk-container-id-2 div.sk-label input.sk-toggleable__control:checked~label.sk-toggleable__label {background-color: #d4ebff;}#sk-container-id-2 input.sk-hidden--visually {border: 0;clip: rect(1px 1px 1px 1px);clip: rect(1px, 1px, 1px, 1px);height: 1px;margin: -1px;overflow: hidden;padding: 0;position: absolute;width: 1px;}#sk-container-id-2 div.sk-estimator {font-family: monospace;background-color: #f0f8ff;border: 1px dotted black;border-radius: 0.25em;box-sizing: border-box;margin-bottom: 0.5em;}#sk-container-id-2 div.sk-estimator:hover {background-color: #d4ebff;}#sk-container-id-2 div.sk-parallel-item::after {content: \"\";width: 100%;border-bottom: 1px solid gray;flex-grow: 1;}#sk-container-id-2 div.sk-label:hover label.sk-toggleable__label {background-color: #d4ebff;}#sk-container-id-2 div.sk-serial::before {content: \"\";position: absolute;border-left: 1px solid gray;box-sizing: border-box;top: 0;bottom: 0;left: 50%;z-index: 0;}#sk-container-id-2 div.sk-serial {display: flex;flex-direction: column;align-items: center;background-color: white;padding-right: 0.2em;padding-left: 0.2em;position: relative;}#sk-container-id-2 div.sk-item {position: relative;z-index: 1;}#sk-container-id-2 div.sk-parallel {display: flex;align-items: stretch;justify-content: center;background-color: white;position: relative;}#sk-container-id-2 div.sk-item::before, #sk-container-id-2 div.sk-parallel-item::before {content: \"\";position: absolute;border-left: 1px solid gray;box-sizing: border-box;top: 0;bottom: 0;left: 50%;z-index: -1;}#sk-container-id-2 div.sk-parallel-item {display: flex;flex-direction: column;z-index: 1;position: relative;background-color: white;}#sk-container-id-2 div.sk-parallel-item:first-child::after {align-self: flex-end;width: 50%;}#sk-container-id-2 div.sk-parallel-item:last-child::after {align-self: flex-start;width: 50%;}#sk-container-id-2 div.sk-parallel-item:only-child::after {width: 0;}#sk-container-id-2 div.sk-dashed-wrapped {border: 1px dashed gray;margin: 0 0.4em 0.5em 0.4em;box-sizing: border-box;padding-bottom: 0.4em;background-color: white;}#sk-container-id-2 div.sk-label label {font-family: monospace;font-weight: bold;display: inline-block;line-height: 1.2em;}#sk-container-id-2 div.sk-label-container {text-align: center;}#sk-container-id-2 div.sk-container {/* jupyter's `normalize.less` sets `[hidden] { display: none; }` but bootstrap.min.css set `[hidden] { display: none !important; }` so we also need the `!important` here to be able to override the default hidden behavior on the sphinx rendered scikit-learn.org. See: https://github.com/scikit-learn/scikit-learn/issues/21755 */display: inline-block !important;position: relative;}#sk-container-id-2 div.sk-text-repr-fallback {display: none;}</style><div id=\"sk-container-id-2\" class=\"sk-top-container\"><div class=\"sk-text-repr-fallback\"><pre>LogisticRegression()</pre><b>In a Jupyter environment, please rerun this cell to show the HTML representation or trust the notebook. <br />On GitHub, the HTML representation is unable to render, please try loading this page with nbviewer.org.</b></div><div class=\"sk-container\" hidden><div class=\"sk-item\"><div class=\"sk-estimator sk-toggleable\"><input class=\"sk-toggleable__control sk-hidden--visually\" id=\"sk-estimator-id-2\" type=\"checkbox\" checked><label for=\"sk-estimator-id-2\" class=\"sk-toggleable__label sk-toggleable__label-arrow\">LogisticRegression</label><div class=\"sk-toggleable__content\"><pre>LogisticRegression()</pre></div></div></div></div></div>"
      ],
      "text/plain": [
       "LogisticRegression()"
      ]
     },
     "execution_count": 34,
     "metadata": {},
     "output_type": "execute_result"
    }
   ],
   "source": [
    "# Train the bagging model\n",
    "lr_model2.fit(X_train2_scaled, Y_train2)"
   ]
  },
  {
   "cell_type": "code",
   "execution_count": 35,
   "metadata": {},
   "outputs": [],
   "source": [
    "\n",
    "#crashed on LR model3 using SGDC to do a incremental training to fix this\n",
    "from sklearn.linear_model import SGDClassifier\n",
    "clf = SGDClassifier(loss='log_loss', random_state=42, max_iter=1000, tol=1e-3)\n",
    "# Incremental training\n",
    "batch_size = 1000\n",
    "for i in range(0, len(X_train3), batch_size):\n",
    "    X_batch = X_train3.iloc[i:i+batch_size, :]\n",
    "    y_batch = Y_train3.iloc[i:i+batch_size]\n",
    "    clf.partial_fit(X_batch, y_batch, classes=[0, 1])\n",
    "\n"
   ]
  },
  {
   "cell_type": "code",
   "execution_count": 36,
   "metadata": {},
   "outputs": [
    {
     "name": "stderr",
     "output_type": "stream",
     "text": [
      "/Users/shawngoforth/anaconda3/lib/python3.11/site-packages/sklearn/base.py:458: UserWarning: X has feature names, but LogisticRegression was fitted without feature names\n",
      "  warnings.warn(\n",
      "/Users/shawngoforth/anaconda3/lib/python3.11/site-packages/sklearn/base.py:458: UserWarning: X has feature names, but LogisticRegression was fitted without feature names\n",
      "  warnings.warn(\n"
     ]
    }
   ],
   "source": [
    "# Predict on the test set\n",
    "Y_pred1 = lr_model1.predict(X_test1)\n",
    "Y_pred2 = lr_model2.predict(X_test2)\n",
    "#Y_pred3 = lr_model3.predict(X_test3)\n",
    "Y_pred3 = clf.predict(X_test3)"
   ]
  },
  {
   "cell_type": "code",
   "execution_count": 37,
   "metadata": {},
   "outputs": [],
   "source": [
    "# Get each accuracy score from the 3 data sets\n",
    "accuracy1 = accuracy_score(Y_test1, Y_pred1)\n",
    "accuracy2 = accuracy_score(Y_test2, Y_pred2)\n",
    "#accuracy3 = accuracy_score(Y_test3, Y_pred3)\n",
    "accuracy3 = accuracy_score(Y_test3, Y_pred3)"
   ]
  },
  {
   "cell_type": "code",
   "execution_count": 38,
   "metadata": {},
   "outputs": [
    {
     "name": "stdout",
     "output_type": "stream",
     "text": [
      "Patients Model Report:\n",
      "              precision    recall  f1-score   support\n",
      "\n",
      "           0       0.46      0.01      0.01     85518\n",
      "           1       0.50      0.99      0.67     85646\n",
      "\n",
      "    accuracy                           0.50    171164\n",
      "   macro avg       0.48      0.50      0.34    171164\n",
      "weighted avg       0.48      0.50      0.34    171164\n",
      "\n",
      "Accuracy: 0.49984809889930126\n",
      "\n",
      "\n"
     ]
    }
   ],
   "source": [
    "print(f\"Patients Model Report:\")\n",
    "print(classification_report(Y_test1, Y_pred1))\n",
    "print(\"Accuracy:\", accuracy1)\n",
    "print(\"\\n\")"
   ]
  },
  {
   "cell_type": "code",
   "execution_count": 39,
   "metadata": {},
   "outputs": [
    {
     "name": "stdout",
     "output_type": "stream",
     "text": [
      "Medications/CarePlans Model Report:\n",
      "              precision    recall  f1-score   support\n",
      "\n",
      "         0.0       0.47      0.55      0.51   4520726\n",
      "         1.0       0.46      0.39      0.42   4522803\n",
      "\n",
      "    accuracy                           0.47   9043529\n",
      "   macro avg       0.47      0.47      0.46   9043529\n",
      "weighted avg       0.47      0.47      0.46   9043529\n",
      "\n",
      "Accuracy: 0.46742681977356404\n",
      "\n",
      "\n"
     ]
    }
   ],
   "source": [
    "print(f\"Medications/CarePlans Model Report:\")\n",
    "print(classification_report(Y_test2, Y_pred2))\n",
    "print(\"Accuracy:\", accuracy2)\n",
    "print(\"\\n\")"
   ]
  },
  {
   "cell_type": "code",
   "execution_count": 40,
   "metadata": {},
   "outputs": [
    {
     "name": "stdout",
     "output_type": "stream",
     "text": [
      "Allergies/Immunizations/Encounters Model Report:\n"
     ]
    },
    {
     "name": "stdout",
     "output_type": "stream",
     "text": [
      "              precision    recall  f1-score   support\n",
      "\n",
      "         0.0       0.48      0.67      0.56  13193700\n",
      "         1.0       0.46      0.28      0.35  13191860\n",
      "\n",
      "    accuracy                           0.47  26385560\n",
      "   macro avg       0.47      0.47      0.45  26385560\n",
      "weighted avg       0.47      0.47      0.45  26385560\n",
      "\n",
      "Accuracy: 0.47260713814677424\n",
      "\n",
      "\n"
     ]
    }
   ],
   "source": [
    "print(f\"Allergies/Immunizations/Encounters Model Report:\")\n",
    "print(classification_report(Y_test3, Y_pred3))\n",
    "print(\"Accuracy:\", accuracy3)\n",
    "print(\"\\n\")"
   ]
  },
  {
   "cell_type": "code",
   "execution_count": 41,
   "metadata": {},
   "outputs": [
    {
     "name": "stdout",
     "output_type": "stream",
     "text": [
      "[[-0.49817227 -0.51607132 -0.09014324 -0.07776971 -0.47747404  0.02547673\n",
      "  -0.01950067  0.02857654  0.00519281  0.00408341  0.01273696 -0.00836325\n",
      "   0.39176771 -0.08342518  0.03076314]]\n"
     ]
    }
   ],
   "source": [
    "coefficients1 = lr_model1.coef_\n",
    "print(coefficients1)"
   ]
  },
  {
   "cell_type": "code",
   "execution_count": 42,
   "metadata": {},
   "outputs": [
    {
     "name": "stdout",
     "output_type": "stream",
     "text": [
      "[[ 0.02831056  0.04458448  0.17357429 -0.17208068 -0.0347646 ]]\n"
     ]
    }
   ],
   "source": [
    "coefficients2 = lr_model2.coef_\n",
    "print(coefficients2)"
   ]
  },
  {
   "cell_type": "code",
   "execution_count": 43,
   "metadata": {},
   "outputs": [
    {
     "name": "stdout",
     "output_type": "stream",
     "text": [
      "[[ 6.39293215e+09 -2.67621402e+03  5.13915011e+08 -2.78087108e+10\n",
      "  -1.89094047e+10]]\n"
     ]
    }
   ],
   "source": [
    "coefficients3 = clf.coef_\n",
    "print(coefficients3)"
   ]
  }
 ],
 "metadata": {
  "kernelspec": {
   "display_name": "Python 3 (ipykernel)",
   "language": "python",
   "name": "python3"
  },
  "language_info": {
   "codemirror_mode": {
    "name": "ipython",
    "version": 3
   },
   "file_extension": ".py",
   "mimetype": "text/x-python",
   "name": "python",
   "nbconvert_exporter": "python",
   "pygments_lexer": "ipython3",
   "version": "3.11.5"
  }
 },
 "nbformat": 4,
 "nbformat_minor": 4
}
