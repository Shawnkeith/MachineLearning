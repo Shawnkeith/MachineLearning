{
 "cells": [
  {
   "cell_type": "code",
   "execution_count": 1,
   "metadata": {},
   "outputs": [
    {
     "data": {
      "text/html": [
       "<div>\n",
       "<style scoped>\n",
       "    .dataframe tbody tr th:only-of-type {\n",
       "        vertical-align: middle;\n",
       "    }\n",
       "\n",
       "    .dataframe tbody tr th {\n",
       "        vertical-align: top;\n",
       "    }\n",
       "\n",
       "    .dataframe thead th {\n",
       "        text-align: right;\n",
       "    }\n",
       "</style>\n",
       "<table border=\"1\" class=\"dataframe\">\n",
       "  <thead>\n",
       "    <tr style=\"text-align: right;\">\n",
       "      <th></th>\n",
       "      <th>ID</th>\n",
       "      <th>BIRTHDATE</th>\n",
       "      <th>DEATHDATE</th>\n",
       "      <th>PASSPORT</th>\n",
       "      <th>MARITAL</th>\n",
       "      <th>RACE</th>\n",
       "      <th>ETHNICITY</th>\n",
       "      <th>GENDER</th>\n",
       "      <th>BIRTHPLACE</th>\n",
       "      <th>ZIP</th>\n",
       "      <th>...</th>\n",
       "      <th>ALLERGIES_CODE</th>\n",
       "      <th>IMMUNIZATIONS_CODE</th>\n",
       "      <th>CAREPLANS_CODE</th>\n",
       "      <th>CAREPLANS_REASONCODE</th>\n",
       "      <th>BODY_WEIGHT</th>\n",
       "      <th>BODY_HEIGHT</th>\n",
       "      <th>BMI</th>\n",
       "      <th>SYSTOLIC_BP</th>\n",
       "      <th>DIASTOLIC_BP</th>\n",
       "      <th>OBSERVATIONS_CODE</th>\n",
       "    </tr>\n",
       "  </thead>\n",
       "  <tbody>\n",
       "    <tr>\n",
       "      <th>0</th>\n",
       "      <td>660bec03-9e58-47f2-98b9-2f1c564f3838</td>\n",
       "      <td>1996-07-26</td>\n",
       "      <td>NaN</td>\n",
       "      <td>false</td>\n",
       "      <td>NaN</td>\n",
       "      <td>white</td>\n",
       "      <td>irish</td>\n",
       "      <td>F</td>\n",
       "      <td>Fitchburg MA US</td>\n",
       "      <td>20810.0</td>\n",
       "      <td>...</td>\n",
       "      <td>NaN</td>\n",
       "      <td>[140, 140, 140, 114, 140, 140, 140, 140]</td>\n",
       "      <td>[872781000000100, 266694003, 183051005, 539500...</td>\n",
       "      <td>[39848009.0, 39848009.0, 39848009.0, 10509002....</td>\n",
       "      <td>73.54</td>\n",
       "      <td>163.07</td>\n",
       "      <td>27.66</td>\n",
       "      <td>101.0</td>\n",
       "      <td>75.0</td>\n",
       "      <td>['8302-2', '29463-7', '39156-5', '8480-6', '84...</td>\n",
       "    </tr>\n",
       "    <tr>\n",
       "      <th>1</th>\n",
       "      <td>5125d2b2-3aef-4ae2-aa5c-335f7e206b92</td>\n",
       "      <td>1996-09-24</td>\n",
       "      <td>NaN</td>\n",
       "      <td>false</td>\n",
       "      <td>NaN</td>\n",
       "      <td>white</td>\n",
       "      <td>french_canadian</td>\n",
       "      <td>F</td>\n",
       "      <td>Westborough MA US</td>\n",
       "      <td>2638.0</td>\n",
       "      <td>...</td>\n",
       "      <td>[91930004, 419263009, 424213003]</td>\n",
       "      <td>[140, 62, 140, 140, 114, 140, 140, 140, 140]</td>\n",
       "      <td>[326051000000105, 409002, 58332002, 3260510000...</td>\n",
       "      <td>[nan, nan, nan, nan, nan, nan, nan]</td>\n",
       "      <td>17.33</td>\n",
       "      <td>95.92</td>\n",
       "      <td>18.84</td>\n",
       "      <td>137.0</td>\n",
       "      <td>89.0</td>\n",
       "      <td>['8302-2', '29463-7', '39156-5', '8480-6', '84...</td>\n",
       "    </tr>\n",
       "    <tr>\n",
       "      <th>2</th>\n",
       "      <td>26626faf-cbd5-48d5-a3bf-a7b21ae08e4b</td>\n",
       "      <td>1944-09-01</td>\n",
       "      <td>2015-09-04</td>\n",
       "      <td>X19963891X</td>\n",
       "      <td>M</td>\n",
       "      <td>white</td>\n",
       "      <td>irish</td>\n",
       "      <td>M</td>\n",
       "      <td>Fall River MA US</td>\n",
       "      <td>23401.0</td>\n",
       "      <td>...</td>\n",
       "      <td>NaN</td>\n",
       "      <td>[133, 140, 33, 140, 140, 140, 140]</td>\n",
       "      <td>[133901003, 385949008, 440381005, 439830001, 3...</td>\n",
       "      <td>[403190006.0, 403190006.0, 403190006.0, 403190...</td>\n",
       "      <td>74.58</td>\n",
       "      <td>174.14</td>\n",
       "      <td>24.60</td>\n",
       "      <td>111.0</td>\n",
       "      <td>71.0</td>\n",
       "      <td>['8302-2', '29463-7', '39156-5', '8480-6', '84...</td>\n",
       "    </tr>\n",
       "    <tr>\n",
       "      <th>3</th>\n",
       "      <td>eed62b4a-1099-47ec-a2ac-d953830b44d6</td>\n",
       "      <td>1965-08-05</td>\n",
       "      <td>NaN</td>\n",
       "      <td>false</td>\n",
       "      <td>M</td>\n",
       "      <td>hispanic</td>\n",
       "      <td>central_american</td>\n",
       "      <td>M</td>\n",
       "      <td>Shrewsbury MA US</td>\n",
       "      <td>2631.0</td>\n",
       "      <td>...</td>\n",
       "      <td>NaN</td>\n",
       "      <td>[140, 140, 140, 113]</td>\n",
       "      <td>NaN</td>\n",
       "      <td>NaN</td>\n",
       "      <td>113.23</td>\n",
       "      <td>164.74</td>\n",
       "      <td>41.72</td>\n",
       "      <td>131.0</td>\n",
       "      <td>86.0</td>\n",
       "      <td>['8302-2', '29463-7', '39156-5', '8480-6', '84...</td>\n",
       "    </tr>\n",
       "    <tr>\n",
       "      <th>4</th>\n",
       "      <td>6e9f8b3e-5a21-401e-868d-2d62e0e7f452</td>\n",
       "      <td>1979-11-03</td>\n",
       "      <td>NaN</td>\n",
       "      <td>X29737332X</td>\n",
       "      <td>M</td>\n",
       "      <td>white</td>\n",
       "      <td>irish</td>\n",
       "      <td>F</td>\n",
       "      <td>Wilmington MA US</td>\n",
       "      <td>2630.0</td>\n",
       "      <td>...</td>\n",
       "      <td>[300913006]</td>\n",
       "      <td>[140, 113, 140]</td>\n",
       "      <td>[326051000000105, 409002, 58332002, 3260510000...</td>\n",
       "      <td>[nan, nan, nan, nan, nan, 72892002.0, 72892002...</td>\n",
       "      <td>106.81</td>\n",
       "      <td>166.13</td>\n",
       "      <td>38.70</td>\n",
       "      <td>131.0</td>\n",
       "      <td>74.0</td>\n",
       "      <td>['8302-2', '29463-7', '39156-5', '8480-6', '84...</td>\n",
       "    </tr>\n",
       "  </tbody>\n",
       "</table>\n",
       "<p>5 rows × 25 columns</p>\n",
       "</div>"
      ],
      "text/plain": [
       "                                     ID   BIRTHDATE   DEATHDATE    PASSPORT  \\\n",
       "0  660bec03-9e58-47f2-98b9-2f1c564f3838  1996-07-26         NaN       false   \n",
       "1  5125d2b2-3aef-4ae2-aa5c-335f7e206b92  1996-09-24         NaN       false   \n",
       "2  26626faf-cbd5-48d5-a3bf-a7b21ae08e4b  1944-09-01  2015-09-04  X19963891X   \n",
       "3  eed62b4a-1099-47ec-a2ac-d953830b44d6  1965-08-05         NaN       false   \n",
       "4  6e9f8b3e-5a21-401e-868d-2d62e0e7f452  1979-11-03         NaN  X29737332X   \n",
       "\n",
       "  MARITAL      RACE         ETHNICITY GENDER         BIRTHPLACE      ZIP  ...  \\\n",
       "0     NaN     white             irish      F    Fitchburg MA US  20810.0  ...   \n",
       "1     NaN     white   french_canadian      F  Westborough MA US   2638.0  ...   \n",
       "2       M     white             irish      M   Fall River MA US  23401.0  ...   \n",
       "3       M  hispanic  central_american      M   Shrewsbury MA US   2631.0  ...   \n",
       "4       M     white             irish      F   Wilmington MA US   2630.0  ...   \n",
       "\n",
       "                     ALLERGIES_CODE  \\\n",
       "0                               NaN   \n",
       "1  [91930004, 419263009, 424213003]   \n",
       "2                               NaN   \n",
       "3                               NaN   \n",
       "4                       [300913006]   \n",
       "\n",
       "                             IMMUNIZATIONS_CODE  \\\n",
       "0      [140, 140, 140, 114, 140, 140, 140, 140]   \n",
       "1  [140, 62, 140, 140, 114, 140, 140, 140, 140]   \n",
       "2            [133, 140, 33, 140, 140, 140, 140]   \n",
       "3                          [140, 140, 140, 113]   \n",
       "4                               [140, 113, 140]   \n",
       "\n",
       "                                      CAREPLANS_CODE  \\\n",
       "0  [872781000000100, 266694003, 183051005, 539500...   \n",
       "1  [326051000000105, 409002, 58332002, 3260510000...   \n",
       "2  [133901003, 385949008, 440381005, 439830001, 3...   \n",
       "3                                                NaN   \n",
       "4  [326051000000105, 409002, 58332002, 3260510000...   \n",
       "\n",
       "                                CAREPLANS_REASONCODE BODY_WEIGHT BODY_HEIGHT  \\\n",
       "0  [39848009.0, 39848009.0, 39848009.0, 10509002....       73.54      163.07   \n",
       "1                [nan, nan, nan, nan, nan, nan, nan]       17.33       95.92   \n",
       "2  [403190006.0, 403190006.0, 403190006.0, 403190...       74.58      174.14   \n",
       "3                                                NaN      113.23      164.74   \n",
       "4  [nan, nan, nan, nan, nan, 72892002.0, 72892002...      106.81      166.13   \n",
       "\n",
       "     BMI SYSTOLIC_BP DIASTOLIC_BP  \\\n",
       "0  27.66       101.0         75.0   \n",
       "1  18.84       137.0         89.0   \n",
       "2  24.60       111.0         71.0   \n",
       "3  41.72       131.0         86.0   \n",
       "4  38.70       131.0         74.0   \n",
       "\n",
       "                                   OBSERVATIONS_CODE  \n",
       "0  ['8302-2', '29463-7', '39156-5', '8480-6', '84...  \n",
       "1  ['8302-2', '29463-7', '39156-5', '8480-6', '84...  \n",
       "2  ['8302-2', '29463-7', '39156-5', '8480-6', '84...  \n",
       "3  ['8302-2', '29463-7', '39156-5', '8480-6', '84...  \n",
       "4  ['8302-2', '29463-7', '39156-5', '8480-6', '84...  \n",
       "\n",
       "[5 rows x 25 columns]"
      ]
     },
     "execution_count": 1,
     "metadata": {},
     "output_type": "execute_result"
    }
   ],
   "source": [
    "import pandas as pd\n",
    "from sklearn.preprocessing import LabelEncoder\n",
    "\n",
    "patient = pd.read_csv('../../CombinedData/combined1.csv')\n",
    "allergies = pd.read_csv('../../CombinedData/allergies.csv')\n",
    "immunizations = pd.read_csv('../../CombinedData/immunizations.csv')\n",
    "conditions = pd.read_csv('../../CombinedData/conditions.csv')\n",
    "medications = pd.read_csv('../../CombinedData/medications.csv')\n",
    "encounters = pd.read_csv('../../CombinedData/encounters.csv')\n",
    "patient.head()"
   ]
  },
  {
   "cell_type": "code",
   "execution_count": 2,
   "metadata": {},
   "outputs": [],
   "source": [
    "patient.drop(columns=['PASSPORT','MARITAL','GENDER','BIRTHPLACE','ZIP','BODY_WEIGHT','BODY_HEIGHT','BMI','CONDITIONS_CODE','MEDICATIONS_CODE','MEDICATIONS_REASONCODE','ENCOUNTERS_CODE','ENCOUNTERS_REASONCODE','ALLERGIES_CODE', 'IMMUNIZATIONS_CODE', 'CAREPLANS_CODE', 'CAREPLANS_REASONCODE', 'OBSERVATIONS_CODE'], inplace=True)\n",
    "conditions.drop(columns=['START', 'STOP', 'ENCOUNTER', 'DESCRIPTION'], inplace=True)\n",
    "medications.drop(columns=['START', 'STOP', 'ENCOUNTER', 'DESCRIPTION', 'REASONDESCRIPTION', 'REASONCODE'], inplace=True)\n",
    "immunizations.drop(columns=['DATE', 'ENCOUNTER', 'DESCRIPTION'], inplace=True)\n",
    "allergies.drop(columns=['START', 'STOP', 'ENCOUNTER', 'DESCRIPTION'], inplace=True)\n",
    "encounters.drop(columns=['DATE', 'ID', 'DESCRIPTION', 'REASONDESCRIPTION', 'REASONCODE'], inplace=True)"
   ]
  },
  {
   "cell_type": "code",
   "execution_count": 3,
   "metadata": {},
   "outputs": [
    {
     "data": {
      "text/plain": [
       "ID                  0\n",
       "BIRTHDATE           0\n",
       "DEATHDATE       97023\n",
       "RACE               37\n",
       "ETHNICITY          19\n",
       "SYSTOLIC_BP         0\n",
       "DIASTOLIC_BP        0\n",
       "dtype: int64"
      ]
     },
     "execution_count": 3,
     "metadata": {},
     "output_type": "execute_result"
    }
   ],
   "source": [
    "patient.isna().sum()"
   ]
  },
  {
   "cell_type": "code",
   "execution_count": 4,
   "metadata": {},
   "outputs": [],
   "source": [
    "# Convert 'BIRTHDATE' to datetime, handling errors by setting problematic values to NaN\n",
    "patient['BIRTHDATE'] = pd.to_datetime(patient['BIRTHDATE'], errors='coerce')\n",
    "\n",
    "# Drop rows with NaN values in 'BIRTHDATE'\n",
    "patient = patient.dropna(subset=['BIRTHDATE'])\n",
    "\n",
    "# Assuming you have cleaned the 'BIRTHDATE' column, you can proceed with the reference date\n",
    "reference_date = pd.to_datetime('2023-01-01')\n",
    "\n",
    "# Calculate age\n",
    "patient['AGE'] = (reference_date - patient['BIRTHDATE']).dt.days // 365.25\n",
    "patient.drop(columns=['BIRTHDATE', 'DEATHDATE'], inplace=True)"
   ]
  },
  {
   "cell_type": "code",
   "execution_count": 5,
   "metadata": {},
   "outputs": [],
   "source": [
    "columns_to_fill_with_mode = ['RACE', 'ETHNICITY']\n",
    "columns_to_normalize = ['RACE', 'ETHNICITY']\n",
    "for column in columns_to_fill_with_mode:\n",
    "    mode_value = patient[column].mode()[0]\n",
    "    patient[column].fillna(mode_value, inplace=True)\n",
    "# Create a LabelEncoder\n",
    "label_encoder = LabelEncoder()\n",
    "\n",
    "# Apply LabelEncoder to each column\n",
    "patient[columns_to_normalize] = patient[columns_to_normalize].apply(label_encoder.fit_transform)"
   ]
  },
  {
   "cell_type": "code",
   "execution_count": 6,
   "metadata": {},
   "outputs": [
    {
     "data": {
      "text/plain": [
       "ID              0\n",
       "RACE            0\n",
       "ETHNICITY       0\n",
       "SYSTOLIC_BP     0\n",
       "DIASTOLIC_BP    0\n",
       "AGE             0\n",
       "dtype: int64"
      ]
     },
     "execution_count": 6,
     "metadata": {},
     "output_type": "execute_result"
    }
   ],
   "source": [
    "patient.isna().sum()"
   ]
  },
  {
   "cell_type": "code",
   "execution_count": 7,
   "metadata": {},
   "outputs": [
    {
     "data": {
      "text/html": [
       "<div>\n",
       "<style scoped>\n",
       "    .dataframe tbody tr th:only-of-type {\n",
       "        vertical-align: middle;\n",
       "    }\n",
       "\n",
       "    .dataframe tbody tr th {\n",
       "        vertical-align: top;\n",
       "    }\n",
       "\n",
       "    .dataframe thead th {\n",
       "        text-align: right;\n",
       "    }\n",
       "</style>\n",
       "<table border=\"1\" class=\"dataframe\">\n",
       "  <thead>\n",
       "    <tr style=\"text-align: right;\">\n",
       "      <th></th>\n",
       "      <th>ID</th>\n",
       "      <th>RACE</th>\n",
       "      <th>ETHNICITY</th>\n",
       "      <th>SYSTOLIC_BP</th>\n",
       "      <th>DIASTOLIC_BP</th>\n",
       "      <th>AGE</th>\n",
       "    </tr>\n",
       "  </thead>\n",
       "  <tbody>\n",
       "    <tr>\n",
       "      <th>0</th>\n",
       "      <td>660bec03-9e58-47f2-98b9-2f1c564f3838</td>\n",
       "      <td>12</td>\n",
       "      <td>29</td>\n",
       "      <td>101.0</td>\n",
       "      <td>75.0</td>\n",
       "      <td>26.0</td>\n",
       "    </tr>\n",
       "    <tr>\n",
       "      <th>1</th>\n",
       "      <td>5125d2b2-3aef-4ae2-aa5c-335f7e206b92</td>\n",
       "      <td>12</td>\n",
       "      <td>26</td>\n",
       "      <td>137.0</td>\n",
       "      <td>89.0</td>\n",
       "      <td>26.0</td>\n",
       "    </tr>\n",
       "    <tr>\n",
       "      <th>2</th>\n",
       "      <td>26626faf-cbd5-48d5-a3bf-a7b21ae08e4b</td>\n",
       "      <td>12</td>\n",
       "      <td>29</td>\n",
       "      <td>111.0</td>\n",
       "      <td>71.0</td>\n",
       "      <td>78.0</td>\n",
       "    </tr>\n",
       "    <tr>\n",
       "      <th>3</th>\n",
       "      <td>eed62b4a-1099-47ec-a2ac-d953830b44d6</td>\n",
       "      <td>10</td>\n",
       "      <td>20</td>\n",
       "      <td>131.0</td>\n",
       "      <td>86.0</td>\n",
       "      <td>57.0</td>\n",
       "    </tr>\n",
       "    <tr>\n",
       "      <th>4</th>\n",
       "      <td>6e9f8b3e-5a21-401e-868d-2d62e0e7f452</td>\n",
       "      <td>12</td>\n",
       "      <td>29</td>\n",
       "      <td>131.0</td>\n",
       "      <td>74.0</td>\n",
       "      <td>43.0</td>\n",
       "    </tr>\n",
       "  </tbody>\n",
       "</table>\n",
       "</div>"
      ],
      "text/plain": [
       "                                     ID  RACE  ETHNICITY  SYSTOLIC_BP  \\\n",
       "0  660bec03-9e58-47f2-98b9-2f1c564f3838    12         29        101.0   \n",
       "1  5125d2b2-3aef-4ae2-aa5c-335f7e206b92    12         26        137.0   \n",
       "2  26626faf-cbd5-48d5-a3bf-a7b21ae08e4b    12         29        111.0   \n",
       "3  eed62b4a-1099-47ec-a2ac-d953830b44d6    10         20        131.0   \n",
       "4  6e9f8b3e-5a21-401e-868d-2d62e0e7f452    12         29        131.0   \n",
       "\n",
       "   DIASTOLIC_BP   AGE  \n",
       "0          75.0  26.0  \n",
       "1          89.0  26.0  \n",
       "2          71.0  78.0  \n",
       "3          86.0  57.0  \n",
       "4          74.0  43.0  "
      ]
     },
     "execution_count": 7,
     "metadata": {},
     "output_type": "execute_result"
    }
   ],
   "source": [
    "patient.head()"
   ]
  },
  {
   "cell_type": "code",
   "execution_count": 8,
   "metadata": {},
   "outputs": [],
   "source": [
    "midpoint = len(patient) // 2\n",
    "\n",
    "# Split the DataFrame into two halves based on row index\n",
    "patient_half1 = patient.iloc[:midpoint]\n",
    "patient_half2 = patient.iloc[midpoint:]"
   ]
  },
  {
   "cell_type": "code",
   "execution_count": 9,
   "metadata": {},
   "outputs": [
    {
     "data": {
      "text/plain": [
       "PATIENT            0\n",
       "CONDITIONS_CODE    0\n",
       "dtype: int64"
      ]
     },
     "execution_count": 9,
     "metadata": {},
     "output_type": "execute_result"
    }
   ],
   "source": [
    "conditions = conditions.rename(columns={'CODE': 'CONDITIONS_CODE'})\n",
    "conditions.isna().sum()"
   ]
  },
  {
   "cell_type": "code",
   "execution_count": 10,
   "metadata": {},
   "outputs": [
    {
     "data": {
      "text/html": [
       "<div>\n",
       "<style scoped>\n",
       "    .dataframe tbody tr th:only-of-type {\n",
       "        vertical-align: middle;\n",
       "    }\n",
       "\n",
       "    .dataframe tbody tr th {\n",
       "        vertical-align: top;\n",
       "    }\n",
       "\n",
       "    .dataframe thead th {\n",
       "        text-align: right;\n",
       "    }\n",
       "</style>\n",
       "<table border=\"1\" class=\"dataframe\">\n",
       "  <thead>\n",
       "    <tr style=\"text-align: right;\">\n",
       "      <th></th>\n",
       "      <th>PATIENT</th>\n",
       "      <th>TARGET</th>\n",
       "    </tr>\n",
       "  </thead>\n",
       "  <tbody>\n",
       "    <tr>\n",
       "      <th>0</th>\n",
       "      <td>36d131ee-dd5b-4acb-acbe-19961c32c099</td>\n",
       "      <td>0</td>\n",
       "    </tr>\n",
       "    <tr>\n",
       "      <th>1</th>\n",
       "      <td>33f33990-ae8b-4be8-938f-e47ad473abfe</td>\n",
       "      <td>0</td>\n",
       "    </tr>\n",
       "    <tr>\n",
       "      <th>2</th>\n",
       "      <td>33f33990-ae8b-4be8-938f-e47ad473abfe</td>\n",
       "      <td>0</td>\n",
       "    </tr>\n",
       "    <tr>\n",
       "      <th>3</th>\n",
       "      <td>36d131ee-dd5b-4acb-acbe-19961c32c099</td>\n",
       "      <td>0</td>\n",
       "    </tr>\n",
       "    <tr>\n",
       "      <th>4</th>\n",
       "      <td>33f33990-ae8b-4be8-938f-e47ad473abfe</td>\n",
       "      <td>0</td>\n",
       "    </tr>\n",
       "  </tbody>\n",
       "</table>\n",
       "</div>"
      ],
      "text/plain": [
       "                                PATIENT  TARGET\n",
       "0  36d131ee-dd5b-4acb-acbe-19961c32c099       0\n",
       "1  33f33990-ae8b-4be8-938f-e47ad473abfe       0\n",
       "2  33f33990-ae8b-4be8-938f-e47ad473abfe       0\n",
       "3  36d131ee-dd5b-4acb-acbe-19961c32c099       0\n",
       "4  33f33990-ae8b-4be8-938f-e47ad473abfe       0"
      ]
     },
     "execution_count": 10,
     "metadata": {},
     "output_type": "execute_result"
    }
   ],
   "source": [
    "conditions_code = set([162573006, 254637007, 432121009, 424132000, 422968005, 254632001, 67821000119109])\n",
    "conditions['TARGET'] = conditions['CONDITIONS_CODE'].apply(lambda code: 1 if code in conditions_code else 0)\n",
    "conditions.drop(columns=['CONDITIONS_CODE'], inplace=True)\n",
    "conditions.head()"
   ]
  },
  {
   "cell_type": "code",
   "execution_count": 11,
   "metadata": {},
   "outputs": [
    {
     "name": "stdout",
     "output_type": "stream",
     "text": [
      "Number of occurrences of each unique value:\n",
      "TARGET\n",
      "0    474383\n",
      "1      9079\n",
      "Name: count, dtype: int64\n"
     ]
    }
   ],
   "source": [
    "value_counts = conditions['TARGET'].value_counts()\n",
    "\n",
    "# Display the result\n",
    "print(\"Number of occurrences of each unique value:\")\n",
    "print(value_counts)"
   ]
  },
  {
   "cell_type": "code",
   "execution_count": 12,
   "metadata": {},
   "outputs": [
    {
     "data": {
      "text/plain": [
       "PATIENT           0\n",
       "ALLERGIES_CODE    0\n",
       "dtype: int64"
      ]
     },
     "execution_count": 12,
     "metadata": {},
     "output_type": "execute_result"
    }
   ],
   "source": [
    "allergies = allergies.rename(columns={'CODE': 'ALLERGIES_CODE'})\n",
    "allergies.isna().sum()"
   ]
  },
  {
   "cell_type": "code",
   "execution_count": 13,
   "metadata": {},
   "outputs": [
    {
     "data": {
      "text/plain": [
       "PATIENT             0\n",
       "MEDICATIONS_CODE    0\n",
       "dtype: int64"
      ]
     },
     "execution_count": 13,
     "metadata": {},
     "output_type": "execute_result"
    }
   ],
   "source": [
    "medications = medications.rename(columns={'CODE': 'MEDICATIONS_CODE'})\n",
    "medications.isna().sum()"
   ]
  },
  {
   "cell_type": "code",
   "execution_count": 14,
   "metadata": {},
   "outputs": [
    {
     "data": {
      "text/plain": [
       "PATIENT               0\n",
       "IMMUNIZATIONS_CODE    0\n",
       "dtype: int64"
      ]
     },
     "execution_count": 14,
     "metadata": {},
     "output_type": "execute_result"
    }
   ],
   "source": [
    "immunizations = immunizations.rename(columns={'CODE': 'IMMUNIZATIONS_CODE'})\n",
    "immunizations.isna().sum()"
   ]
  },
  {
   "cell_type": "code",
   "execution_count": 15,
   "metadata": {},
   "outputs": [
    {
     "data": {
      "text/plain": [
       "PATIENT            0\n",
       "ENCOUNTERS_CODE    0\n",
       "dtype: int64"
      ]
     },
     "execution_count": 15,
     "metadata": {},
     "output_type": "execute_result"
    }
   ],
   "source": [
    "encounters = encounters.rename(columns={'CODE': 'ENCOUNTERS_CODE'})\n",
    "encounters.isna().sum()"
   ]
  },
  {
   "cell_type": "code",
   "execution_count": 16,
   "metadata": {},
   "outputs": [],
   "source": [
    "patient_med_df = pd.merge(patient_half1, medications, left_on='ID', right_on='PATIENT', how='inner')\n",
    "patient_med_df.drop(columns=['PATIENT'], inplace=True)"
   ]
  },
  {
   "cell_type": "code",
   "execution_count": 17,
   "metadata": {},
   "outputs": [],
   "source": [
    "patient_med_all_df = pd.merge(patient_med_df, allergies, left_on='ID', right_on='PATIENT', how='inner')\n",
    "patient_med_all_df.drop(columns=['PATIENT'], inplace=True)"
   ]
  },
  {
   "cell_type": "code",
   "execution_count": 18,
   "metadata": {},
   "outputs": [
    {
     "data": {
      "text/plain": [
       "(121880, 8)"
      ]
     },
     "execution_count": 18,
     "metadata": {},
     "output_type": "execute_result"
    }
   ],
   "source": [
    "patient_med_all_df.shape"
   ]
  },
  {
   "cell_type": "code",
   "execution_count": 19,
   "metadata": {},
   "outputs": [],
   "source": [
    "merged_df = pd.merge(patient_med_all_df, immunizations, left_on='ID', right_on='PATIENT', how='inner')\n",
    "merged_df.drop(columns=['PATIENT'], inplace=True)"
   ]
  },
  {
   "cell_type": "code",
   "execution_count": 20,
   "metadata": {},
   "outputs": [],
   "source": [
    "merged_df = pd.merge(merged_df, encounters, left_on='ID', right_on='PATIENT', how='inner')\n",
    "merged_df.drop(columns=['PATIENT'], inplace=True)"
   ]
  },
  {
   "cell_type": "code",
   "execution_count": 21,
   "metadata": {},
   "outputs": [
    {
     "data": {
      "text/plain": [
       "(35834651, 10)"
      ]
     },
     "execution_count": 21,
     "metadata": {},
     "output_type": "execute_result"
    }
   ],
   "source": [
    "merged_df.shape"
   ]
  },
  {
   "cell_type": "code",
   "execution_count": 22,
   "metadata": {},
   "outputs": [],
   "source": [
    "import dask.dataframe as dd\n",
    "\n",
    "# Convert pandas DataFrames to Dask DataFrames\n",
    "merged_dd = dd.from_pandas(merged_df, npartitions=10)  # Adjust the number of partitions based on your available memory\n",
    "\n",
    "conditions_dd = dd.from_pandas(conditions, npartitions=10)"
   ]
  },
  {
   "cell_type": "code",
   "execution_count": 23,
   "metadata": {},
   "outputs": [],
   "source": [
    "# Perform the merge using Dask\n",
    "merged_dd = dd.merge(merged_dd, conditions_dd, left_on='ID', right_on='PATIENT', how='inner')"
   ]
  },
  {
   "cell_type": "code",
   "execution_count": 24,
   "metadata": {},
   "outputs": [],
   "source": [
    "# Convert back to pandas DataFrame\n",
    "merged_df = merged_dd.compute()"
   ]
  },
  {
   "cell_type": "code",
   "execution_count": 25,
   "metadata": {},
   "outputs": [
    {
     "data": {
      "text/plain": [
       "(207555295, 12)"
      ]
     },
     "execution_count": 25,
     "metadata": {},
     "output_type": "execute_result"
    }
   ],
   "source": [
    "merged_df.shape"
   ]
  },
  {
   "cell_type": "code",
   "execution_count": 26,
   "metadata": {},
   "outputs": [
    {
     "data": {
      "text/html": [
       "<div>\n",
       "<style scoped>\n",
       "    .dataframe tbody tr th:only-of-type {\n",
       "        vertical-align: middle;\n",
       "    }\n",
       "\n",
       "    .dataframe tbody tr th {\n",
       "        vertical-align: top;\n",
       "    }\n",
       "\n",
       "    .dataframe thead th {\n",
       "        text-align: right;\n",
       "    }\n",
       "</style>\n",
       "<table border=\"1\" class=\"dataframe\">\n",
       "  <thead>\n",
       "    <tr style=\"text-align: right;\">\n",
       "      <th></th>\n",
       "      <th>ID</th>\n",
       "      <th>RACE</th>\n",
       "      <th>ETHNICITY</th>\n",
       "      <th>SYSTOLIC_BP</th>\n",
       "      <th>DIASTOLIC_BP</th>\n",
       "      <th>AGE</th>\n",
       "      <th>MEDICATIONS_CODE</th>\n",
       "      <th>ALLERGIES_CODE</th>\n",
       "      <th>IMMUNIZATIONS_CODE</th>\n",
       "      <th>ENCOUNTERS_CODE</th>\n",
       "      <th>PATIENT</th>\n",
       "      <th>TARGET</th>\n",
       "    </tr>\n",
       "  </thead>\n",
       "  <tbody>\n",
       "    <tr>\n",
       "      <th>0</th>\n",
       "      <td>ea9d0341-21b8-4af5-a19a-f1c4fa5a7f4c</td>\n",
       "      <td>12</td>\n",
       "      <td>36</td>\n",
       "      <td>118.0</td>\n",
       "      <td>86.0</td>\n",
       "      <td>36.0</td>\n",
       "      <td>141918</td>\n",
       "      <td>91934008</td>\n",
       "      <td>140</td>\n",
       "      <td>185349003</td>\n",
       "      <td>ea9d0341-21b8-4af5-a19a-f1c4fa5a7f4c</td>\n",
       "      <td>0</td>\n",
       "    </tr>\n",
       "    <tr>\n",
       "      <th>1</th>\n",
       "      <td>ea9d0341-21b8-4af5-a19a-f1c4fa5a7f4c</td>\n",
       "      <td>12</td>\n",
       "      <td>36</td>\n",
       "      <td>118.0</td>\n",
       "      <td>86.0</td>\n",
       "      <td>36.0</td>\n",
       "      <td>141918</td>\n",
       "      <td>91934008</td>\n",
       "      <td>140</td>\n",
       "      <td>185349003</td>\n",
       "      <td>ea9d0341-21b8-4af5-a19a-f1c4fa5a7f4c</td>\n",
       "      <td>0</td>\n",
       "    </tr>\n",
       "    <tr>\n",
       "      <th>2</th>\n",
       "      <td>ea9d0341-21b8-4af5-a19a-f1c4fa5a7f4c</td>\n",
       "      <td>12</td>\n",
       "      <td>36</td>\n",
       "      <td>118.0</td>\n",
       "      <td>86.0</td>\n",
       "      <td>36.0</td>\n",
       "      <td>141918</td>\n",
       "      <td>91934008</td>\n",
       "      <td>140</td>\n",
       "      <td>185349003</td>\n",
       "      <td>ea9d0341-21b8-4af5-a19a-f1c4fa5a7f4c</td>\n",
       "      <td>0</td>\n",
       "    </tr>\n",
       "    <tr>\n",
       "      <th>3</th>\n",
       "      <td>ea9d0341-21b8-4af5-a19a-f1c4fa5a7f4c</td>\n",
       "      <td>12</td>\n",
       "      <td>36</td>\n",
       "      <td>118.0</td>\n",
       "      <td>86.0</td>\n",
       "      <td>36.0</td>\n",
       "      <td>141918</td>\n",
       "      <td>91934008</td>\n",
       "      <td>140</td>\n",
       "      <td>185349003</td>\n",
       "      <td>ea9d0341-21b8-4af5-a19a-f1c4fa5a7f4c</td>\n",
       "      <td>0</td>\n",
       "    </tr>\n",
       "    <tr>\n",
       "      <th>4</th>\n",
       "      <td>ea9d0341-21b8-4af5-a19a-f1c4fa5a7f4c</td>\n",
       "      <td>12</td>\n",
       "      <td>36</td>\n",
       "      <td>118.0</td>\n",
       "      <td>86.0</td>\n",
       "      <td>36.0</td>\n",
       "      <td>141918</td>\n",
       "      <td>91934008</td>\n",
       "      <td>140</td>\n",
       "      <td>308335008</td>\n",
       "      <td>ea9d0341-21b8-4af5-a19a-f1c4fa5a7f4c</td>\n",
       "      <td>0</td>\n",
       "    </tr>\n",
       "  </tbody>\n",
       "</table>\n",
       "</div>"
      ],
      "text/plain": [
       "                                     ID  RACE  ETHNICITY  SYSTOLIC_BP  \\\n",
       "0  ea9d0341-21b8-4af5-a19a-f1c4fa5a7f4c    12         36        118.0   \n",
       "1  ea9d0341-21b8-4af5-a19a-f1c4fa5a7f4c    12         36        118.0   \n",
       "2  ea9d0341-21b8-4af5-a19a-f1c4fa5a7f4c    12         36        118.0   \n",
       "3  ea9d0341-21b8-4af5-a19a-f1c4fa5a7f4c    12         36        118.0   \n",
       "4  ea9d0341-21b8-4af5-a19a-f1c4fa5a7f4c    12         36        118.0   \n",
       "\n",
       "   DIASTOLIC_BP   AGE  MEDICATIONS_CODE  ALLERGIES_CODE  IMMUNIZATIONS_CODE  \\\n",
       "0          86.0  36.0            141918        91934008                 140   \n",
       "1          86.0  36.0            141918        91934008                 140   \n",
       "2          86.0  36.0            141918        91934008                 140   \n",
       "3          86.0  36.0            141918        91934008                 140   \n",
       "4          86.0  36.0            141918        91934008                 140   \n",
       "\n",
       "   ENCOUNTERS_CODE                               PATIENT  TARGET  \n",
       "0        185349003  ea9d0341-21b8-4af5-a19a-f1c4fa5a7f4c       0  \n",
       "1        185349003  ea9d0341-21b8-4af5-a19a-f1c4fa5a7f4c       0  \n",
       "2        185349003  ea9d0341-21b8-4af5-a19a-f1c4fa5a7f4c       0  \n",
       "3        185349003  ea9d0341-21b8-4af5-a19a-f1c4fa5a7f4c       0  \n",
       "4        308335008  ea9d0341-21b8-4af5-a19a-f1c4fa5a7f4c       0  "
      ]
     },
     "execution_count": 26,
     "metadata": {},
     "output_type": "execute_result"
    }
   ],
   "source": [
    "merged_df.head()"
   ]
  },
  {
   "cell_type": "code",
   "execution_count": 27,
   "metadata": {},
   "outputs": [
    {
     "data": {
      "text/html": [
       "<div>\n",
       "<style scoped>\n",
       "    .dataframe tbody tr th:only-of-type {\n",
       "        vertical-align: middle;\n",
       "    }\n",
       "\n",
       "    .dataframe tbody tr th {\n",
       "        vertical-align: top;\n",
       "    }\n",
       "\n",
       "    .dataframe thead th {\n",
       "        text-align: right;\n",
       "    }\n",
       "</style>\n",
       "<table border=\"1\" class=\"dataframe\">\n",
       "  <thead>\n",
       "    <tr style=\"text-align: right;\">\n",
       "      <th></th>\n",
       "      <th>RACE</th>\n",
       "      <th>ETHNICITY</th>\n",
       "      <th>SYSTOLIC_BP</th>\n",
       "      <th>DIASTOLIC_BP</th>\n",
       "      <th>AGE</th>\n",
       "      <th>MEDICATIONS_CODE</th>\n",
       "      <th>ALLERGIES_CODE</th>\n",
       "      <th>IMMUNIZATIONS_CODE</th>\n",
       "      <th>ENCOUNTERS_CODE</th>\n",
       "      <th>TARGET</th>\n",
       "    </tr>\n",
       "  </thead>\n",
       "  <tbody>\n",
       "    <tr>\n",
       "      <th>0</th>\n",
       "      <td>12</td>\n",
       "      <td>36</td>\n",
       "      <td>118.0</td>\n",
       "      <td>86.0</td>\n",
       "      <td>36.0</td>\n",
       "      <td>141918</td>\n",
       "      <td>91934008</td>\n",
       "      <td>140</td>\n",
       "      <td>185349003</td>\n",
       "      <td>0</td>\n",
       "    </tr>\n",
       "    <tr>\n",
       "      <th>1</th>\n",
       "      <td>12</td>\n",
       "      <td>36</td>\n",
       "      <td>118.0</td>\n",
       "      <td>86.0</td>\n",
       "      <td>36.0</td>\n",
       "      <td>141918</td>\n",
       "      <td>91934008</td>\n",
       "      <td>140</td>\n",
       "      <td>185349003</td>\n",
       "      <td>0</td>\n",
       "    </tr>\n",
       "    <tr>\n",
       "      <th>2</th>\n",
       "      <td>12</td>\n",
       "      <td>36</td>\n",
       "      <td>118.0</td>\n",
       "      <td>86.0</td>\n",
       "      <td>36.0</td>\n",
       "      <td>141918</td>\n",
       "      <td>91934008</td>\n",
       "      <td>140</td>\n",
       "      <td>185349003</td>\n",
       "      <td>0</td>\n",
       "    </tr>\n",
       "    <tr>\n",
       "      <th>3</th>\n",
       "      <td>12</td>\n",
       "      <td>36</td>\n",
       "      <td>118.0</td>\n",
       "      <td>86.0</td>\n",
       "      <td>36.0</td>\n",
       "      <td>141918</td>\n",
       "      <td>91934008</td>\n",
       "      <td>140</td>\n",
       "      <td>185349003</td>\n",
       "      <td>0</td>\n",
       "    </tr>\n",
       "    <tr>\n",
       "      <th>4</th>\n",
       "      <td>12</td>\n",
       "      <td>36</td>\n",
       "      <td>118.0</td>\n",
       "      <td>86.0</td>\n",
       "      <td>36.0</td>\n",
       "      <td>141918</td>\n",
       "      <td>91934008</td>\n",
       "      <td>140</td>\n",
       "      <td>308335008</td>\n",
       "      <td>0</td>\n",
       "    </tr>\n",
       "  </tbody>\n",
       "</table>\n",
       "</div>"
      ],
      "text/plain": [
       "   RACE  ETHNICITY  SYSTOLIC_BP  DIASTOLIC_BP   AGE  MEDICATIONS_CODE  \\\n",
       "0    12         36        118.0          86.0  36.0            141918   \n",
       "1    12         36        118.0          86.0  36.0            141918   \n",
       "2    12         36        118.0          86.0  36.0            141918   \n",
       "3    12         36        118.0          86.0  36.0            141918   \n",
       "4    12         36        118.0          86.0  36.0            141918   \n",
       "\n",
       "   ALLERGIES_CODE  IMMUNIZATIONS_CODE  ENCOUNTERS_CODE  TARGET  \n",
       "0        91934008                 140        185349003       0  \n",
       "1        91934008                 140        185349003       0  \n",
       "2        91934008                 140        185349003       0  \n",
       "3        91934008                 140        185349003       0  \n",
       "4        91934008                 140        308335008       0  "
      ]
     },
     "execution_count": 27,
     "metadata": {},
     "output_type": "execute_result"
    }
   ],
   "source": [
    "merged_df.drop(columns=['PATIENT', 'ID'], inplace=True)\n",
    "merged_df.head()"
   ]
  },
  {
   "cell_type": "code",
   "execution_count": 28,
   "metadata": {},
   "outputs": [
    {
     "data": {
      "text/plain": [
       "RACE                  0\n",
       "ETHNICITY             0\n",
       "SYSTOLIC_BP           0\n",
       "DIASTOLIC_BP          0\n",
       "AGE                   0\n",
       "MEDICATIONS_CODE      0\n",
       "ALLERGIES_CODE        0\n",
       "IMMUNIZATIONS_CODE    0\n",
       "ENCOUNTERS_CODE       0\n",
       "TARGET                0\n",
       "dtype: int64"
      ]
     },
     "execution_count": 28,
     "metadata": {},
     "output_type": "execute_result"
    }
   ],
   "source": [
    "merged_df.isna().sum()"
   ]
  },
  {
   "cell_type": "code",
   "execution_count": 29,
   "metadata": {},
   "outputs": [],
   "source": [
    "# Calculate the indices for the 85 splits\n",
    "# Used 85 so each would have equal parts\n",
    "split_size = len(merged_df) // 85\n",
    "splits = [i * split_size for i in range(1, 86)]\n",
    "\n",
    "# Split the DataFrame into five equal parts based on row index\n",
    "merged_part1 = merged_df.iloc[splits[9]:splits[11]]\n",
    "merged_part2 = merged_df.iloc[splits[40]:splits[42]]\n",
    "merged_part3 = merged_df.iloc[splits[44]:splits[46]]\n",
    "merged_part4 = merged_df.iloc[splits[52]:splits[54]]\n",
    "merged_part5 = merged_df.iloc[splits[56]:splits[58]]\n",
    "merged_part6 = merged_df.iloc[splits[4]:splits[5]]\n",
    "merged_part7 = merged_df.iloc[splits[5]:splits[6]]\n",
    "merged_part8 = merged_df.iloc[splits[22]:splits[23]]\n",
    "merged_part9 = merged_df.iloc[splits[4]:splits[8]]\n",
    "merged_part10 = merged_df.iloc[splits[18]:splits[19]]\n",
    "merged_part11 = merged_df.iloc[splits[49]:splits[51]]\n",
    "merged_part12 = merged_df.iloc[splits[10]:splits[11]]\n",
    "merged_part13 = merged_df.iloc[splits[71]:splits[72]]\n",
    "merged_part14 = merged_df.iloc[splits[33]:splits[34]]\n",
    "merged_part15 = merged_df.iloc[splits[13]:splits[14]]\n",
    "merged_part16 = merged_df.iloc[splits[64]:splits[65]]\n",
    "merged_part17 = merged_df.iloc[splits[15]:splits[16]]"
   ]
  },
  {
   "cell_type": "code",
   "execution_count": 32,
   "metadata": {},
   "outputs": [
    {
     "name": "stdout",
     "output_type": "stream",
     "text": [
      "Balanced DataFrame 2 Class Distribution:\n",
      "TARGET\n",
      "0    4882950\n",
      "1        704\n",
      "Name: count, dtype: int64\n",
      "Balanced DataFrame 3 Class Distribution:\n",
      "TARGET\n",
      "0    4866554\n",
      "1      17100\n",
      "Name: count, dtype: int64\n",
      "Balanced DataFrame 4 Class Distribution:\n",
      "TARGET\n",
      "0    4831478\n",
      "1      52176\n",
      "Name: count, dtype: int64\n",
      "Balanced DataFrame 5 Class Distribution:\n",
      "TARGET\n",
      "0    4864166\n",
      "1      19488\n",
      "Name: count, dtype: int64\n",
      "Balanced DataFrame 9 Class Distribution:\n",
      "TARGET\n",
      "0    9766348\n",
      "1        960\n",
      "Name: count, dtype: int64\n"
     ]
    }
   ],
   "source": [
    "target_column = 'TARGET'\n",
    "df_target_counts = []\n",
    "# Print the value counts for each un-balanced DataFrame\n",
    "for i, balanced_df in enumerate([merged_part1, merged_part2, merged_part3, merged_part4, merged_part5, merged_part6, merged_part7, merged_part8, merged_part9, merged_part10]):\n",
    "    if len(balanced_df[target_column].value_counts()) > 1:\n",
    "        df_target_counts.append(balanced_df)\n",
    "        print(f\"Balanced DataFrame {i + 1} Class Distribution:\\n{balanced_df[target_column].value_counts()}\")"
   ]
  },
  {
   "cell_type": "code",
   "execution_count": 33,
   "metadata": {},
   "outputs": [],
   "source": [
    "from imblearn.over_sampling import SMOTE\n",
    "def apply_smote(df, target_column, random_state=42):\n",
    "    X = df.drop(columns=[target_column])\n",
    "    y = df[target_column]\n",
    "    smote = SMOTE(sampling_strategy='auto', random_state=random_state)\n",
    "    X_resampled, y_resampled = smote.fit_resample(X, y)\n",
    "    balanced_df = pd.concat([pd.DataFrame(X_resampled, columns=X.columns), pd.Series(y_resampled, name=target_column)], axis=1)\n",
    "    return balanced_df"
   ]
  },
  {
   "cell_type": "code",
   "execution_count": 34,
   "metadata": {},
   "outputs": [],
   "source": [
    "count = 0\n",
    "max = len(df_target_counts)"
   ]
  },
  {
   "cell_type": "code",
   "execution_count": 35,
   "metadata": {},
   "outputs": [
    {
     "name": "stdout",
     "output_type": "stream",
     "text": [
      "Balanced DataFrame 1 Class Distribution:\n",
      " TARGET\n",
      "0    4882950\n",
      "1    4882950\n",
      "Name: count, dtype: int64\n"
     ]
    }
   ],
   "source": [
    "if count < max: \n",
    "    balanced_df1 = apply_smote(df_target_counts[count], target_column)\n",
    "    count = count + 1\n",
    "    print(\"Balanced DataFrame 1 Class Distribution:\\n\", balanced_df1[target_column].value_counts())"
   ]
  },
  {
   "cell_type": "code",
   "execution_count": 36,
   "metadata": {},
   "outputs": [
    {
     "name": "stdout",
     "output_type": "stream",
     "text": [
      "Balanced DataFrame 2 Class Distribution:\n",
      " TARGET\n",
      "0    4866554\n",
      "1    4866554\n",
      "Name: count, dtype: int64\n"
     ]
    }
   ],
   "source": [
    "if count < max:\n",
    "    balanced_df2 = apply_smote(df_target_counts[count], target_column)\n",
    "    count = count + 1\n",
    "    print(\"Balanced DataFrame 2 Class Distribution:\\n\", balanced_df2[target_column].value_counts())"
   ]
  },
  {
   "cell_type": "code",
   "execution_count": 37,
   "metadata": {},
   "outputs": [
    {
     "name": "stdout",
     "output_type": "stream",
     "text": [
      "Balanced DataFrame 3 Class Distribution:\n",
      " TARGET\n",
      "0    4831478\n",
      "1    4831478\n",
      "Name: count, dtype: int64\n"
     ]
    }
   ],
   "source": [
    "if count < max:\n",
    "    balanced_df3 = apply_smote(df_target_counts[count], target_column)\n",
    "    count = count + 1\n",
    "    print(\"Balanced DataFrame 3 Class Distribution:\\n\", balanced_df3[target_column].value_counts())"
   ]
  },
  {
   "cell_type": "code",
   "execution_count": 38,
   "metadata": {},
   "outputs": [
    {
     "name": "stdout",
     "output_type": "stream",
     "text": [
      "Balanced DataFrame 4 Class Distribution:\n",
      " TARGET\n",
      "0    4864166\n",
      "1    4864166\n",
      "Name: count, dtype: int64\n"
     ]
    }
   ],
   "source": [
    "if count < max:\n",
    "    balanced_df4 = apply_smote(df_target_counts[count], target_column)\n",
    "    count = count + 1\n",
    "    print(\"Balanced DataFrame 4 Class Distribution:\\n\", balanced_df4[target_column].value_counts())"
   ]
  },
  {
   "cell_type": "code",
   "execution_count": 39,
   "metadata": {},
   "outputs": [
    {
     "name": "stdout",
     "output_type": "stream",
     "text": [
      "Balanced DataFrame 1 Class Distribution:\n",
      " TARGET\n",
      "0    4882950\n",
      "1    4882950\n",
      "Name: count, dtype: int64\n"
     ]
    }
   ],
   "source": [
    "if count < max: \n",
    "    balanced_df5 = apply_smote(df_target_counts[count], target_column)\n",
    "    count = count + 1\n",
    "    print(\"Balanced DataFrame 1 Class Distribution:\\n\", balanced_df1[target_column].value_counts())"
   ]
  },
  {
   "cell_type": "code",
   "execution_count": 40,
   "metadata": {},
   "outputs": [],
   "source": [
    "from sklearn.linear_model import LogisticRegression\n",
    "from sklearn.ensemble import BaggingClassifier\n",
    "from sklearn.metrics import accuracy_score, classification_report\n",
    "from sklearn.model_selection import train_test_split\n",
    "\n",
    "base_model = LogisticRegression()\n",
    "\n",
    "# Initialize the BaggingClassifier\n",
    "bagging_model = BaggingClassifier(base_model, n_estimators=6, random_state=42)\n"
   ]
  },
  {
   "cell_type": "code",
   "execution_count": 41,
   "metadata": {},
   "outputs": [],
   "source": [
    "base_models = []\n",
    "test_sets = []"
   ]
  },
  {
   "cell_type": "code",
   "execution_count": 42,
   "metadata": {},
   "outputs": [],
   "source": [
    "X1 = balanced_df1.drop('TARGET', axis=1)\n",
    "y1 = balanced_df1['TARGET']"
   ]
  },
  {
   "cell_type": "code",
   "execution_count": 43,
   "metadata": {},
   "outputs": [],
   "source": [
    "X2 = balanced_df2.drop('TARGET', axis=1)\n",
    "y2 = balanced_df2['TARGET']"
   ]
  },
  {
   "cell_type": "code",
   "execution_count": 44,
   "metadata": {},
   "outputs": [],
   "source": [
    "X3 = balanced_df3.drop('TARGET', axis=1)\n",
    "y3 = balanced_df3['TARGET']"
   ]
  },
  {
   "cell_type": "code",
   "execution_count": 45,
   "metadata": {},
   "outputs": [],
   "source": [
    "X4 = balanced_df4.drop('TARGET', axis=1)\n",
    "y4 = balanced_df4['TARGET']"
   ]
  },
  {
   "cell_type": "code",
   "execution_count": 46,
   "metadata": {},
   "outputs": [],
   "source": [
    "X5 = balanced_df5.drop('TARGET', axis=1)\n",
    "y5 = balanced_df5['TARGET']"
   ]
  },
  {
   "cell_type": "code",
   "execution_count": 47,
   "metadata": {},
   "outputs": [],
   "source": [
    "min_len = min(len(X1), len(X2), len(X3), len(X4), len(X5))"
   ]
  },
  {
   "cell_type": "code",
   "execution_count": 48,
   "metadata": {},
   "outputs": [],
   "source": [
    "X_train1, X_test1, y_train1, y_test1 = train_test_split(X1[:min_len], y1[:min_len], test_size=0.2, random_state=42)\n",
    "test_sets.append((X_test1, y_test1))"
   ]
  },
  {
   "cell_type": "code",
   "execution_count": 49,
   "metadata": {},
   "outputs": [],
   "source": [
    "X_train2, X_test2, y_train2, y_test2 = train_test_split(X2[:min_len], y2[:min_len], test_size=0.2, random_state=42)\n",
    "test_sets.append((X_test2, y_test2))\n"
   ]
  },
  {
   "cell_type": "code",
   "execution_count": 50,
   "metadata": {},
   "outputs": [],
   "source": [
    "X_train3, X_test3, y_train3, y_test3 = train_test_split(X3[:min_len], y3[:min_len], test_size=0.2, random_state=42)\n",
    "test_sets.append((X_test3, y_test3))\n"
   ]
  },
  {
   "cell_type": "code",
   "execution_count": 51,
   "metadata": {},
   "outputs": [],
   "source": [
    "X_train4, X_test4, y_train4, y_test4 = train_test_split(X4[:min_len], y4[:min_len], test_size=0.2, random_state=42)\n",
    "test_sets.append((X_test4, y_test4))\n"
   ]
  },
  {
   "cell_type": "code",
   "execution_count": 52,
   "metadata": {},
   "outputs": [],
   "source": [
    "X_train5, X_test5, y_train5, y_test5 = train_test_split(X5[:min_len], y5[:min_len], test_size=0.2, random_state=42)\n",
    "test_sets.append((X_test5, y_test5))"
   ]
  },
  {
   "cell_type": "code",
   "execution_count": 53,
   "metadata": {},
   "outputs": [],
   "source": [
    "# Create a new instance of the base model for each iteration\n",
    "base_model1 = LogisticRegression()"
   ]
  },
  {
   "cell_type": "code",
   "execution_count": 54,
   "metadata": {},
   "outputs": [],
   "source": [
    "# Create a new instance of the base model for each iteration\n",
    "base_model2 = LogisticRegression()"
   ]
  },
  {
   "cell_type": "code",
   "execution_count": 55,
   "metadata": {},
   "outputs": [],
   "source": [
    "# Create a new instance of the base model for each iteration\n",
    "base_model3 = LogisticRegression()"
   ]
  },
  {
   "cell_type": "code",
   "execution_count": 56,
   "metadata": {},
   "outputs": [],
   "source": [
    "# Create a new instance of the base model for each iteration\n",
    "base_model4 = LogisticRegression()"
   ]
  },
  {
   "cell_type": "code",
   "execution_count": 57,
   "metadata": {},
   "outputs": [],
   "source": [
    "base_model5 = LogisticRegression()"
   ]
  },
  {
   "cell_type": "code",
   "execution_count": 58,
   "metadata": {},
   "outputs": [
    {
     "data": {
      "text/html": [
       "<style>#sk-container-id-1 {color: black;}#sk-container-id-1 pre{padding: 0;}#sk-container-id-1 div.sk-toggleable {background-color: white;}#sk-container-id-1 label.sk-toggleable__label {cursor: pointer;display: block;width: 100%;margin-bottom: 0;padding: 0.3em;box-sizing: border-box;text-align: center;}#sk-container-id-1 label.sk-toggleable__label-arrow:before {content: \"▸\";float: left;margin-right: 0.25em;color: #696969;}#sk-container-id-1 label.sk-toggleable__label-arrow:hover:before {color: black;}#sk-container-id-1 div.sk-estimator:hover label.sk-toggleable__label-arrow:before {color: black;}#sk-container-id-1 div.sk-toggleable__content {max-height: 0;max-width: 0;overflow: hidden;text-align: left;background-color: #f0f8ff;}#sk-container-id-1 div.sk-toggleable__content pre {margin: 0.2em;color: black;border-radius: 0.25em;background-color: #f0f8ff;}#sk-container-id-1 input.sk-toggleable__control:checked~div.sk-toggleable__content {max-height: 200px;max-width: 100%;overflow: auto;}#sk-container-id-1 input.sk-toggleable__control:checked~label.sk-toggleable__label-arrow:before {content: \"▾\";}#sk-container-id-1 div.sk-estimator input.sk-toggleable__control:checked~label.sk-toggleable__label {background-color: #d4ebff;}#sk-container-id-1 div.sk-label input.sk-toggleable__control:checked~label.sk-toggleable__label {background-color: #d4ebff;}#sk-container-id-1 input.sk-hidden--visually {border: 0;clip: rect(1px 1px 1px 1px);clip: rect(1px, 1px, 1px, 1px);height: 1px;margin: -1px;overflow: hidden;padding: 0;position: absolute;width: 1px;}#sk-container-id-1 div.sk-estimator {font-family: monospace;background-color: #f0f8ff;border: 1px dotted black;border-radius: 0.25em;box-sizing: border-box;margin-bottom: 0.5em;}#sk-container-id-1 div.sk-estimator:hover {background-color: #d4ebff;}#sk-container-id-1 div.sk-parallel-item::after {content: \"\";width: 100%;border-bottom: 1px solid gray;flex-grow: 1;}#sk-container-id-1 div.sk-label:hover label.sk-toggleable__label {background-color: #d4ebff;}#sk-container-id-1 div.sk-serial::before {content: \"\";position: absolute;border-left: 1px solid gray;box-sizing: border-box;top: 0;bottom: 0;left: 50%;z-index: 0;}#sk-container-id-1 div.sk-serial {display: flex;flex-direction: column;align-items: center;background-color: white;padding-right: 0.2em;padding-left: 0.2em;position: relative;}#sk-container-id-1 div.sk-item {position: relative;z-index: 1;}#sk-container-id-1 div.sk-parallel {display: flex;align-items: stretch;justify-content: center;background-color: white;position: relative;}#sk-container-id-1 div.sk-item::before, #sk-container-id-1 div.sk-parallel-item::before {content: \"\";position: absolute;border-left: 1px solid gray;box-sizing: border-box;top: 0;bottom: 0;left: 50%;z-index: -1;}#sk-container-id-1 div.sk-parallel-item {display: flex;flex-direction: column;z-index: 1;position: relative;background-color: white;}#sk-container-id-1 div.sk-parallel-item:first-child::after {align-self: flex-end;width: 50%;}#sk-container-id-1 div.sk-parallel-item:last-child::after {align-self: flex-start;width: 50%;}#sk-container-id-1 div.sk-parallel-item:only-child::after {width: 0;}#sk-container-id-1 div.sk-dashed-wrapped {border: 1px dashed gray;margin: 0 0.4em 0.5em 0.4em;box-sizing: border-box;padding-bottom: 0.4em;background-color: white;}#sk-container-id-1 div.sk-label label {font-family: monospace;font-weight: bold;display: inline-block;line-height: 1.2em;}#sk-container-id-1 div.sk-label-container {text-align: center;}#sk-container-id-1 div.sk-container {/* jupyter's `normalize.less` sets `[hidden] { display: none; }` but bootstrap.min.css set `[hidden] { display: none !important; }` so we also need the `!important` here to be able to override the default hidden behavior on the sphinx rendered scikit-learn.org. See: https://github.com/scikit-learn/scikit-learn/issues/21755 */display: inline-block !important;position: relative;}#sk-container-id-1 div.sk-text-repr-fallback {display: none;}</style><div id=\"sk-container-id-1\" class=\"sk-top-container\"><div class=\"sk-text-repr-fallback\"><pre>LogisticRegression()</pre><b>In a Jupyter environment, please rerun this cell to show the HTML representation or trust the notebook. <br />On GitHub, the HTML representation is unable to render, please try loading this page with nbviewer.org.</b></div><div class=\"sk-container\" hidden><div class=\"sk-item\"><div class=\"sk-estimator sk-toggleable\"><input class=\"sk-toggleable__control sk-hidden--visually\" id=\"sk-estimator-id-1\" type=\"checkbox\" checked><label for=\"sk-estimator-id-1\" class=\"sk-toggleable__label sk-toggleable__label-arrow\">LogisticRegression</label><div class=\"sk-toggleable__content\"><pre>LogisticRegression()</pre></div></div></div></div></div>"
      ],
      "text/plain": [
       "LogisticRegression()"
      ]
     },
     "execution_count": 58,
     "metadata": {},
     "output_type": "execute_result"
    }
   ],
   "source": [
    "# Train the base model on the subset\n",
    "base_model1.fit(X_train1, y_train1)"
   ]
  },
  {
   "cell_type": "code",
   "execution_count": 59,
   "metadata": {},
   "outputs": [
    {
     "data": {
      "text/html": [
       "<style>#sk-container-id-2 {color: black;}#sk-container-id-2 pre{padding: 0;}#sk-container-id-2 div.sk-toggleable {background-color: white;}#sk-container-id-2 label.sk-toggleable__label {cursor: pointer;display: block;width: 100%;margin-bottom: 0;padding: 0.3em;box-sizing: border-box;text-align: center;}#sk-container-id-2 label.sk-toggleable__label-arrow:before {content: \"▸\";float: left;margin-right: 0.25em;color: #696969;}#sk-container-id-2 label.sk-toggleable__label-arrow:hover:before {color: black;}#sk-container-id-2 div.sk-estimator:hover label.sk-toggleable__label-arrow:before {color: black;}#sk-container-id-2 div.sk-toggleable__content {max-height: 0;max-width: 0;overflow: hidden;text-align: left;background-color: #f0f8ff;}#sk-container-id-2 div.sk-toggleable__content pre {margin: 0.2em;color: black;border-radius: 0.25em;background-color: #f0f8ff;}#sk-container-id-2 input.sk-toggleable__control:checked~div.sk-toggleable__content {max-height: 200px;max-width: 100%;overflow: auto;}#sk-container-id-2 input.sk-toggleable__control:checked~label.sk-toggleable__label-arrow:before {content: \"▾\";}#sk-container-id-2 div.sk-estimator input.sk-toggleable__control:checked~label.sk-toggleable__label {background-color: #d4ebff;}#sk-container-id-2 div.sk-label input.sk-toggleable__control:checked~label.sk-toggleable__label {background-color: #d4ebff;}#sk-container-id-2 input.sk-hidden--visually {border: 0;clip: rect(1px 1px 1px 1px);clip: rect(1px, 1px, 1px, 1px);height: 1px;margin: -1px;overflow: hidden;padding: 0;position: absolute;width: 1px;}#sk-container-id-2 div.sk-estimator {font-family: monospace;background-color: #f0f8ff;border: 1px dotted black;border-radius: 0.25em;box-sizing: border-box;margin-bottom: 0.5em;}#sk-container-id-2 div.sk-estimator:hover {background-color: #d4ebff;}#sk-container-id-2 div.sk-parallel-item::after {content: \"\";width: 100%;border-bottom: 1px solid gray;flex-grow: 1;}#sk-container-id-2 div.sk-label:hover label.sk-toggleable__label {background-color: #d4ebff;}#sk-container-id-2 div.sk-serial::before {content: \"\";position: absolute;border-left: 1px solid gray;box-sizing: border-box;top: 0;bottom: 0;left: 50%;z-index: 0;}#sk-container-id-2 div.sk-serial {display: flex;flex-direction: column;align-items: center;background-color: white;padding-right: 0.2em;padding-left: 0.2em;position: relative;}#sk-container-id-2 div.sk-item {position: relative;z-index: 1;}#sk-container-id-2 div.sk-parallel {display: flex;align-items: stretch;justify-content: center;background-color: white;position: relative;}#sk-container-id-2 div.sk-item::before, #sk-container-id-2 div.sk-parallel-item::before {content: \"\";position: absolute;border-left: 1px solid gray;box-sizing: border-box;top: 0;bottom: 0;left: 50%;z-index: -1;}#sk-container-id-2 div.sk-parallel-item {display: flex;flex-direction: column;z-index: 1;position: relative;background-color: white;}#sk-container-id-2 div.sk-parallel-item:first-child::after {align-self: flex-end;width: 50%;}#sk-container-id-2 div.sk-parallel-item:last-child::after {align-self: flex-start;width: 50%;}#sk-container-id-2 div.sk-parallel-item:only-child::after {width: 0;}#sk-container-id-2 div.sk-dashed-wrapped {border: 1px dashed gray;margin: 0 0.4em 0.5em 0.4em;box-sizing: border-box;padding-bottom: 0.4em;background-color: white;}#sk-container-id-2 div.sk-label label {font-family: monospace;font-weight: bold;display: inline-block;line-height: 1.2em;}#sk-container-id-2 div.sk-label-container {text-align: center;}#sk-container-id-2 div.sk-container {/* jupyter's `normalize.less` sets `[hidden] { display: none; }` but bootstrap.min.css set `[hidden] { display: none !important; }` so we also need the `!important` here to be able to override the default hidden behavior on the sphinx rendered scikit-learn.org. See: https://github.com/scikit-learn/scikit-learn/issues/21755 */display: inline-block !important;position: relative;}#sk-container-id-2 div.sk-text-repr-fallback {display: none;}</style><div id=\"sk-container-id-2\" class=\"sk-top-container\"><div class=\"sk-text-repr-fallback\"><pre>LogisticRegression()</pre><b>In a Jupyter environment, please rerun this cell to show the HTML representation or trust the notebook. <br />On GitHub, the HTML representation is unable to render, please try loading this page with nbviewer.org.</b></div><div class=\"sk-container\" hidden><div class=\"sk-item\"><div class=\"sk-estimator sk-toggleable\"><input class=\"sk-toggleable__control sk-hidden--visually\" id=\"sk-estimator-id-2\" type=\"checkbox\" checked><label for=\"sk-estimator-id-2\" class=\"sk-toggleable__label sk-toggleable__label-arrow\">LogisticRegression</label><div class=\"sk-toggleable__content\"><pre>LogisticRegression()</pre></div></div></div></div></div>"
      ],
      "text/plain": [
       "LogisticRegression()"
      ]
     },
     "execution_count": 59,
     "metadata": {},
     "output_type": "execute_result"
    }
   ],
   "source": [
    "# Train the base model on the subset\n",
    "base_model2.fit(X_train2, y_train2)"
   ]
  },
  {
   "cell_type": "code",
   "execution_count": 60,
   "metadata": {},
   "outputs": [
    {
     "data": {
      "text/html": [
       "<style>#sk-container-id-3 {color: black;}#sk-container-id-3 pre{padding: 0;}#sk-container-id-3 div.sk-toggleable {background-color: white;}#sk-container-id-3 label.sk-toggleable__label {cursor: pointer;display: block;width: 100%;margin-bottom: 0;padding: 0.3em;box-sizing: border-box;text-align: center;}#sk-container-id-3 label.sk-toggleable__label-arrow:before {content: \"▸\";float: left;margin-right: 0.25em;color: #696969;}#sk-container-id-3 label.sk-toggleable__label-arrow:hover:before {color: black;}#sk-container-id-3 div.sk-estimator:hover label.sk-toggleable__label-arrow:before {color: black;}#sk-container-id-3 div.sk-toggleable__content {max-height: 0;max-width: 0;overflow: hidden;text-align: left;background-color: #f0f8ff;}#sk-container-id-3 div.sk-toggleable__content pre {margin: 0.2em;color: black;border-radius: 0.25em;background-color: #f0f8ff;}#sk-container-id-3 input.sk-toggleable__control:checked~div.sk-toggleable__content {max-height: 200px;max-width: 100%;overflow: auto;}#sk-container-id-3 input.sk-toggleable__control:checked~label.sk-toggleable__label-arrow:before {content: \"▾\";}#sk-container-id-3 div.sk-estimator input.sk-toggleable__control:checked~label.sk-toggleable__label {background-color: #d4ebff;}#sk-container-id-3 div.sk-label input.sk-toggleable__control:checked~label.sk-toggleable__label {background-color: #d4ebff;}#sk-container-id-3 input.sk-hidden--visually {border: 0;clip: rect(1px 1px 1px 1px);clip: rect(1px, 1px, 1px, 1px);height: 1px;margin: -1px;overflow: hidden;padding: 0;position: absolute;width: 1px;}#sk-container-id-3 div.sk-estimator {font-family: monospace;background-color: #f0f8ff;border: 1px dotted black;border-radius: 0.25em;box-sizing: border-box;margin-bottom: 0.5em;}#sk-container-id-3 div.sk-estimator:hover {background-color: #d4ebff;}#sk-container-id-3 div.sk-parallel-item::after {content: \"\";width: 100%;border-bottom: 1px solid gray;flex-grow: 1;}#sk-container-id-3 div.sk-label:hover label.sk-toggleable__label {background-color: #d4ebff;}#sk-container-id-3 div.sk-serial::before {content: \"\";position: absolute;border-left: 1px solid gray;box-sizing: border-box;top: 0;bottom: 0;left: 50%;z-index: 0;}#sk-container-id-3 div.sk-serial {display: flex;flex-direction: column;align-items: center;background-color: white;padding-right: 0.2em;padding-left: 0.2em;position: relative;}#sk-container-id-3 div.sk-item {position: relative;z-index: 1;}#sk-container-id-3 div.sk-parallel {display: flex;align-items: stretch;justify-content: center;background-color: white;position: relative;}#sk-container-id-3 div.sk-item::before, #sk-container-id-3 div.sk-parallel-item::before {content: \"\";position: absolute;border-left: 1px solid gray;box-sizing: border-box;top: 0;bottom: 0;left: 50%;z-index: -1;}#sk-container-id-3 div.sk-parallel-item {display: flex;flex-direction: column;z-index: 1;position: relative;background-color: white;}#sk-container-id-3 div.sk-parallel-item:first-child::after {align-self: flex-end;width: 50%;}#sk-container-id-3 div.sk-parallel-item:last-child::after {align-self: flex-start;width: 50%;}#sk-container-id-3 div.sk-parallel-item:only-child::after {width: 0;}#sk-container-id-3 div.sk-dashed-wrapped {border: 1px dashed gray;margin: 0 0.4em 0.5em 0.4em;box-sizing: border-box;padding-bottom: 0.4em;background-color: white;}#sk-container-id-3 div.sk-label label {font-family: monospace;font-weight: bold;display: inline-block;line-height: 1.2em;}#sk-container-id-3 div.sk-label-container {text-align: center;}#sk-container-id-3 div.sk-container {/* jupyter's `normalize.less` sets `[hidden] { display: none; }` but bootstrap.min.css set `[hidden] { display: none !important; }` so we also need the `!important` here to be able to override the default hidden behavior on the sphinx rendered scikit-learn.org. See: https://github.com/scikit-learn/scikit-learn/issues/21755 */display: inline-block !important;position: relative;}#sk-container-id-3 div.sk-text-repr-fallback {display: none;}</style><div id=\"sk-container-id-3\" class=\"sk-top-container\"><div class=\"sk-text-repr-fallback\"><pre>LogisticRegression()</pre><b>In a Jupyter environment, please rerun this cell to show the HTML representation or trust the notebook. <br />On GitHub, the HTML representation is unable to render, please try loading this page with nbviewer.org.</b></div><div class=\"sk-container\" hidden><div class=\"sk-item\"><div class=\"sk-estimator sk-toggleable\"><input class=\"sk-toggleable__control sk-hidden--visually\" id=\"sk-estimator-id-3\" type=\"checkbox\" checked><label for=\"sk-estimator-id-3\" class=\"sk-toggleable__label sk-toggleable__label-arrow\">LogisticRegression</label><div class=\"sk-toggleable__content\"><pre>LogisticRegression()</pre></div></div></div></div></div>"
      ],
      "text/plain": [
       "LogisticRegression()"
      ]
     },
     "execution_count": 60,
     "metadata": {},
     "output_type": "execute_result"
    }
   ],
   "source": [
    "# Train the base model on the subset\n",
    "base_model3.fit(X_train3, y_train3)"
   ]
  },
  {
   "cell_type": "code",
   "execution_count": 61,
   "metadata": {},
   "outputs": [
    {
     "data": {
      "text/html": [
       "<style>#sk-container-id-4 {color: black;}#sk-container-id-4 pre{padding: 0;}#sk-container-id-4 div.sk-toggleable {background-color: white;}#sk-container-id-4 label.sk-toggleable__label {cursor: pointer;display: block;width: 100%;margin-bottom: 0;padding: 0.3em;box-sizing: border-box;text-align: center;}#sk-container-id-4 label.sk-toggleable__label-arrow:before {content: \"▸\";float: left;margin-right: 0.25em;color: #696969;}#sk-container-id-4 label.sk-toggleable__label-arrow:hover:before {color: black;}#sk-container-id-4 div.sk-estimator:hover label.sk-toggleable__label-arrow:before {color: black;}#sk-container-id-4 div.sk-toggleable__content {max-height: 0;max-width: 0;overflow: hidden;text-align: left;background-color: #f0f8ff;}#sk-container-id-4 div.sk-toggleable__content pre {margin: 0.2em;color: black;border-radius: 0.25em;background-color: #f0f8ff;}#sk-container-id-4 input.sk-toggleable__control:checked~div.sk-toggleable__content {max-height: 200px;max-width: 100%;overflow: auto;}#sk-container-id-4 input.sk-toggleable__control:checked~label.sk-toggleable__label-arrow:before {content: \"▾\";}#sk-container-id-4 div.sk-estimator input.sk-toggleable__control:checked~label.sk-toggleable__label {background-color: #d4ebff;}#sk-container-id-4 div.sk-label input.sk-toggleable__control:checked~label.sk-toggleable__label {background-color: #d4ebff;}#sk-container-id-4 input.sk-hidden--visually {border: 0;clip: rect(1px 1px 1px 1px);clip: rect(1px, 1px, 1px, 1px);height: 1px;margin: -1px;overflow: hidden;padding: 0;position: absolute;width: 1px;}#sk-container-id-4 div.sk-estimator {font-family: monospace;background-color: #f0f8ff;border: 1px dotted black;border-radius: 0.25em;box-sizing: border-box;margin-bottom: 0.5em;}#sk-container-id-4 div.sk-estimator:hover {background-color: #d4ebff;}#sk-container-id-4 div.sk-parallel-item::after {content: \"\";width: 100%;border-bottom: 1px solid gray;flex-grow: 1;}#sk-container-id-4 div.sk-label:hover label.sk-toggleable__label {background-color: #d4ebff;}#sk-container-id-4 div.sk-serial::before {content: \"\";position: absolute;border-left: 1px solid gray;box-sizing: border-box;top: 0;bottom: 0;left: 50%;z-index: 0;}#sk-container-id-4 div.sk-serial {display: flex;flex-direction: column;align-items: center;background-color: white;padding-right: 0.2em;padding-left: 0.2em;position: relative;}#sk-container-id-4 div.sk-item {position: relative;z-index: 1;}#sk-container-id-4 div.sk-parallel {display: flex;align-items: stretch;justify-content: center;background-color: white;position: relative;}#sk-container-id-4 div.sk-item::before, #sk-container-id-4 div.sk-parallel-item::before {content: \"\";position: absolute;border-left: 1px solid gray;box-sizing: border-box;top: 0;bottom: 0;left: 50%;z-index: -1;}#sk-container-id-4 div.sk-parallel-item {display: flex;flex-direction: column;z-index: 1;position: relative;background-color: white;}#sk-container-id-4 div.sk-parallel-item:first-child::after {align-self: flex-end;width: 50%;}#sk-container-id-4 div.sk-parallel-item:last-child::after {align-self: flex-start;width: 50%;}#sk-container-id-4 div.sk-parallel-item:only-child::after {width: 0;}#sk-container-id-4 div.sk-dashed-wrapped {border: 1px dashed gray;margin: 0 0.4em 0.5em 0.4em;box-sizing: border-box;padding-bottom: 0.4em;background-color: white;}#sk-container-id-4 div.sk-label label {font-family: monospace;font-weight: bold;display: inline-block;line-height: 1.2em;}#sk-container-id-4 div.sk-label-container {text-align: center;}#sk-container-id-4 div.sk-container {/* jupyter's `normalize.less` sets `[hidden] { display: none; }` but bootstrap.min.css set `[hidden] { display: none !important; }` so we also need the `!important` here to be able to override the default hidden behavior on the sphinx rendered scikit-learn.org. See: https://github.com/scikit-learn/scikit-learn/issues/21755 */display: inline-block !important;position: relative;}#sk-container-id-4 div.sk-text-repr-fallback {display: none;}</style><div id=\"sk-container-id-4\" class=\"sk-top-container\"><div class=\"sk-text-repr-fallback\"><pre>LogisticRegression()</pre><b>In a Jupyter environment, please rerun this cell to show the HTML representation or trust the notebook. <br />On GitHub, the HTML representation is unable to render, please try loading this page with nbviewer.org.</b></div><div class=\"sk-container\" hidden><div class=\"sk-item\"><div class=\"sk-estimator sk-toggleable\"><input class=\"sk-toggleable__control sk-hidden--visually\" id=\"sk-estimator-id-4\" type=\"checkbox\" checked><label for=\"sk-estimator-id-4\" class=\"sk-toggleable__label sk-toggleable__label-arrow\">LogisticRegression</label><div class=\"sk-toggleable__content\"><pre>LogisticRegression()</pre></div></div></div></div></div>"
      ],
      "text/plain": [
       "LogisticRegression()"
      ]
     },
     "execution_count": 61,
     "metadata": {},
     "output_type": "execute_result"
    }
   ],
   "source": [
    "# Train the base model on the subset\n",
    "base_model4.fit(X_train4, y_train4)"
   ]
  },
  {
   "cell_type": "code",
   "execution_count": 62,
   "metadata": {},
   "outputs": [
    {
     "data": {
      "text/html": [
       "<style>#sk-container-id-5 {color: black;}#sk-container-id-5 pre{padding: 0;}#sk-container-id-5 div.sk-toggleable {background-color: white;}#sk-container-id-5 label.sk-toggleable__label {cursor: pointer;display: block;width: 100%;margin-bottom: 0;padding: 0.3em;box-sizing: border-box;text-align: center;}#sk-container-id-5 label.sk-toggleable__label-arrow:before {content: \"▸\";float: left;margin-right: 0.25em;color: #696969;}#sk-container-id-5 label.sk-toggleable__label-arrow:hover:before {color: black;}#sk-container-id-5 div.sk-estimator:hover label.sk-toggleable__label-arrow:before {color: black;}#sk-container-id-5 div.sk-toggleable__content {max-height: 0;max-width: 0;overflow: hidden;text-align: left;background-color: #f0f8ff;}#sk-container-id-5 div.sk-toggleable__content pre {margin: 0.2em;color: black;border-radius: 0.25em;background-color: #f0f8ff;}#sk-container-id-5 input.sk-toggleable__control:checked~div.sk-toggleable__content {max-height: 200px;max-width: 100%;overflow: auto;}#sk-container-id-5 input.sk-toggleable__control:checked~label.sk-toggleable__label-arrow:before {content: \"▾\";}#sk-container-id-5 div.sk-estimator input.sk-toggleable__control:checked~label.sk-toggleable__label {background-color: #d4ebff;}#sk-container-id-5 div.sk-label input.sk-toggleable__control:checked~label.sk-toggleable__label {background-color: #d4ebff;}#sk-container-id-5 input.sk-hidden--visually {border: 0;clip: rect(1px 1px 1px 1px);clip: rect(1px, 1px, 1px, 1px);height: 1px;margin: -1px;overflow: hidden;padding: 0;position: absolute;width: 1px;}#sk-container-id-5 div.sk-estimator {font-family: monospace;background-color: #f0f8ff;border: 1px dotted black;border-radius: 0.25em;box-sizing: border-box;margin-bottom: 0.5em;}#sk-container-id-5 div.sk-estimator:hover {background-color: #d4ebff;}#sk-container-id-5 div.sk-parallel-item::after {content: \"\";width: 100%;border-bottom: 1px solid gray;flex-grow: 1;}#sk-container-id-5 div.sk-label:hover label.sk-toggleable__label {background-color: #d4ebff;}#sk-container-id-5 div.sk-serial::before {content: \"\";position: absolute;border-left: 1px solid gray;box-sizing: border-box;top: 0;bottom: 0;left: 50%;z-index: 0;}#sk-container-id-5 div.sk-serial {display: flex;flex-direction: column;align-items: center;background-color: white;padding-right: 0.2em;padding-left: 0.2em;position: relative;}#sk-container-id-5 div.sk-item {position: relative;z-index: 1;}#sk-container-id-5 div.sk-parallel {display: flex;align-items: stretch;justify-content: center;background-color: white;position: relative;}#sk-container-id-5 div.sk-item::before, #sk-container-id-5 div.sk-parallel-item::before {content: \"\";position: absolute;border-left: 1px solid gray;box-sizing: border-box;top: 0;bottom: 0;left: 50%;z-index: -1;}#sk-container-id-5 div.sk-parallel-item {display: flex;flex-direction: column;z-index: 1;position: relative;background-color: white;}#sk-container-id-5 div.sk-parallel-item:first-child::after {align-self: flex-end;width: 50%;}#sk-container-id-5 div.sk-parallel-item:last-child::after {align-self: flex-start;width: 50%;}#sk-container-id-5 div.sk-parallel-item:only-child::after {width: 0;}#sk-container-id-5 div.sk-dashed-wrapped {border: 1px dashed gray;margin: 0 0.4em 0.5em 0.4em;box-sizing: border-box;padding-bottom: 0.4em;background-color: white;}#sk-container-id-5 div.sk-label label {font-family: monospace;font-weight: bold;display: inline-block;line-height: 1.2em;}#sk-container-id-5 div.sk-label-container {text-align: center;}#sk-container-id-5 div.sk-container {/* jupyter's `normalize.less` sets `[hidden] { display: none; }` but bootstrap.min.css set `[hidden] { display: none !important; }` so we also need the `!important` here to be able to override the default hidden behavior on the sphinx rendered scikit-learn.org. See: https://github.com/scikit-learn/scikit-learn/issues/21755 */display: inline-block !important;position: relative;}#sk-container-id-5 div.sk-text-repr-fallback {display: none;}</style><div id=\"sk-container-id-5\" class=\"sk-top-container\"><div class=\"sk-text-repr-fallback\"><pre>LogisticRegression()</pre><b>In a Jupyter environment, please rerun this cell to show the HTML representation or trust the notebook. <br />On GitHub, the HTML representation is unable to render, please try loading this page with nbviewer.org.</b></div><div class=\"sk-container\" hidden><div class=\"sk-item\"><div class=\"sk-estimator sk-toggleable\"><input class=\"sk-toggleable__control sk-hidden--visually\" id=\"sk-estimator-id-5\" type=\"checkbox\" checked><label for=\"sk-estimator-id-5\" class=\"sk-toggleable__label sk-toggleable__label-arrow\">LogisticRegression</label><div class=\"sk-toggleable__content\"><pre>LogisticRegression()</pre></div></div></div></div></div>"
      ],
      "text/plain": [
       "LogisticRegression()"
      ]
     },
     "execution_count": 62,
     "metadata": {},
     "output_type": "execute_result"
    }
   ],
   "source": [
    "base_model5.fit(X_train4, y_train5)"
   ]
  },
  {
   "cell_type": "code",
   "execution_count": 63,
   "metadata": {},
   "outputs": [],
   "source": [
    "# Add the trained model to the list\n",
    "base_models.append(base_model1)"
   ]
  },
  {
   "cell_type": "code",
   "execution_count": 64,
   "metadata": {},
   "outputs": [],
   "source": [
    "# Add the trained model to the list\n",
    "base_models.append(base_model2)"
   ]
  },
  {
   "cell_type": "code",
   "execution_count": 65,
   "metadata": {},
   "outputs": [],
   "source": [
    "# Add the trained model to the list\n",
    "base_models.append(base_model3)"
   ]
  },
  {
   "cell_type": "code",
   "execution_count": 66,
   "metadata": {},
   "outputs": [],
   "source": [
    "# Add the trained model to the list\n",
    "base_models.append(base_model4)"
   ]
  },
  {
   "cell_type": "code",
   "execution_count": 67,
   "metadata": {},
   "outputs": [],
   "source": [
    "base_models.append(base_model5)"
   ]
  },
  {
   "cell_type": "code",
   "execution_count": 68,
   "metadata": {},
   "outputs": [],
   "source": [
    "y_pred1 = base_model1.predict(X_test1)"
   ]
  },
  {
   "cell_type": "code",
   "execution_count": 69,
   "metadata": {},
   "outputs": [],
   "source": [
    "y_pred2 = base_model2.predict(X_test2)"
   ]
  },
  {
   "cell_type": "code",
   "execution_count": 70,
   "metadata": {},
   "outputs": [],
   "source": [
    "y_pred3 = base_model3.predict(X_test3)"
   ]
  },
  {
   "cell_type": "code",
   "execution_count": 71,
   "metadata": {},
   "outputs": [],
   "source": [
    "y_pred4 = base_model4.predict(X_test4)"
   ]
  },
  {
   "cell_type": "code",
   "execution_count": 72,
   "metadata": {},
   "outputs": [],
   "source": [
    "y_pred5 = base_model5.predict(X_test5)"
   ]
  },
  {
   "cell_type": "code",
   "execution_count": 73,
   "metadata": {},
   "outputs": [
    {
     "name": "stdout",
     "output_type": "stream",
     "text": [
      "Model 1 Report:               precision    recall  f1-score   support\n",
      "\n",
      "           0       0.91      0.71      0.80    976748\n",
      "           1       0.76      0.93      0.83    955844\n",
      "\n",
      "    accuracy                           0.82   1932592\n",
      "   macro avg       0.83      0.82      0.81   1932592\n",
      "weighted avg       0.83      0.82      0.81   1932592\n",
      "\n",
      "Accuracy on Test Set 1: 0.8156884639903301\n"
     ]
    }
   ],
   "source": [
    "print(f\"Model 1 Report: {classification_report(y_test1, y_pred1)}\")\n",
    "print(f\"Accuracy on Test Set 1: {accuracy_score(y_test1, y_pred1)}\")"
   ]
  },
  {
   "cell_type": "code",
   "execution_count": 74,
   "metadata": {},
   "outputs": [
    {
     "name": "stdout",
     "output_type": "stream",
     "text": [
      "Model 2 Report:               precision    recall  f1-score   support\n",
      "\n",
      "           0       0.66      0.81      0.73    973495\n",
      "           1       0.75      0.57      0.65    959097\n",
      "\n",
      "    accuracy                           0.69   1932592\n",
      "   macro avg       0.70      0.69      0.69   1932592\n",
      "weighted avg       0.70      0.69      0.69   1932592\n",
      "\n",
      "Accuracy on Test Set 2: 0.6920622666346544\n"
     ]
    }
   ],
   "source": [
    "print(f\"Model 2 Report: {classification_report(y_test2, y_pred2)}\")\n",
    "print(f\"Accuracy on Test Set 2: {accuracy_score(y_test2, y_pred2)}\")"
   ]
  },
  {
   "cell_type": "code",
   "execution_count": 75,
   "metadata": {},
   "outputs": [
    {
     "name": "stdout",
     "output_type": "stream",
     "text": [
      "Model 3 Report:               precision    recall  f1-score   support\n",
      "\n",
      "           0       0.60      0.70      0.64    966570\n",
      "           1       0.63      0.53      0.58    966022\n",
      "\n",
      "    accuracy                           0.61   1932592\n",
      "   macro avg       0.61      0.61      0.61   1932592\n",
      "weighted avg       0.61      0.61      0.61   1932592\n",
      "\n",
      "Accuracy on Test Set 3: 0.6117494018396019\n"
     ]
    }
   ],
   "source": [
    "print(f\"Model 3 Report: {classification_report(y_test3, y_pred3)}\")\n",
    "print(f\"Accuracy on Test Set 3: {accuracy_score(y_test3, y_pred3)}\")"
   ]
  },
  {
   "cell_type": "code",
   "execution_count": 76,
   "metadata": {},
   "outputs": [
    {
     "name": "stdout",
     "output_type": "stream",
     "text": [
      "Model 4 Report:               precision    recall  f1-score   support\n",
      "\n",
      "           0       0.71      0.73      0.72    973061\n",
      "           1       0.72      0.70      0.71    959531\n",
      "\n",
      "    accuracy                           0.72   1932592\n",
      "   macro avg       0.72      0.72      0.72   1932592\n",
      "weighted avg       0.72      0.72      0.72   1932592\n",
      "\n",
      "Accuracy on Test Set 4: 0.7157729101641733\n"
     ]
    }
   ],
   "source": [
    "print(f\"Model 4 Report: {classification_report(y_test4, y_pred4)}\")\n",
    "print(f\"Accuracy on Test Set 4: {accuracy_score(y_test4, y_pred4)}\")"
   ]
  },
  {
   "cell_type": "code",
   "execution_count": 77,
   "metadata": {},
   "outputs": [
    {
     "name": "stderr",
     "output_type": "stream",
     "text": [
      "/Users/shawngoforth/anaconda3/lib/python3.11/site-packages/sklearn/metrics/_classification.py:1471: UndefinedMetricWarning: Precision and F-score are ill-defined and being set to 0.0 in labels with no predicted samples. Use `zero_division` parameter to control this behavior.\n",
      "  _warn_prf(average, modifier, msg_start, len(result))\n",
      "/Users/shawngoforth/anaconda3/lib/python3.11/site-packages/sklearn/metrics/_classification.py:1471: UndefinedMetricWarning: Precision and F-score are ill-defined and being set to 0.0 in labels with no predicted samples. Use `zero_division` parameter to control this behavior.\n",
      "  _warn_prf(average, modifier, msg_start, len(result))\n",
      "/Users/shawngoforth/anaconda3/lib/python3.11/site-packages/sklearn/metrics/_classification.py:1471: UndefinedMetricWarning: Precision and F-score are ill-defined and being set to 0.0 in labels with no predicted samples. Use `zero_division` parameter to control this behavior.\n",
      "  _warn_prf(average, modifier, msg_start, len(result))\n"
     ]
    },
    {
     "name": "stdout",
     "output_type": "stream",
     "text": [
      "Model 5 Report:               precision    recall  f1-score   support\n",
      "\n",
      "           0       1.00      1.00      1.00   1932398\n",
      "           1       0.00      0.00      0.00       194\n",
      "\n",
      "    accuracy                           1.00   1932592\n",
      "   macro avg       0.50      0.50      0.50   1932592\n",
      "weighted avg       1.00      1.00      1.00   1932592\n",
      "\n",
      "Accuracy on Test Set 5: 0.999899616680603\n"
     ]
    }
   ],
   "source": [
    "print(f\"Model 5 Report: {classification_report(y_test5, y_pred5)}\")\n",
    "print(f\"Accuracy on Test Set 5: {accuracy_score(y_test5, y_pred5)}\")"
   ]
  },
  {
   "cell_type": "code",
   "execution_count": 79,
   "metadata": {},
   "outputs": [
    {
     "name": "stdout",
     "output_type": "stream",
     "text": [
      "Combined Model Report:               precision    recall  f1-score   support\n",
      "\n",
      "           0       0.71      0.94      0.81    976748\n",
      "           1       0.91      0.62      0.74    955844\n",
      "\n",
      "    accuracy                           0.78   1932592\n",
      "   macro avg       0.81      0.78      0.77   1932592\n",
      "weighted avg       0.81      0.78      0.77   1932592\n",
      "\n",
      "Accuracy on Combined Test Sets: 0.780578621871559\n"
     ]
    }
   ],
   "source": [
    "# Combine predictions using simple averaging for classification\n",
    "ensemble_predictions = (\n",
    "    y_pred1 + y_pred2 + y_pred3 + y_pred4 + y_pred5\n",
    ") / 5\n",
    "\n",
    "# Round predictions for classification\n",
    "y_pred_combined = ensemble_predictions.round().astype(int)\n",
    "\n",
    "# Evaluate the ensemble model using labels from the first test set\n",
    "accuracy_combined = accuracy_score(test_sets[0][1], y_pred_combined)\n",
    "print(f\"Combined Model Report: {classification_report(test_sets[0][1], y_pred_combined)}\")\n",
    "print(f\"Accuracy on Combined Test Sets: {accuracy_combined}\")\n"
   ]
  }
 ],
 "metadata": {
  "kernelspec": {
   "display_name": "Python 3 (ipykernel)",
   "language": "python",
   "name": "python3"
  },
  "language_info": {
   "codemirror_mode": {
    "name": "ipython",
    "version": 3
   },
   "file_extension": ".py",
   "mimetype": "text/x-python",
   "name": "python",
   "nbconvert_exporter": "python",
   "pygments_lexer": "ipython3",
   "version": "3.11.5"
  }
 },
 "nbformat": 4,
 "nbformat_minor": 2
}
