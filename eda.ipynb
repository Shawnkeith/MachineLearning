{
 "cells": [
  {
   "cell_type": "code",
   "execution_count": 8,
   "metadata": {},
   "outputs": [
    {
     "data": {
      "text/html": [
       "<div>\n",
       "<style scoped>\n",
       "    .dataframe tbody tr th:only-of-type {\n",
       "        vertical-align: middle;\n",
       "    }\n",
       "\n",
       "    .dataframe tbody tr th {\n",
       "        vertical-align: top;\n",
       "    }\n",
       "\n",
       "    .dataframe thead th {\n",
       "        text-align: right;\n",
       "    }\n",
       "</style>\n",
       "<table border=\"1\" class=\"dataframe\">\n",
       "  <thead>\n",
       "    <tr style=\"text-align: right;\">\n",
       "      <th></th>\n",
       "      <th>ID</th>\n",
       "      <th>BIRTHDATE</th>\n",
       "      <th>DEATHDATE</th>\n",
       "      <th>PASSPORT</th>\n",
       "      <th>MARITAL</th>\n",
       "      <th>RACE</th>\n",
       "      <th>ETHNICITY</th>\n",
       "      <th>GENDER</th>\n",
       "      <th>BIRTHPLACE</th>\n",
       "      <th>ZIP</th>\n",
       "      <th>...</th>\n",
       "      <th>ALLERGIES_CODE</th>\n",
       "      <th>IMMUNIZATIONS_CODE</th>\n",
       "      <th>CAREPLANS_CODE</th>\n",
       "      <th>CAREPLANS_REASONCODE</th>\n",
       "      <th>BODY_WEIGHT</th>\n",
       "      <th>BODY_HEIGHT</th>\n",
       "      <th>BMI</th>\n",
       "      <th>SYSTOLIC_BP</th>\n",
       "      <th>DIASTOLIC_BP</th>\n",
       "      <th>OBSERVATIONS_CODE</th>\n",
       "    </tr>\n",
       "  </thead>\n",
       "  <tbody>\n",
       "    <tr>\n",
       "      <th>0</th>\n",
       "      <td>660bec03-9e58-47f2-98b9-2f1c564f3838</td>\n",
       "      <td>1996-07-26</td>\n",
       "      <td>NaN</td>\n",
       "      <td>false</td>\n",
       "      <td>NaN</td>\n",
       "      <td>white</td>\n",
       "      <td>irish</td>\n",
       "      <td>F</td>\n",
       "      <td>Fitchburg MA US</td>\n",
       "      <td>20810.0</td>\n",
       "      <td>...</td>\n",
       "      <td>NaN</td>\n",
       "      <td>[140, 140, 140, 114, 140, 140, 140, 140]</td>\n",
       "      <td>[872781000000100, 266694003, 183051005, 539500...</td>\n",
       "      <td>[39848009.0, 39848009.0, 39848009.0, 10509002....</td>\n",
       "      <td>73.54</td>\n",
       "      <td>163.07</td>\n",
       "      <td>27.66</td>\n",
       "      <td>101.0</td>\n",
       "      <td>75.0</td>\n",
       "      <td>['8302-2', '29463-7', '39156-5', '8480-6', '84...</td>\n",
       "    </tr>\n",
       "    <tr>\n",
       "      <th>1</th>\n",
       "      <td>5125d2b2-3aef-4ae2-aa5c-335f7e206b92</td>\n",
       "      <td>1996-09-24</td>\n",
       "      <td>NaN</td>\n",
       "      <td>false</td>\n",
       "      <td>NaN</td>\n",
       "      <td>white</td>\n",
       "      <td>french_canadian</td>\n",
       "      <td>F</td>\n",
       "      <td>Westborough MA US</td>\n",
       "      <td>2638.0</td>\n",
       "      <td>...</td>\n",
       "      <td>[91930004, 419263009, 424213003]</td>\n",
       "      <td>[140, 62, 140, 140, 114, 140, 140, 140, 140]</td>\n",
       "      <td>[326051000000105, 409002, 58332002, 3260510000...</td>\n",
       "      <td>[nan, nan, nan, nan, nan, nan, nan]</td>\n",
       "      <td>17.33</td>\n",
       "      <td>95.92</td>\n",
       "      <td>18.84</td>\n",
       "      <td>137.0</td>\n",
       "      <td>89.0</td>\n",
       "      <td>['8302-2', '29463-7', '39156-5', '8480-6', '84...</td>\n",
       "    </tr>\n",
       "    <tr>\n",
       "      <th>2</th>\n",
       "      <td>26626faf-cbd5-48d5-a3bf-a7b21ae08e4b</td>\n",
       "      <td>1944-09-01</td>\n",
       "      <td>2015-09-04</td>\n",
       "      <td>X19963891X</td>\n",
       "      <td>M</td>\n",
       "      <td>white</td>\n",
       "      <td>irish</td>\n",
       "      <td>M</td>\n",
       "      <td>Fall River MA US</td>\n",
       "      <td>23401.0</td>\n",
       "      <td>...</td>\n",
       "      <td>NaN</td>\n",
       "      <td>[133, 140, 33, 140, 140, 140, 140]</td>\n",
       "      <td>[133901003, 385949008, 440381005, 439830001, 3...</td>\n",
       "      <td>[403190006.0, 403190006.0, 403190006.0, 403190...</td>\n",
       "      <td>74.58</td>\n",
       "      <td>174.14</td>\n",
       "      <td>24.60</td>\n",
       "      <td>111.0</td>\n",
       "      <td>71.0</td>\n",
       "      <td>['8302-2', '29463-7', '39156-5', '8480-6', '84...</td>\n",
       "    </tr>\n",
       "    <tr>\n",
       "      <th>3</th>\n",
       "      <td>eed62b4a-1099-47ec-a2ac-d953830b44d6</td>\n",
       "      <td>1965-08-05</td>\n",
       "      <td>NaN</td>\n",
       "      <td>false</td>\n",
       "      <td>M</td>\n",
       "      <td>hispanic</td>\n",
       "      <td>central_american</td>\n",
       "      <td>M</td>\n",
       "      <td>Shrewsbury MA US</td>\n",
       "      <td>2631.0</td>\n",
       "      <td>...</td>\n",
       "      <td>NaN</td>\n",
       "      <td>[140, 140, 140, 113]</td>\n",
       "      <td>NaN</td>\n",
       "      <td>NaN</td>\n",
       "      <td>113.23</td>\n",
       "      <td>164.74</td>\n",
       "      <td>41.72</td>\n",
       "      <td>131.0</td>\n",
       "      <td>86.0</td>\n",
       "      <td>['8302-2', '29463-7', '39156-5', '8480-6', '84...</td>\n",
       "    </tr>\n",
       "    <tr>\n",
       "      <th>4</th>\n",
       "      <td>6e9f8b3e-5a21-401e-868d-2d62e0e7f452</td>\n",
       "      <td>1979-11-03</td>\n",
       "      <td>NaN</td>\n",
       "      <td>X29737332X</td>\n",
       "      <td>M</td>\n",
       "      <td>white</td>\n",
       "      <td>irish</td>\n",
       "      <td>F</td>\n",
       "      <td>Wilmington MA US</td>\n",
       "      <td>2630.0</td>\n",
       "      <td>...</td>\n",
       "      <td>[300913006]</td>\n",
       "      <td>[140, 113, 140]</td>\n",
       "      <td>[326051000000105, 409002, 58332002, 3260510000...</td>\n",
       "      <td>[nan, nan, nan, nan, nan, 72892002.0, 72892002...</td>\n",
       "      <td>106.81</td>\n",
       "      <td>166.13</td>\n",
       "      <td>38.70</td>\n",
       "      <td>131.0</td>\n",
       "      <td>74.0</td>\n",
       "      <td>['8302-2', '29463-7', '39156-5', '8480-6', '84...</td>\n",
       "    </tr>\n",
       "  </tbody>\n",
       "</table>\n",
       "<p>5 rows × 25 columns</p>\n",
       "</div>"
      ],
      "text/plain": [
       "                                     ID   BIRTHDATE   DEATHDATE    PASSPORT  \\\n",
       "0  660bec03-9e58-47f2-98b9-2f1c564f3838  1996-07-26         NaN       false   \n",
       "1  5125d2b2-3aef-4ae2-aa5c-335f7e206b92  1996-09-24         NaN       false   \n",
       "2  26626faf-cbd5-48d5-a3bf-a7b21ae08e4b  1944-09-01  2015-09-04  X19963891X   \n",
       "3  eed62b4a-1099-47ec-a2ac-d953830b44d6  1965-08-05         NaN       false   \n",
       "4  6e9f8b3e-5a21-401e-868d-2d62e0e7f452  1979-11-03         NaN  X29737332X   \n",
       "\n",
       "  MARITAL      RACE         ETHNICITY GENDER         BIRTHPLACE      ZIP  ...  \\\n",
       "0     NaN     white             irish      F    Fitchburg MA US  20810.0  ...   \n",
       "1     NaN     white   french_canadian      F  Westborough MA US   2638.0  ...   \n",
       "2       M     white             irish      M   Fall River MA US  23401.0  ...   \n",
       "3       M  hispanic  central_american      M   Shrewsbury MA US   2631.0  ...   \n",
       "4       M     white             irish      F   Wilmington MA US   2630.0  ...   \n",
       "\n",
       "                     ALLERGIES_CODE  \\\n",
       "0                               NaN   \n",
       "1  [91930004, 419263009, 424213003]   \n",
       "2                               NaN   \n",
       "3                               NaN   \n",
       "4                       [300913006]   \n",
       "\n",
       "                             IMMUNIZATIONS_CODE  \\\n",
       "0      [140, 140, 140, 114, 140, 140, 140, 140]   \n",
       "1  [140, 62, 140, 140, 114, 140, 140, 140, 140]   \n",
       "2            [133, 140, 33, 140, 140, 140, 140]   \n",
       "3                          [140, 140, 140, 113]   \n",
       "4                               [140, 113, 140]   \n",
       "\n",
       "                                      CAREPLANS_CODE  \\\n",
       "0  [872781000000100, 266694003, 183051005, 539500...   \n",
       "1  [326051000000105, 409002, 58332002, 3260510000...   \n",
       "2  [133901003, 385949008, 440381005, 439830001, 3...   \n",
       "3                                                NaN   \n",
       "4  [326051000000105, 409002, 58332002, 3260510000...   \n",
       "\n",
       "                                CAREPLANS_REASONCODE BODY_WEIGHT BODY_HEIGHT  \\\n",
       "0  [39848009.0, 39848009.0, 39848009.0, 10509002....       73.54      163.07   \n",
       "1                [nan, nan, nan, nan, nan, nan, nan]       17.33       95.92   \n",
       "2  [403190006.0, 403190006.0, 403190006.0, 403190...       74.58      174.14   \n",
       "3                                                NaN      113.23      164.74   \n",
       "4  [nan, nan, nan, nan, nan, 72892002.0, 72892002...      106.81      166.13   \n",
       "\n",
       "     BMI SYSTOLIC_BP DIASTOLIC_BP  \\\n",
       "0  27.66       101.0         75.0   \n",
       "1  18.84       137.0         89.0   \n",
       "2  24.60       111.0         71.0   \n",
       "3  41.72       131.0         86.0   \n",
       "4  38.70       131.0         74.0   \n",
       "\n",
       "                                   OBSERVATIONS_CODE  \n",
       "0  ['8302-2', '29463-7', '39156-5', '8480-6', '84...  \n",
       "1  ['8302-2', '29463-7', '39156-5', '8480-6', '84...  \n",
       "2  ['8302-2', '29463-7', '39156-5', '8480-6', '84...  \n",
       "3  ['8302-2', '29463-7', '39156-5', '8480-6', '84...  \n",
       "4  ['8302-2', '29463-7', '39156-5', '8480-6', '84...  \n",
       "\n",
       "[5 rows x 25 columns]"
      ]
     },
     "execution_count": 8,
     "metadata": {},
     "output_type": "execute_result"
    }
   ],
   "source": [
    "import pandas as pd\n",
    "import seaborn as sns\n",
    "import numpy as np\n",
    "import ast\n",
    "from sklearn.model_selection import train_test_split \n",
    "from sklearn.linear_model import LogisticRegression \n",
    "from matplotlib import pyplot as plt\n",
    "from sklearn.preprocessing import StandardScaler\n",
    "from sklearn.preprocessing import MinMaxScaler\n",
    "from sklearn.preprocessing import LabelEncoder\n",
    "\n",
    "patient = pd.read_csv('/Volumes/Samsung USB/CombinedData/combined1.csv')\n",
    "allergies = pd.read_csv('/Volumes/Samsung USB/synthea_1m_fhir_3_0_May_24/output_1/csv/allergies.csv')\n",
    "immunizations = pd.read_csv('/Volumes/Samsung USB/synthea_1m_fhir_3_0_May_24/output_1/csv/immunizations.csv')\n",
    "conditions = pd.read_csv('/Volumes/Samsung USB/synthea_1m_fhir_3_0_May_24/output_1/csv/conditions.csv')\n",
    "medications = pd.read_csv('/Volumes/Samsung USB/synthea_1m_fhir_3_0_May_24/output_1/csv/medications.csv')\n",
    "encounters = pd.read_csv('/Volumes/Samsung USB/synthea_1m_fhir_3_0_May_24/output_1/csv/encounters.csv')\n",
    "careplans = pd.read_csv('/Volumes/Samsung USB/synthea_1m_fhir_3_0_May_24/output_1/csv/careplans.csv')\n",
    "patient.head()\n"
   ]
  },
  {
   "cell_type": "code",
   "execution_count": 9,
   "metadata": {},
   "outputs": [
    {
     "data": {
      "text/plain": [
       "(104597, 15)"
      ]
     },
     "execution_count": 9,
     "metadata": {},
     "output_type": "execute_result"
    }
   ],
   "source": [
    "patient.drop(columns=['CONDITIONS_CODE','MEDICATIONS_CODE','MEDICATIONS_REASONCODE','ENCOUNTERS_CODE','ENCOUNTERS_REASONCODE','ALLERGIES_CODE', 'IMMUNIZATIONS_CODE', 'CAREPLANS_CODE', 'CAREPLANS_REASONCODE', 'OBSERVATIONS_CODE'], inplace=True)\n",
    "patient.shape"
   ]
  },
  {
   "cell_type": "code",
   "execution_count": 10,
   "metadata": {},
   "outputs": [
    {
     "data": {
      "text/plain": [
       "(483462, 2)"
      ]
     },
     "execution_count": 10,
     "metadata": {},
     "output_type": "execute_result"
    }
   ],
   "source": [
    "conditions.drop(columns=['START', 'STOP', 'ENCOUNTER', 'DESCRIPTION'], inplace=True)\n",
    "conditions.shape"
   ]
  },
  {
   "cell_type": "code",
   "execution_count": 11,
   "metadata": {},
   "outputs": [
    {
     "data": {
      "text/plain": [
       "(397877, 3)"
      ]
     },
     "execution_count": 11,
     "metadata": {},
     "output_type": "execute_result"
    }
   ],
   "source": [
    "medications.drop(columns=['START', 'STOP', 'ENCOUNTER', 'DESCRIPTION', 'REASONDESCRIPTION'], inplace=True)\n",
    "medications.shape"
   ]
  },
  {
   "cell_type": "code",
   "execution_count": 12,
   "metadata": {},
   "outputs": [
    {
     "data": {
      "text/plain": [
       "(873133, 2)"
      ]
     },
     "execution_count": 12,
     "metadata": {},
     "output_type": "execute_result"
    }
   ],
   "source": [
    "immunizations.drop(columns=['DATE', 'ENCOUNTER', 'DESCRIPTION'], inplace=True)\n",
    "immunizations.shape"
   ]
  },
  {
   "cell_type": "code",
   "execution_count": 13,
   "metadata": {},
   "outputs": [
    {
     "data": {
      "text/plain": [
       "(51739, 2)"
      ]
     },
     "execution_count": 13,
     "metadata": {},
     "output_type": "execute_result"
    }
   ],
   "source": [
    "allergies.drop(columns=['START', 'STOP', 'ENCOUNTER', 'DESCRIPTION'], inplace=True)\n",
    "allergies.shape"
   ]
  },
  {
   "cell_type": "code",
   "execution_count": 14,
   "metadata": {},
   "outputs": [
    {
     "data": {
      "text/plain": [
       "(1263669, 3)"
      ]
     },
     "execution_count": 14,
     "metadata": {},
     "output_type": "execute_result"
    }
   ],
   "source": [
    "encounters.drop(columns=['DATE', 'ID', 'DESCRIPTION', 'REASONDESCRIPTION'], inplace=True)\n",
    "encounters.shape"
   ]
  },
  {
   "cell_type": "code",
   "execution_count": 15,
   "metadata": {},
   "outputs": [
    {
     "data": {
      "text/plain": [
       "(796057, 3)"
      ]
     },
     "execution_count": 15,
     "metadata": {},
     "output_type": "execute_result"
    }
   ],
   "source": [
    "careplans.drop(columns=['ID', 'START', 'STOP', 'ENCOUNTER', 'DESCRIPTION', 'REASONDESCRIPTION'], inplace=True)\n",
    "careplans.shape"
   ]
  },
  {
   "cell_type": "code",
   "execution_count": 16,
   "metadata": {},
   "outputs": [
    {
     "data": {
      "text/plain": [
       "ID                  0\n",
       "BIRTHDATE           0\n",
       "DEATHDATE       97023\n",
       "PASSPORT            0\n",
       "MARITAL         32230\n",
       "RACE               37\n",
       "ETHNICITY          19\n",
       "GENDER             35\n",
       "BIRTHPLACE         28\n",
       "ZIP               113\n",
       "BODY_WEIGHT         0\n",
       "BODY_HEIGHT         0\n",
       "BMI                 0\n",
       "SYSTOLIC_BP         0\n",
       "DIASTOLIC_BP        0\n",
       "dtype: int64"
      ]
     },
     "execution_count": 16,
     "metadata": {},
     "output_type": "execute_result"
    }
   ],
   "source": [
    "patient.isna().sum()"
   ]
  },
  {
   "cell_type": "code",
   "execution_count": 17,
   "metadata": {},
   "outputs": [
    {
     "data": {
      "text/plain": [
       "ID              0\n",
       "BIRTHDATE       0\n",
       "DEATHDATE       0\n",
       "PASSPORT        0\n",
       "MARITAL         0\n",
       "RACE            0\n",
       "ETHNICITY       0\n",
       "GENDER          0\n",
       "BIRTHPLACE      0\n",
       "ZIP             0\n",
       "BODY_WEIGHT     0\n",
       "BODY_HEIGHT     0\n",
       "BMI             0\n",
       "SYSTOLIC_BP     0\n",
       "DIASTOLIC_BP    0\n",
       "dtype: int64"
      ]
     },
     "execution_count": 17,
     "metadata": {},
     "output_type": "execute_result"
    }
   ],
   "source": [
    "columns_to_fill_with_mode = ['RACE', 'ETHNICITY', 'GENDER', 'BIRTHPLACE', 'ZIP']\n",
    "\n",
    "for column in columns_to_fill_with_mode:\n",
    "    mode_value = patient[column].mode()[0]\n",
    "    patient[column].fillna(mode_value, inplace=True)\n",
    "    \n",
    "patient['MARITAL'] = patient['MARITAL'].fillna('S')\n",
    "patient['DEATHDATE'] = patient['DEATHDATE'].fillna('False')\n",
    "patient.isna().sum()\n"
   ]
  },
  {
   "cell_type": "code",
   "execution_count": 18,
   "metadata": {},
   "outputs": [
    {
     "data": {
      "text/html": [
       "<div>\n",
       "<style scoped>\n",
       "    .dataframe tbody tr th:only-of-type {\n",
       "        vertical-align: middle;\n",
       "    }\n",
       "\n",
       "    .dataframe tbody tr th {\n",
       "        vertical-align: top;\n",
       "    }\n",
       "\n",
       "    .dataframe thead th {\n",
       "        text-align: right;\n",
       "    }\n",
       "</style>\n",
       "<table border=\"1\" class=\"dataframe\">\n",
       "  <thead>\n",
       "    <tr style=\"text-align: right;\">\n",
       "      <th></th>\n",
       "      <th>ID</th>\n",
       "      <th>BIRTHDATE</th>\n",
       "      <th>DEATHDATE</th>\n",
       "      <th>PASSPORT</th>\n",
       "      <th>MARITAL</th>\n",
       "      <th>RACE</th>\n",
       "      <th>ETHNICITY</th>\n",
       "      <th>GENDER</th>\n",
       "      <th>BIRTHPLACE</th>\n",
       "      <th>ZIP</th>\n",
       "      <th>BODY_WEIGHT</th>\n",
       "      <th>BODY_HEIGHT</th>\n",
       "      <th>BMI</th>\n",
       "      <th>SYSTOLIC_BP</th>\n",
       "      <th>DIASTOLIC_BP</th>\n",
       "    </tr>\n",
       "  </thead>\n",
       "  <tbody>\n",
       "    <tr>\n",
       "      <th>0</th>\n",
       "      <td>660bec03-9e58-47f2-98b9-2f1c564f3838</td>\n",
       "      <td>1996-07-26</td>\n",
       "      <td>False</td>\n",
       "      <td>false</td>\n",
       "      <td>S</td>\n",
       "      <td>white</td>\n",
       "      <td>irish</td>\n",
       "      <td>F</td>\n",
       "      <td>Fitchburg MA US</td>\n",
       "      <td>20810.0</td>\n",
       "      <td>73.54</td>\n",
       "      <td>163.07</td>\n",
       "      <td>27.66</td>\n",
       "      <td>101.0</td>\n",
       "      <td>75.0</td>\n",
       "    </tr>\n",
       "    <tr>\n",
       "      <th>1</th>\n",
       "      <td>5125d2b2-3aef-4ae2-aa5c-335f7e206b92</td>\n",
       "      <td>1996-09-24</td>\n",
       "      <td>False</td>\n",
       "      <td>false</td>\n",
       "      <td>S</td>\n",
       "      <td>white</td>\n",
       "      <td>french_canadian</td>\n",
       "      <td>F</td>\n",
       "      <td>Westborough MA US</td>\n",
       "      <td>2638.0</td>\n",
       "      <td>17.33</td>\n",
       "      <td>95.92</td>\n",
       "      <td>18.84</td>\n",
       "      <td>137.0</td>\n",
       "      <td>89.0</td>\n",
       "    </tr>\n",
       "    <tr>\n",
       "      <th>2</th>\n",
       "      <td>26626faf-cbd5-48d5-a3bf-a7b21ae08e4b</td>\n",
       "      <td>1944-09-01</td>\n",
       "      <td>2015-09-04</td>\n",
       "      <td>X19963891X</td>\n",
       "      <td>M</td>\n",
       "      <td>white</td>\n",
       "      <td>irish</td>\n",
       "      <td>M</td>\n",
       "      <td>Fall River MA US</td>\n",
       "      <td>23401.0</td>\n",
       "      <td>74.58</td>\n",
       "      <td>174.14</td>\n",
       "      <td>24.60</td>\n",
       "      <td>111.0</td>\n",
       "      <td>71.0</td>\n",
       "    </tr>\n",
       "    <tr>\n",
       "      <th>3</th>\n",
       "      <td>eed62b4a-1099-47ec-a2ac-d953830b44d6</td>\n",
       "      <td>1965-08-05</td>\n",
       "      <td>False</td>\n",
       "      <td>false</td>\n",
       "      <td>M</td>\n",
       "      <td>hispanic</td>\n",
       "      <td>central_american</td>\n",
       "      <td>M</td>\n",
       "      <td>Shrewsbury MA US</td>\n",
       "      <td>2631.0</td>\n",
       "      <td>113.23</td>\n",
       "      <td>164.74</td>\n",
       "      <td>41.72</td>\n",
       "      <td>131.0</td>\n",
       "      <td>86.0</td>\n",
       "    </tr>\n",
       "    <tr>\n",
       "      <th>4</th>\n",
       "      <td>6e9f8b3e-5a21-401e-868d-2d62e0e7f452</td>\n",
       "      <td>1979-11-03</td>\n",
       "      <td>False</td>\n",
       "      <td>X29737332X</td>\n",
       "      <td>M</td>\n",
       "      <td>white</td>\n",
       "      <td>irish</td>\n",
       "      <td>F</td>\n",
       "      <td>Wilmington MA US</td>\n",
       "      <td>2630.0</td>\n",
       "      <td>106.81</td>\n",
       "      <td>166.13</td>\n",
       "      <td>38.70</td>\n",
       "      <td>131.0</td>\n",
       "      <td>74.0</td>\n",
       "    </tr>\n",
       "  </tbody>\n",
       "</table>\n",
       "</div>"
      ],
      "text/plain": [
       "                                     ID   BIRTHDATE   DEATHDATE    PASSPORT  \\\n",
       "0  660bec03-9e58-47f2-98b9-2f1c564f3838  1996-07-26       False       false   \n",
       "1  5125d2b2-3aef-4ae2-aa5c-335f7e206b92  1996-09-24       False       false   \n",
       "2  26626faf-cbd5-48d5-a3bf-a7b21ae08e4b  1944-09-01  2015-09-04  X19963891X   \n",
       "3  eed62b4a-1099-47ec-a2ac-d953830b44d6  1965-08-05       False       false   \n",
       "4  6e9f8b3e-5a21-401e-868d-2d62e0e7f452  1979-11-03       False  X29737332X   \n",
       "\n",
       "  MARITAL      RACE         ETHNICITY GENDER         BIRTHPLACE      ZIP  \\\n",
       "0       S     white             irish      F    Fitchburg MA US  20810.0   \n",
       "1       S     white   french_canadian      F  Westborough MA US   2638.0   \n",
       "2       M     white             irish      M   Fall River MA US  23401.0   \n",
       "3       M  hispanic  central_american      M   Shrewsbury MA US   2631.0   \n",
       "4       M     white             irish      F   Wilmington MA US   2630.0   \n",
       "\n",
       "   BODY_WEIGHT  BODY_HEIGHT    BMI  SYSTOLIC_BP  DIASTOLIC_BP  \n",
       "0        73.54       163.07  27.66        101.0          75.0  \n",
       "1        17.33        95.92  18.84        137.0          89.0  \n",
       "2        74.58       174.14  24.60        111.0          71.0  \n",
       "3       113.23       164.74  41.72        131.0          86.0  \n",
       "4       106.81       166.13  38.70        131.0          74.0  "
      ]
     },
     "execution_count": 18,
     "metadata": {},
     "output_type": "execute_result"
    }
   ],
   "source": [
    "patient.head()"
   ]
  },
  {
   "cell_type": "code",
   "execution_count": 19,
   "metadata": {},
   "outputs": [
    {
     "name": "stdout",
     "output_type": "stream",
     "text": [
      "  Unique_Value  Count\n",
      "0        white  80580\n",
      "1     hispanic  10216\n",
      "2        black   7734\n",
      "3        asian   6005\n",
      "4        other     59\n",
      "5       native      3\n"
     ]
    }
   ],
   "source": [
    "column_name1 = 'RACE'\n",
    "valid_race_values = ['white', 'hispanic', 'black', 'asian', 'native']\n",
    "\n",
    "# Replace any values not in the valid list with a default value (e.g., 'other')\n",
    "patient[column_name1] = patient[column_name1].apply(lambda x: x if x in valid_race_values else 'other')\n",
    "\n",
    "# Calculate value counts\n",
    "value_counts = patient[column_name1].value_counts().reset_index()\n",
    "\n",
    "# Assign column names to the DataFrame\n",
    "value_counts.columns = ['Unique_Value', 'Count']\n",
    "\n",
    "# Display the entire DataFrame without truncation\n",
    "pd.set_option('display.max_rows', None)\n",
    "with pd.option_context('display.max_rows', None):\n",
    "    print(value_counts)"
   ]
  },
  {
   "cell_type": "code",
   "execution_count": 20,
   "metadata": {},
   "outputs": [
    {
     "name": "stdout",
     "output_type": "stream",
     "text": [
      "        Unique_Value  Count\n",
      "0              irish  21432\n",
      "1            italian  13165\n",
      "2            english  10408\n",
      "3             french   7482\n",
      "4       puerto_rican   7265\n",
      "5             german   5647\n",
      "6             polish   4741\n",
      "7         portuguese   4567\n",
      "8            chinese   4027\n",
      "9           american   3805\n",
      "10   french_canadian   3727\n",
      "11           african   3114\n",
      "12         dominican   3049\n",
      "13      asian_indian   1978\n",
      "14          scottish   1929\n",
      "15           swedish   1896\n",
      "16           russian   1759\n",
      "17       west_indian   1571\n",
      "18           mexican   1485\n",
      "19  central_american   1466\n",
      "20             other     84\n"
     ]
    }
   ],
   "source": [
    "column_name2 = 'ETHNICITY'\n",
    "# Get the number of occurrences of each unique value in the specified column\n",
    "valid_ethnicity_values = ['irish', 'italian', 'english', 'french', 'puerto_rican', 'german', 'polish', 'portuguese',\n",
    "                'chinese', 'american', 'french_canadian', 'african', 'dominican', 'asian_indian', 'scottish',\n",
    "                'swedish', 'russian', 'west_indian', 'mexican', 'central_american']\n",
    "\n",
    "# Replace any values not in the valid list with a default value (e.g., 'other')\n",
    "patient[column_name2] = patient[column_name2].apply(lambda x: x if x in valid_ethnicity_values else 'other')\n",
    "\n",
    "# Calculate value counts\n",
    "value_counts = patient[column_name2].value_counts().reset_index()\n",
    "\n",
    "# Assign column names to the DataFrame\n",
    "value_counts.columns = ['Unique_Value', 'Count']\n",
    "\n",
    "# Display the entire DataFrame without truncation\n",
    "with pd.option_context('display.max_rows', None):\n",
    "    print(value_counts)"
   ]
  },
  {
   "cell_type": "code",
   "execution_count": 21,
   "metadata": {},
   "outputs": [
    {
     "data": {
      "text/html": [
       "<div>\n",
       "<style scoped>\n",
       "    .dataframe tbody tr th:only-of-type {\n",
       "        vertical-align: middle;\n",
       "    }\n",
       "\n",
       "    .dataframe tbody tr th {\n",
       "        vertical-align: top;\n",
       "    }\n",
       "\n",
       "    .dataframe thead th {\n",
       "        text-align: right;\n",
       "    }\n",
       "</style>\n",
       "<table border=\"1\" class=\"dataframe\">\n",
       "  <thead>\n",
       "    <tr style=\"text-align: right;\">\n",
       "      <th></th>\n",
       "      <th>ID</th>\n",
       "      <th>BIRTHDATE</th>\n",
       "      <th>DEATHDATE</th>\n",
       "      <th>PASSPORT</th>\n",
       "      <th>MARITAL</th>\n",
       "      <th>RACE</th>\n",
       "      <th>ETHNICITY</th>\n",
       "      <th>GENDER</th>\n",
       "      <th>BIRTHPLACE</th>\n",
       "      <th>ZIP</th>\n",
       "      <th>BODY_WEIGHT</th>\n",
       "      <th>BODY_HEIGHT</th>\n",
       "      <th>BMI</th>\n",
       "      <th>SYSTOLIC_BP</th>\n",
       "      <th>DIASTOLIC_BP</th>\n",
       "    </tr>\n",
       "  </thead>\n",
       "  <tbody>\n",
       "    <tr>\n",
       "      <th>0</th>\n",
       "      <td>660bec03-9e58-47f2-98b9-2f1c564f3838</td>\n",
       "      <td>1996-07-26</td>\n",
       "      <td>False</td>\n",
       "      <td>False</td>\n",
       "      <td>S</td>\n",
       "      <td>white</td>\n",
       "      <td>irish</td>\n",
       "      <td>F</td>\n",
       "      <td>Fitchburg MA US</td>\n",
       "      <td>20810.0</td>\n",
       "      <td>73.54</td>\n",
       "      <td>163.07</td>\n",
       "      <td>27.66</td>\n",
       "      <td>101.0</td>\n",
       "      <td>75.0</td>\n",
       "    </tr>\n",
       "    <tr>\n",
       "      <th>1</th>\n",
       "      <td>5125d2b2-3aef-4ae2-aa5c-335f7e206b92</td>\n",
       "      <td>1996-09-24</td>\n",
       "      <td>False</td>\n",
       "      <td>False</td>\n",
       "      <td>S</td>\n",
       "      <td>white</td>\n",
       "      <td>french_canadian</td>\n",
       "      <td>F</td>\n",
       "      <td>Westborough MA US</td>\n",
       "      <td>2638.0</td>\n",
       "      <td>17.33</td>\n",
       "      <td>95.92</td>\n",
       "      <td>18.84</td>\n",
       "      <td>137.0</td>\n",
       "      <td>89.0</td>\n",
       "    </tr>\n",
       "    <tr>\n",
       "      <th>2</th>\n",
       "      <td>26626faf-cbd5-48d5-a3bf-a7b21ae08e4b</td>\n",
       "      <td>1944-09-01</td>\n",
       "      <td>2015-09-04</td>\n",
       "      <td>True</td>\n",
       "      <td>M</td>\n",
       "      <td>white</td>\n",
       "      <td>irish</td>\n",
       "      <td>M</td>\n",
       "      <td>Fall River MA US</td>\n",
       "      <td>23401.0</td>\n",
       "      <td>74.58</td>\n",
       "      <td>174.14</td>\n",
       "      <td>24.60</td>\n",
       "      <td>111.0</td>\n",
       "      <td>71.0</td>\n",
       "    </tr>\n",
       "    <tr>\n",
       "      <th>3</th>\n",
       "      <td>eed62b4a-1099-47ec-a2ac-d953830b44d6</td>\n",
       "      <td>1965-08-05</td>\n",
       "      <td>False</td>\n",
       "      <td>False</td>\n",
       "      <td>M</td>\n",
       "      <td>hispanic</td>\n",
       "      <td>central_american</td>\n",
       "      <td>M</td>\n",
       "      <td>Shrewsbury MA US</td>\n",
       "      <td>2631.0</td>\n",
       "      <td>113.23</td>\n",
       "      <td>164.74</td>\n",
       "      <td>41.72</td>\n",
       "      <td>131.0</td>\n",
       "      <td>86.0</td>\n",
       "    </tr>\n",
       "    <tr>\n",
       "      <th>4</th>\n",
       "      <td>6e9f8b3e-5a21-401e-868d-2d62e0e7f452</td>\n",
       "      <td>1979-11-03</td>\n",
       "      <td>False</td>\n",
       "      <td>True</td>\n",
       "      <td>M</td>\n",
       "      <td>white</td>\n",
       "      <td>irish</td>\n",
       "      <td>F</td>\n",
       "      <td>Wilmington MA US</td>\n",
       "      <td>2630.0</td>\n",
       "      <td>106.81</td>\n",
       "      <td>166.13</td>\n",
       "      <td>38.70</td>\n",
       "      <td>131.0</td>\n",
       "      <td>74.0</td>\n",
       "    </tr>\n",
       "  </tbody>\n",
       "</table>\n",
       "</div>"
      ],
      "text/plain": [
       "                                     ID   BIRTHDATE   DEATHDATE  PASSPORT  \\\n",
       "0  660bec03-9e58-47f2-98b9-2f1c564f3838  1996-07-26       False     False   \n",
       "1  5125d2b2-3aef-4ae2-aa5c-335f7e206b92  1996-09-24       False     False   \n",
       "2  26626faf-cbd5-48d5-a3bf-a7b21ae08e4b  1944-09-01  2015-09-04      True   \n",
       "3  eed62b4a-1099-47ec-a2ac-d953830b44d6  1965-08-05       False     False   \n",
       "4  6e9f8b3e-5a21-401e-868d-2d62e0e7f452  1979-11-03       False      True   \n",
       "\n",
       "  MARITAL      RACE         ETHNICITY GENDER         BIRTHPLACE      ZIP  \\\n",
       "0       S     white             irish      F    Fitchburg MA US  20810.0   \n",
       "1       S     white   french_canadian      F  Westborough MA US   2638.0   \n",
       "2       M     white             irish      M   Fall River MA US  23401.0   \n",
       "3       M  hispanic  central_american      M   Shrewsbury MA US   2631.0   \n",
       "4       M     white             irish      F   Wilmington MA US   2630.0   \n",
       "\n",
       "   BODY_WEIGHT  BODY_HEIGHT    BMI  SYSTOLIC_BP  DIASTOLIC_BP  \n",
       "0        73.54       163.07  27.66        101.0          75.0  \n",
       "1        17.33        95.92  18.84        137.0          89.0  \n",
       "2        74.58       174.14  24.60        111.0          71.0  \n",
       "3       113.23       164.74  41.72        131.0          86.0  \n",
       "4       106.81       166.13  38.70        131.0          74.0  "
      ]
     },
     "execution_count": 21,
     "metadata": {},
     "output_type": "execute_result"
    }
   ],
   "source": [
    "column_name = 'PASSPORT'\n",
    "\n",
    "# Change values to True if not already False\n",
    "patient[column_name] = patient[column_name].apply(lambda x: x.lower() != 'false')\n",
    "patient.head()"
   ]
  },
  {
   "cell_type": "code",
   "execution_count": 22,
   "metadata": {},
   "outputs": [
    {
     "name": "stderr",
     "output_type": "stream",
     "text": [
      "/Users/dakariantoine/anaconda3/lib/python3.11/site-packages/sklearn/utils/validation.py:605: FutureWarning: is_sparse is deprecated and will be removed in a future version. Check `isinstance(dtype, pd.SparseDtype)` instead.\n",
      "  if is_sparse(pd_dtype):\n",
      "/Users/dakariantoine/anaconda3/lib/python3.11/site-packages/sklearn/utils/validation.py:614: FutureWarning: is_sparse is deprecated and will be removed in a future version. Check `isinstance(dtype, pd.SparseDtype)` instead.\n",
      "  if is_sparse(pd_dtype) or not is_extension_array_dtype(pd_dtype):\n",
      "/Users/dakariantoine/anaconda3/lib/python3.11/site-packages/sklearn/utils/validation.py:605: FutureWarning: is_sparse is deprecated and will be removed in a future version. Check `isinstance(dtype, pd.SparseDtype)` instead.\n",
      "  if is_sparse(pd_dtype):\n",
      "/Users/dakariantoine/anaconda3/lib/python3.11/site-packages/sklearn/utils/validation.py:614: FutureWarning: is_sparse is deprecated and will be removed in a future version. Check `isinstance(dtype, pd.SparseDtype)` instead.\n",
      "  if is_sparse(pd_dtype) or not is_extension_array_dtype(pd_dtype):\n",
      "/Users/dakariantoine/anaconda3/lib/python3.11/site-packages/sklearn/utils/validation.py:605: FutureWarning: is_sparse is deprecated and will be removed in a future version. Check `isinstance(dtype, pd.SparseDtype)` instead.\n",
      "  if is_sparse(pd_dtype):\n",
      "/Users/dakariantoine/anaconda3/lib/python3.11/site-packages/sklearn/utils/validation.py:614: FutureWarning: is_sparse is deprecated and will be removed in a future version. Check `isinstance(dtype, pd.SparseDtype)` instead.\n",
      "  if is_sparse(pd_dtype) or not is_extension_array_dtype(pd_dtype):\n"
     ]
    }
   ],
   "source": [
    "columns_to_normalize = ['RACE', 'ETHNICITY', 'PASSPORT', 'BIRTHPLACE'] \n",
    "\n",
    "# Create a LabelEncoder\n",
    "label_encoder = LabelEncoder()\n",
    "\n",
    "# Apply LabelEncoder to each column\n",
    "patient[columns_to_normalize] = patient[columns_to_normalize].apply(label_encoder.fit_transform)"
   ]
  },
  {
   "cell_type": "code",
   "execution_count": 23,
   "metadata": {},
   "outputs": [
    {
     "data": {
      "text/html": [
       "<div>\n",
       "<style scoped>\n",
       "    .dataframe tbody tr th:only-of-type {\n",
       "        vertical-align: middle;\n",
       "    }\n",
       "\n",
       "    .dataframe tbody tr th {\n",
       "        vertical-align: top;\n",
       "    }\n",
       "\n",
       "    .dataframe thead th {\n",
       "        text-align: right;\n",
       "    }\n",
       "</style>\n",
       "<table border=\"1\" class=\"dataframe\">\n",
       "  <thead>\n",
       "    <tr style=\"text-align: right;\">\n",
       "      <th></th>\n",
       "      <th>ID</th>\n",
       "      <th>BIRTHDATE</th>\n",
       "      <th>DEATHDATE</th>\n",
       "      <th>PASSPORT</th>\n",
       "      <th>MARITAL</th>\n",
       "      <th>RACE</th>\n",
       "      <th>ETHNICITY</th>\n",
       "      <th>GENDER</th>\n",
       "      <th>BIRTHPLACE</th>\n",
       "      <th>ZIP</th>\n",
       "      <th>BODY_WEIGHT</th>\n",
       "      <th>BODY_HEIGHT</th>\n",
       "      <th>BMI</th>\n",
       "      <th>SYSTOLIC_BP</th>\n",
       "      <th>DIASTOLIC_BP</th>\n",
       "    </tr>\n",
       "  </thead>\n",
       "  <tbody>\n",
       "    <tr>\n",
       "      <th>0</th>\n",
       "      <td>660bec03-9e58-47f2-98b9-2f1c564f3838</td>\n",
       "      <td>1996-07-26</td>\n",
       "      <td>False</td>\n",
       "      <td>0</td>\n",
       "      <td>0</td>\n",
       "      <td>5</td>\n",
       "      <td>10</td>\n",
       "      <td>0</td>\n",
       "      <td>119</td>\n",
       "      <td>20810.0</td>\n",
       "      <td>73.54</td>\n",
       "      <td>163.07</td>\n",
       "      <td>27.66</td>\n",
       "      <td>101.0</td>\n",
       "      <td>75.0</td>\n",
       "    </tr>\n",
       "    <tr>\n",
       "      <th>1</th>\n",
       "      <td>5125d2b2-3aef-4ae2-aa5c-335f7e206b92</td>\n",
       "      <td>1996-09-24</td>\n",
       "      <td>False</td>\n",
       "      <td>0</td>\n",
       "      <td>0</td>\n",
       "      <td>5</td>\n",
       "      <td>8</td>\n",
       "      <td>0</td>\n",
       "      <td>363</td>\n",
       "      <td>2638.0</td>\n",
       "      <td>17.33</td>\n",
       "      <td>95.92</td>\n",
       "      <td>18.84</td>\n",
       "      <td>137.0</td>\n",
       "      <td>89.0</td>\n",
       "    </tr>\n",
       "    <tr>\n",
       "      <th>2</th>\n",
       "      <td>26626faf-cbd5-48d5-a3bf-a7b21ae08e4b</td>\n",
       "      <td>1944-09-01</td>\n",
       "      <td>2015-09-04</td>\n",
       "      <td>1</td>\n",
       "      <td>1</td>\n",
       "      <td>5</td>\n",
       "      <td>10</td>\n",
       "      <td>1</td>\n",
       "      <td>117</td>\n",
       "      <td>23401.0</td>\n",
       "      <td>74.58</td>\n",
       "      <td>174.14</td>\n",
       "      <td>24.60</td>\n",
       "      <td>111.0</td>\n",
       "      <td>71.0</td>\n",
       "    </tr>\n",
       "    <tr>\n",
       "      <th>3</th>\n",
       "      <td>eed62b4a-1099-47ec-a2ac-d953830b44d6</td>\n",
       "      <td>1965-08-05</td>\n",
       "      <td>False</td>\n",
       "      <td>0</td>\n",
       "      <td>1</td>\n",
       "      <td>2</td>\n",
       "      <td>3</td>\n",
       "      <td>1</td>\n",
       "      <td>304</td>\n",
       "      <td>2631.0</td>\n",
       "      <td>113.23</td>\n",
       "      <td>164.74</td>\n",
       "      <td>41.72</td>\n",
       "      <td>131.0</td>\n",
       "      <td>86.0</td>\n",
       "    </tr>\n",
       "    <tr>\n",
       "      <th>4</th>\n",
       "      <td>6e9f8b3e-5a21-401e-868d-2d62e0e7f452</td>\n",
       "      <td>1979-11-03</td>\n",
       "      <td>False</td>\n",
       "      <td>1</td>\n",
       "      <td>1</td>\n",
       "      <td>5</td>\n",
       "      <td>10</td>\n",
       "      <td>0</td>\n",
       "      <td>377</td>\n",
       "      <td>2630.0</td>\n",
       "      <td>106.81</td>\n",
       "      <td>166.13</td>\n",
       "      <td>38.70</td>\n",
       "      <td>131.0</td>\n",
       "      <td>74.0</td>\n",
       "    </tr>\n",
       "  </tbody>\n",
       "</table>\n",
       "</div>"
      ],
      "text/plain": [
       "                                     ID   BIRTHDATE   DEATHDATE  PASSPORT  \\\n",
       "0  660bec03-9e58-47f2-98b9-2f1c564f3838  1996-07-26       False         0   \n",
       "1  5125d2b2-3aef-4ae2-aa5c-335f7e206b92  1996-09-24       False         0   \n",
       "2  26626faf-cbd5-48d5-a3bf-a7b21ae08e4b  1944-09-01  2015-09-04         1   \n",
       "3  eed62b4a-1099-47ec-a2ac-d953830b44d6  1965-08-05       False         0   \n",
       "4  6e9f8b3e-5a21-401e-868d-2d62e0e7f452  1979-11-03       False         1   \n",
       "\n",
       "   MARITAL  RACE  ETHNICITY  GENDER  BIRTHPLACE      ZIP  BODY_WEIGHT  \\\n",
       "0        0     5         10       0         119  20810.0        73.54   \n",
       "1        0     5          8       0         363   2638.0        17.33   \n",
       "2        1     5         10       1         117  23401.0        74.58   \n",
       "3        1     2          3       1         304   2631.0       113.23   \n",
       "4        1     5         10       0         377   2630.0       106.81   \n",
       "\n",
       "   BODY_HEIGHT    BMI  SYSTOLIC_BP  DIASTOLIC_BP  \n",
       "0       163.07  27.66        101.0          75.0  \n",
       "1        95.92  18.84        137.0          89.0  \n",
       "2       174.14  24.60        111.0          71.0  \n",
       "3       164.74  41.72        131.0          86.0  \n",
       "4       166.13  38.70        131.0          74.0  "
      ]
     },
     "execution_count": 23,
     "metadata": {},
     "output_type": "execute_result"
    }
   ],
   "source": [
    "patient['MARITAL'] = patient['MARITAL'].apply(lambda x: 0 if x == 'S' else 1)\n",
    "\n",
    "# Map 'M' to 1 and 'F' to 0 in the 'GENDER' column\n",
    "patient['GENDER'] = patient['GENDER'].apply(lambda x: 0 if x == 'F' else 1)\n",
    "patient.head()"
   ]
  },
  {
   "cell_type": "code",
   "execution_count": 24,
   "metadata": {},
   "outputs": [
    {
     "data": {
      "text/plain": [
       "PATIENT    0\n",
       "CODE       0\n",
       "dtype: int64"
      ]
     },
     "execution_count": 24,
     "metadata": {},
     "output_type": "execute_result"
    }
   ],
   "source": [
    "allergies.isna().sum()"
   ]
  },
  {
   "cell_type": "code",
   "execution_count": 25,
   "metadata": {},
   "outputs": [
    {
     "data": {
      "image/png": "[encoded data removed]",
      "text/plain": [
       "<Figure size 640x480 with 1 Axes>"
      ]
     },
     "metadata": {},
     "output_type": "display_data"
    }
   ],
   "source": [
    "plt.hist(allergies['CODE'].unique(), bins='auto', edgecolor='black')\n",
    "plt.xlabel('Unique Values')\n",
    "plt.ylabel('Frequency')\n",
    "plt.title('Histogram of Unique Values')\n",
    "plt.show()"
   ]
  },
  {
   "cell_type": "code",
   "execution_count": 26,
   "metadata": {},
   "outputs": [
    {
     "data": {
      "text/plain": [
       "PATIENT    0\n",
       "CODE       0\n",
       "dtype: int64"
      ]
     },
     "execution_count": 26,
     "metadata": {},
     "output_type": "execute_result"
    }
   ],
   "source": [
    "conditions.isna().sum()"
   ]
  },
  {
   "cell_type": "code",
   "execution_count": 27,
   "metadata": {},
   "outputs": [
    {
     "data": {
      "image/png": "[encoded data removed]",
      "text/plain": [
       "<Figure size 1000x600 with 1 Axes>"
      ]
     },
     "metadata": {},
     "output_type": "display_data"
    }
   ],
   "source": [
    "value_counts = conditions['CODE'].value_counts()\n",
    "\n",
    "num_bins = 5\n",
    "\n",
    "plt.figure(figsize=(10, 6))\n",
    "plt.hist(value_counts.index, bins=num_bins, edgecolor='black', weights=value_counts.values)\n",
    "plt.xlabel('Unique Values')\n",
    "plt.ylabel('Frequency')\n",
    "plt.title('Histogram of Unique Values')\n",
    "plt.show()"
   ]
  },
  {
   "cell_type": "code",
   "execution_count": 28,
   "metadata": {},
   "outputs": [
    {
     "data": {
      "text/plain": [
       "PATIENT       0\n",
       "CODE          0\n",
       "REASONCODE    0\n",
       "dtype: int64"
      ]
     },
     "execution_count": 28,
     "metadata": {},
     "output_type": "execute_result"
    }
   ],
   "source": [
    "medications.fillna(0, inplace=True)\n",
    "medications.isna().sum()"
   ]
  },
  {
   "cell_type": "code",
   "execution_count": 29,
   "metadata": {},
   "outputs": [
    {
     "data": {
      "image/png": "[encoded data removed]",
      "text/plain": [
       "<Figure size 640x480 with 1 Axes>"
      ]
     },
     "metadata": {},
     "output_type": "display_data"
    }
   ],
   "source": [
    "plt.hist(medications['CODE'].unique(), bins='auto', edgecolor='black')\n",
    "plt.xlabel('Unique Values')\n",
    "plt.ylabel('Frequency')\n",
    "plt.title('Histogram of Unique Values')\n",
    "plt.show()"
   ]
  },
  {
   "cell_type": "code",
   "execution_count": 30,
   "metadata": {},
   "outputs": [
    {
     "data": {
      "image/png": "[encoded data removed]",
      "text/plain": [
       "<Figure size 1000x600 with 1 Axes>"
      ]
     },
     "metadata": {},
     "output_type": "display_data"
    }
   ],
   "source": [
    "value_counts = medications['REASONCODE'].value_counts()\n",
    "\n",
    "num_bins = 5\n",
    "\n",
    "plt.figure(figsize=(10, 6))\n",
    "plt.hist(value_counts.index, bins=num_bins, edgecolor='black', weights=value_counts.values)\n",
    "plt.xlabel('Unique Values')\n",
    "plt.ylabel('Frequency')\n",
    "plt.title('Histogram of Unique Values')\n",
    "plt.show()"
   ]
  },
  {
   "cell_type": "code",
   "execution_count": 31,
   "metadata": {},
   "outputs": [
    {
     "data": {
      "text/plain": [
       "PATIENT    0\n",
       "CODE       0\n",
       "dtype: int64"
      ]
     },
     "execution_count": 31,
     "metadata": {},
     "output_type": "execute_result"
    }
   ],
   "source": [
    "immunizations.isna().sum()"
   ]
  },
  {
   "cell_type": "code",
   "execution_count": 32,
   "metadata": {},
   "outputs": [
    {
     "data": {
      "image/png": "[encoded data removed]",
      "text/plain": [
       "<Figure size 640x480 with 1 Axes>"
      ]
     },
     "metadata": {},
     "output_type": "display_data"
    }
   ],
   "source": [
    "plt.hist(immunizations['CODE'].unique(), bins='auto', edgecolor='black')\n",
    "plt.xlabel('Unique Values')\n",
    "plt.ylabel('Frequency')\n",
    "plt.title('Histogram of Unique Values')\n",
    "plt.show()"
   ]
  },
  {
   "cell_type": "code",
   "execution_count": 33,
   "metadata": {},
   "outputs": [
    {
     "data": {
      "text/plain": [
       "PATIENT       0\n",
       "CODE          0\n",
       "REASONCODE    0\n",
       "dtype: int64"
      ]
     },
     "execution_count": 33,
     "metadata": {},
     "output_type": "execute_result"
    }
   ],
   "source": [
    "encounters.fillna(0, inplace=True)\n",
    "encounters.isna().sum()"
   ]
  },
  {
   "cell_type": "code",
   "execution_count": 34,
   "metadata": {},
   "outputs": [
    {
     "data": {
      "image/png": "[encoded data removed]",
      "text/plain": [
       "<Figure size 640x480 with 1 Axes>"
      ]
     },
     "metadata": {},
     "output_type": "display_data"
    }
   ],
   "source": [
    "plt.hist(encounters['CODE'].unique(), bins='auto', edgecolor='black')\n",
    "plt.xlabel('Unique Values')\n",
    "plt.ylabel('Frequency')\n",
    "plt.title('Histogram of Unique Values')\n",
    "plt.show()"
   ]
  },
  {
   "cell_type": "code",
   "execution_count": 35,
   "metadata": {},
   "outputs": [
    {
     "data": {
      "image/png": "[encoded data removed]",
      "text/plain": [
       "<Figure size 1000x600 with 1 Axes>"
      ]
     },
     "metadata": {},
     "output_type": "display_data"
    }
   ],
   "source": [
    "value_counts = encounters['REASONCODE'].value_counts()\n",
    "\n",
    "num_bins = 5\n",
    "\n",
    "plt.figure(figsize=(10, 6))\n",
    "plt.hist(value_counts.index, bins=num_bins, edgecolor='black', weights=value_counts.values)\n",
    "plt.xlabel('Unique Values')\n",
    "plt.ylabel('Frequency')\n",
    "plt.title('Histogram of Unique Values')\n",
    "plt.show()"
   ]
  },
  {
   "cell_type": "code",
   "execution_count": 36,
   "metadata": {},
   "outputs": [
    {
     "data": {
      "text/plain": [
       "PATIENT       0\n",
       "CODE          0\n",
       "REASONCODE    0\n",
       "dtype: int64"
      ]
     },
     "execution_count": 36,
     "metadata": {},
     "output_type": "execute_result"
    }
   ],
   "source": [
    "careplans.fillna(0, inplace=True)\n",
    "careplans.isna().sum()"
   ]
  },
  {
   "cell_type": "code",
   "execution_count": 37,
   "metadata": {},
   "outputs": [
    {
     "data": {
      "image/png": "[encoded data removed]",
      "text/plain": [
       "<Figure size 1000x600 with 1 Axes>"
      ]
     },
     "metadata": {},
     "output_type": "display_data"
    }
   ],
   "source": [
    "value_counts = careplans['CODE'].value_counts()\n",
    "\n",
    "num_bins = 5\n",
    "\n",
    "plt.figure(figsize=(10, 6))\n",
    "plt.hist(value_counts.index, bins=num_bins, edgecolor='black', weights=value_counts.values)\n",
    "plt.xlabel('Unique Values')\n",
    "plt.ylabel('Frequency')\n",
    "plt.title('Histogram of Unique Values')\n",
    "plt.show()"
   ]
  },
  {
   "cell_type": "code",
   "execution_count": null,
   "metadata": {},
   "outputs": [],
   "source": [
    "import warnings\n",
    "# Suppress FutureWarnings\n",
    "warnings.simplefilter(action='ignore', category=FutureWarning)\n",
    "numeric_columns = patient.select_dtypes(include=['number'])\n",
    "\n",
    "sns.pairplot(numeric_columns)\n",
    "plt.show()"
   ]
  },
  {
   "cell_type": "code",
   "execution_count": null,
   "metadata": {},
   "outputs": [],
   "source": [
    "numeric_columns = patient.select_dtypes(include=['number'])\n",
    "sns.scatterplot(data=numeric_columns)\n",
    "plt.show()"
   ]
  },
  {
   "cell_type": "code",
   "execution_count": null,
   "metadata": {},
   "outputs": [],
   "source": [
    "corr_matrix = numeric_columns.corr() \n",
    "sns.heatmap(corr_matrix,annot=True,cmap='coolwarm',vmin=-1)"
   ]
  },
  {
   "cell_type": "code",
   "execution_count": null,
   "metadata": {},
   "outputs": [],
   "source": [
    "dfs = [conditions, allergies, medications, immunizations, encounters, careplans]\n",
    "prefixes = ['conditions_', 'allergies_', 'medications_', 'immunizations_', 'encounters_', 'careplans_']\n",
    "\n",
    "# Add prefixes to column names\n",
    "for df, prefix in zip(dfs, prefixes):\n",
    "    df.columns = [f'{prefix}{col}' for col in df.columns]"
   ]
  },
  {
   "cell_type": "code",
   "execution_count": null,
   "metadata": {},
   "outputs": [],
   "source": [
    "combined_df = pd.concat(dfs, axis=1)\n",
    "merged_df = pd.merge(patient, combined_df, left_on='ID', right_on='conditions_PATIENT', how='outer')\n",
    "numeric_columns = merged_df.select_dtypes(include=['number'])\n",
    "correlation_matrix = numeric_columns.corr()"
   ]
  },
  {
   "cell_type": "code",
   "execution_count": null,
   "metadata": {},
   "outputs": [],
   "source": [
    "plt.figure(figsize=(10, 8))\n",
    "plt.imshow(correlation_matrix, cmap='coolwarm', interpolation='none', aspect='auto')\n",
    "plt.colorbar()\n",
    "plt.xticks(range(len(correlation_matrix.columns)), correlation_matrix.columns, rotation=90)\n",
    "plt.yticks(range(len(correlation_matrix.columns)), correlation_matrix.columns)\n",
    "plt.title('Correlation Matrix')\n",
    "plt.show()"
   ]
  },
  {
   "cell_type": "code",
   "execution_count": null,
   "metadata": {},
   "outputs": [],
   "source": [
    "sns.scatterplot(data=numeric_columns)\n",
    "plt.show()"
   ]
  }
 ],
 "metadata": {
  "kernelspec": {
   "display_name": "base",
   "language": "python",
   "name": "python3"
  },
  "language_info": {
   "codemirror_mode": {
    "name": "ipython",
    "version": 3
   },
   "file_extension": ".py",
   "mimetype": "text/x-python",
   "name": "python",
   "nbconvert_exporter": "python",
   "pygments_lexer": "ipython3",
   "version": "3.11.5"
  }
 },
 "nbformat": 4,
 "nbformat_minor": 2
}
