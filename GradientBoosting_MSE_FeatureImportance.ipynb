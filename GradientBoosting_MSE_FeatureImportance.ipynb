{
 "cells": [
  {
   "cell_type": "code",
   "execution_count": 2,
   "metadata": {},
   "outputs": [],
   "source": [
    "# Importing necessary libraries\n",
    "import pandas as pd\n",
    "import numpy as np\n",
    "from datetime import datetime\n",
    "from sklearn.preprocessing import LabelEncoder\n",
    "from sklearn.model_selection import train_test_split\n",
    "from sklearn.ensemble import BaggingClassifier\n",
    "from sklearn.metrics import accuracy_score, classification_report\n",
    "from imblearn.over_sampling import SMOTE\n",
    "from sklearn.preprocessing import StandardScaler"
   ]
  },
  {
   "cell_type": "code",
   "execution_count": 3,
   "metadata": {},
   "outputs": [],
   "source": [
    "patient = pd.read_csv('../../CombinedData/combined1.csv')\n",
    "allergies = pd.read_csv('../../CombinedData/allergies.csv')\n",
    "immunizations = pd.read_csv('../../CombinedData/immunizations.csv')\n",
    "conditions = pd.read_csv('../../CombinedData/conditions.csv')\n",
    "medications = pd.read_csv('../../CombinedData/medications.csv')\n",
    "encounters = pd.read_csv('../../CombinedData/encounters.csv')\n",
    "careplans = pd.read_csv('../../CombinedData/careplans.csv')"
   ]
  },
  {
   "cell_type": "code",
   "execution_count": 4,
   "metadata": {},
   "outputs": [],
   "source": [
    "patient.drop(columns=['CONDITIONS_CODE','MEDICATIONS_CODE','MEDICATIONS_REASONCODE','ENCOUNTERS_CODE','ENCOUNTERS_REASONCODE','ALLERGIES_CODE', 'IMMUNIZATIONS_CODE', 'CAREPLANS_CODE', 'CAREPLANS_REASONCODE', 'OBSERVATIONS_CODE'], inplace=True)\n",
    "conditions.drop(columns=['START', 'STOP', 'ENCOUNTER', 'DESCRIPTION'], inplace=True)\n",
    "medications.drop(columns=['START', 'STOP', 'ENCOUNTER', 'DESCRIPTION', 'REASONDESCRIPTION'], inplace=True)\n",
    "immunizations.drop(columns=['DATE', 'ENCOUNTER', 'DESCRIPTION'], inplace=True)\n",
    "allergies.drop(columns=['START', 'STOP', 'ENCOUNTER', 'DESCRIPTION'], inplace=True)\n",
    "encounters.drop(columns=['DATE', 'ID', 'DESCRIPTION', 'REASONDESCRIPTION'], inplace=True)\n",
    "careplans.drop(columns=['ID', 'START', 'STOP', 'ENCOUNTER', 'DESCRIPTION', 'REASONDESCRIPTION'], inplace=True)"
   ]
  },
  {
   "cell_type": "code",
   "execution_count": 5,
   "metadata": {},
   "outputs": [],
   "source": [
    "patient.isna().sum()\n",
    "columns_to_fill_with_mode = ['RACE', 'ETHNICITY', 'GENDER', 'BIRTHPLACE', 'ZIP']"
   ]
  },
  {
   "cell_type": "code",
   "execution_count": 6,
   "metadata": {},
   "outputs": [],
   "source": [
    "for column in columns_to_fill_with_mode:\n",
    "    mode_value = patient[column].mode()[0]\n",
    "    patient[column].fillna(mode_value, inplace=True)\n",
    "    \n",
    "patient['MARITAL'] = patient['MARITAL'].fillna('S')\n",
    "patient['DEATHDATE'] = patient['DEATHDATE'].fillna('False')\n",
    "patient['PASSPORT'] = patient['PASSPORT'].apply(lambda x: x.lower() != 'false')\n",
    "columns_to_normalize = ['RACE', 'ETHNICITY', 'PASSPORT', 'BIRTHPLACE'] "
   ]
  },
  {
   "cell_type": "code",
   "execution_count": 7,
   "metadata": {},
   "outputs": [
    {
     "name": "stderr",
     "output_type": "stream",
     "text": [
      "/var/folders/33/9x78v0zs43q5dygckhsgm6380000gn/T/ipykernel_13713/479669731.py:26: UserWarning: Could not infer format, so each element will be parsed individually, falling back to `dateutil`. To ensure parsing is consistent and as-expected, please specify a format.\n",
      "  patient['DEATHDATE'] = pd.to_datetime(patient['DEATHDATE'], errors='coerce')\n"
     ]
    },
    {
     "data": {
      "text/html": [
       "<div>\n",
       "<style scoped>\n",
       "    .dataframe tbody tr th:only-of-type {\n",
       "        vertical-align: middle;\n",
       "    }\n",
       "\n",
       "    .dataframe tbody tr th {\n",
       "        vertical-align: top;\n",
       "    }\n",
       "\n",
       "    .dataframe thead th {\n",
       "        text-align: right;\n",
       "    }\n",
       "</style>\n",
       "<table border=\"1\" class=\"dataframe\">\n",
       "  <thead>\n",
       "    <tr style=\"text-align: right;\">\n",
       "      <th></th>\n",
       "      <th>ID</th>\n",
       "      <th>BIRTHDATE</th>\n",
       "      <th>DEATHDATE</th>\n",
       "      <th>PASSPORT</th>\n",
       "      <th>MARITAL</th>\n",
       "      <th>RACE</th>\n",
       "      <th>ETHNICITY</th>\n",
       "      <th>GENDER</th>\n",
       "      <th>BIRTHPLACE</th>\n",
       "      <th>ZIP</th>\n",
       "      <th>BODY_WEIGHT</th>\n",
       "      <th>BODY_HEIGHT</th>\n",
       "      <th>BMI</th>\n",
       "      <th>SYSTOLIC_BP</th>\n",
       "      <th>DIASTOLIC_BP</th>\n",
       "      <th>AGE</th>\n",
       "      <th>AGE_AT_DEATH</th>\n",
       "    </tr>\n",
       "  </thead>\n",
       "  <tbody>\n",
       "    <tr>\n",
       "      <th>0</th>\n",
       "      <td>660bec03-9e58-47f2-98b9-2f1c564f3838</td>\n",
       "      <td>1996-07-26</td>\n",
       "      <td>NaT</td>\n",
       "      <td>0</td>\n",
       "      <td>0</td>\n",
       "      <td>43</td>\n",
       "      <td>59</td>\n",
       "      <td>0</td>\n",
       "      <td>119</td>\n",
       "      <td>20810.0</td>\n",
       "      <td>73.54</td>\n",
       "      <td>163.07</td>\n",
       "      <td>27.66</td>\n",
       "      <td>101.0</td>\n",
       "      <td>75.0</td>\n",
       "      <td>26.0</td>\n",
       "      <td>0.0</td>\n",
       "    </tr>\n",
       "    <tr>\n",
       "      <th>1</th>\n",
       "      <td>5125d2b2-3aef-4ae2-aa5c-335f7e206b92</td>\n",
       "      <td>1996-09-24</td>\n",
       "      <td>NaT</td>\n",
       "      <td>0</td>\n",
       "      <td>0</td>\n",
       "      <td>43</td>\n",
       "      <td>56</td>\n",
       "      <td>0</td>\n",
       "      <td>363</td>\n",
       "      <td>2638.0</td>\n",
       "      <td>17.33</td>\n",
       "      <td>95.92</td>\n",
       "      <td>18.84</td>\n",
       "      <td>137.0</td>\n",
       "      <td>89.0</td>\n",
       "      <td>26.0</td>\n",
       "      <td>0.0</td>\n",
       "    </tr>\n",
       "    <tr>\n",
       "      <th>2</th>\n",
       "      <td>26626faf-cbd5-48d5-a3bf-a7b21ae08e4b</td>\n",
       "      <td>1944-09-01</td>\n",
       "      <td>2015-09-04</td>\n",
       "      <td>1</td>\n",
       "      <td>1</td>\n",
       "      <td>43</td>\n",
       "      <td>59</td>\n",
       "      <td>1</td>\n",
       "      <td>117</td>\n",
       "      <td>23401.0</td>\n",
       "      <td>74.58</td>\n",
       "      <td>174.14</td>\n",
       "      <td>24.60</td>\n",
       "      <td>111.0</td>\n",
       "      <td>71.0</td>\n",
       "      <td>78.0</td>\n",
       "      <td>71.0</td>\n",
       "    </tr>\n",
       "    <tr>\n",
       "      <th>3</th>\n",
       "      <td>eed62b4a-1099-47ec-a2ac-d953830b44d6</td>\n",
       "      <td>1965-08-05</td>\n",
       "      <td>NaT</td>\n",
       "      <td>0</td>\n",
       "      <td>1</td>\n",
       "      <td>41</td>\n",
       "      <td>48</td>\n",
       "      <td>1</td>\n",
       "      <td>304</td>\n",
       "      <td>2631.0</td>\n",
       "      <td>113.23</td>\n",
       "      <td>164.74</td>\n",
       "      <td>41.72</td>\n",
       "      <td>131.0</td>\n",
       "      <td>86.0</td>\n",
       "      <td>57.0</td>\n",
       "      <td>0.0</td>\n",
       "    </tr>\n",
       "    <tr>\n",
       "      <th>4</th>\n",
       "      <td>6e9f8b3e-5a21-401e-868d-2d62e0e7f452</td>\n",
       "      <td>1979-11-03</td>\n",
       "      <td>NaT</td>\n",
       "      <td>1</td>\n",
       "      <td>1</td>\n",
       "      <td>43</td>\n",
       "      <td>59</td>\n",
       "      <td>0</td>\n",
       "      <td>377</td>\n",
       "      <td>2630.0</td>\n",
       "      <td>106.81</td>\n",
       "      <td>166.13</td>\n",
       "      <td>38.70</td>\n",
       "      <td>131.0</td>\n",
       "      <td>74.0</td>\n",
       "      <td>43.0</td>\n",
       "      <td>0.0</td>\n",
       "    </tr>\n",
       "  </tbody>\n",
       "</table>\n",
       "</div>"
      ],
      "text/plain": [
       "                                     ID  BIRTHDATE  DEATHDATE  PASSPORT  \\\n",
       "0  660bec03-9e58-47f2-98b9-2f1c564f3838 1996-07-26        NaT         0   \n",
       "1  5125d2b2-3aef-4ae2-aa5c-335f7e206b92 1996-09-24        NaT         0   \n",
       "2  26626faf-cbd5-48d5-a3bf-a7b21ae08e4b 1944-09-01 2015-09-04         1   \n",
       "3  eed62b4a-1099-47ec-a2ac-d953830b44d6 1965-08-05        NaT         0   \n",
       "4  6e9f8b3e-5a21-401e-868d-2d62e0e7f452 1979-11-03        NaT         1   \n",
       "\n",
       "   MARITAL  RACE  ETHNICITY  GENDER  BIRTHPLACE      ZIP  BODY_WEIGHT  \\\n",
       "0        0    43         59       0         119  20810.0        73.54   \n",
       "1        0    43         56       0         363   2638.0        17.33   \n",
       "2        1    43         59       1         117  23401.0        74.58   \n",
       "3        1    41         48       1         304   2631.0       113.23   \n",
       "4        1    43         59       0         377   2630.0       106.81   \n",
       "\n",
       "   BODY_HEIGHT    BMI  SYSTOLIC_BP  DIASTOLIC_BP   AGE  AGE_AT_DEATH  \n",
       "0       163.07  27.66        101.0          75.0  26.0           0.0  \n",
       "1        95.92  18.84        137.0          89.0  26.0           0.0  \n",
       "2       174.14  24.60        111.0          71.0  78.0          71.0  \n",
       "3       164.74  41.72        131.0          86.0  57.0           0.0  \n",
       "4       166.13  38.70        131.0          74.0  43.0           0.0  "
      ]
     },
     "execution_count": 7,
     "metadata": {},
     "output_type": "execute_result"
    }
   ],
   "source": [
    "# Create a LabelEncoder\n",
    "label_encoder = LabelEncoder()\n",
    "\n",
    "# Apply LabelEncoder to each column\n",
    "patient[columns_to_normalize] = patient[columns_to_normalize].apply(label_encoder.fit_transform)\n",
    "\n",
    "patient['MARITAL'] = patient['MARITAL'].apply(lambda x: 0 if x == 'S' else 1)\n",
    "\n",
    "# Map 'M' to 1 and 'F' to 0 in the 'GENDER' column\n",
    "patient['GENDER'] = patient['GENDER'].apply(lambda x: 0 if x == 'F' else 1)\n",
    "\n",
    "patient.isna().sum()\n",
    "# Convert 'BIRTHDATE' to datetime, handling errors by setting problematic values to NaN\n",
    "patient['BIRTHDATE'] = pd.to_datetime(patient['BIRTHDATE'], errors='coerce')\n",
    "\n",
    "# Drop rows with NaN values in 'BIRTHDATE'\n",
    "patient = patient.dropna(subset=['BIRTHDATE'])\n",
    "\n",
    "# Assuming you have cleaned the 'BIRTHDATE' column, you can proceed with the reference date\n",
    "reference_date = pd.to_datetime('2023-01-01')\n",
    "\n",
    "# Calculate age\n",
    "patient['AGE'] = (reference_date - patient['BIRTHDATE']).dt.days // 365.25\n",
    "\n",
    "# Convert 'DEATHDATE' to datetime, handling errors by setting problematic values to NaT\n",
    "patient['DEATHDATE'] = pd.to_datetime(patient['DEATHDATE'], errors='coerce')\n",
    "\n",
    "# Calculate age at death if available\n",
    "patient['AGE_AT_DEATH'] = (patient['DEATHDATE'] - patient['BIRTHDATE']).dt.days // 365.25\n",
    "\n",
    "# Replace NaT with 0 in 'AGE_AT_DEATH' for patients who are not deceased\n",
    "patient['AGE_AT_DEATH'] = patient['AGE_AT_DEATH'].fillna(0)\n",
    "\n",
    "patient.head()"
   ]
  },
  {
   "cell_type": "code",
   "execution_count": 8,
   "metadata": {},
   "outputs": [
    {
     "data": {
      "text/plain": [
       "PATIENT           0\n",
       "ALLERGIES_CODE    0\n",
       "dtype: int64"
      ]
     },
     "execution_count": 8,
     "metadata": {},
     "output_type": "execute_result"
    }
   ],
   "source": [
    "allergies = allergies.rename(columns={'CODE': 'ALLERGIES_CODE'})\n",
    "allergies.isna().sum()"
   ]
  },
  {
   "cell_type": "code",
   "execution_count": 9,
   "metadata": {},
   "outputs": [
    {
     "data": {
      "text/plain": [
       "PATIENT            0\n",
       "CONDITIONS_CODE    0\n",
       "dtype: int64"
      ]
     },
     "execution_count": 9,
     "metadata": {},
     "output_type": "execute_result"
    }
   ],
   "source": [
    "conditions = conditions.rename(columns={'CODE': 'CONDITIONS_CODE'})\n",
    "conditions.isna().sum()"
   ]
  },
  {
   "cell_type": "code",
   "execution_count": 10,
   "metadata": {},
   "outputs": [
    {
     "data": {
      "text/plain": [
       "PATIENT                        0\n",
       "MEDICATIONS_CODE               0\n",
       "MEDICATIONS_REASONCODE    118792\n",
       "dtype: int64"
      ]
     },
     "execution_count": 10,
     "metadata": {},
     "output_type": "execute_result"
    }
   ],
   "source": [
    "medications = medications.rename(columns={'CODE': 'MEDICATIONS_CODE'})\n",
    "medications = medications.rename(columns={'REASONCODE': 'MEDICATIONS_REASONCODE'})\n",
    "medications.isna().sum()"
   ]
  },
  {
   "cell_type": "code",
   "execution_count": 11,
   "metadata": {},
   "outputs": [
    {
     "data": {
      "text/plain": [
       "PATIENT                   0\n",
       "MEDICATIONS_CODE          0\n",
       "MEDICATIONS_REASONCODE    0\n",
       "dtype: int64"
      ]
     },
     "execution_count": 11,
     "metadata": {},
     "output_type": "execute_result"
    }
   ],
   "source": [
    "medications.fillna(0, inplace=True)\n",
    "medications.isna().sum()"
   ]
  },
  {
   "cell_type": "code",
   "execution_count": 12,
   "metadata": {},
   "outputs": [
    {
     "data": {
      "text/plain": [
       "PATIENT               0\n",
       "IMMUNIZATIONS_CODE    0\n",
       "dtype: int64"
      ]
     },
     "execution_count": 12,
     "metadata": {},
     "output_type": "execute_result"
    }
   ],
   "source": [
    "immunizations = immunizations.rename(columns={'CODE': 'IMMUNIZATIONS_CODE'})\n",
    "immunizations.isna().sum()"
   ]
  },
  {
   "cell_type": "code",
   "execution_count": 13,
   "metadata": {},
   "outputs": [
    {
     "data": {
      "text/plain": [
       "PATIENT                       0\n",
       "ENCOUNTERS_CODE               0\n",
       "ENCOUNTERS_REASONCODE    907763\n",
       "dtype: int64"
      ]
     },
     "execution_count": 13,
     "metadata": {},
     "output_type": "execute_result"
    }
   ],
   "source": [
    "encounters = encounters.rename(columns={'CODE': 'ENCOUNTERS_CODE'})\n",
    "encounters = encounters.rename(columns={'REASONCODE': 'ENCOUNTERS_REASONCODE'})\n",
    "encounters.isna().sum()"
   ]
  },
  {
   "cell_type": "code",
   "execution_count": 14,
   "metadata": {},
   "outputs": [
    {
     "data": {
      "text/plain": [
       "PATIENT                  0\n",
       "ENCOUNTERS_CODE          0\n",
       "ENCOUNTERS_REASONCODE    0\n",
       "dtype: int64"
      ]
     },
     "execution_count": 14,
     "metadata": {},
     "output_type": "execute_result"
    }
   ],
   "source": [
    "encounters.fillna(0, inplace=True)\n",
    "encounters.isna().sum()"
   ]
  },
  {
   "cell_type": "code",
   "execution_count": 15,
   "metadata": {},
   "outputs": [
    {
     "data": {
      "text/plain": [
       "PATIENT                     0\n",
       "CAREPLANS_CODE              0\n",
       "CAREPLANS_REASONCODE    94889\n",
       "dtype: int64"
      ]
     },
     "execution_count": 15,
     "metadata": {},
     "output_type": "execute_result"
    }
   ],
   "source": [
    "careplans = careplans.rename(columns={'CODE': 'CAREPLANS_CODE'})\n",
    "careplans = careplans.rename(columns={'REASONCODE': 'CAREPLANS_REASONCODE'})\n",
    "careplans.isna().sum()"
   ]
  },
  {
   "cell_type": "code",
   "execution_count": 16,
   "metadata": {},
   "outputs": [
    {
     "data": {
      "text/plain": [
       "PATIENT                 0\n",
       "CAREPLANS_CODE          0\n",
       "CAREPLANS_REASONCODE    0\n",
       "dtype: int64"
      ]
     },
     "execution_count": 16,
     "metadata": {},
     "output_type": "execute_result"
    }
   ],
   "source": [
    "careplans.fillna(0, inplace=True)\n",
    "careplans.isna().sum()"
   ]
  },
  {
   "cell_type": "code",
   "execution_count": 17,
   "metadata": {},
   "outputs": [],
   "source": [
    "allergies_immu_df = pd.merge(allergies, immunizations, on='PATIENT', how='left')"
   ]
  },
  {
   "cell_type": "code",
   "execution_count": 18,
   "metadata": {},
   "outputs": [
    {
     "data": {
      "text/html": [
       "<div>\n",
       "<style scoped>\n",
       "    .dataframe tbody tr th:only-of-type {\n",
       "        vertical-align: middle;\n",
       "    }\n",
       "\n",
       "    .dataframe tbody tr th {\n",
       "        vertical-align: top;\n",
       "    }\n",
       "\n",
       "    .dataframe thead th {\n",
       "        text-align: right;\n",
       "    }\n",
       "</style>\n",
       "<table border=\"1\" class=\"dataframe\">\n",
       "  <thead>\n",
       "    <tr style=\"text-align: right;\">\n",
       "      <th></th>\n",
       "      <th>PATIENT</th>\n",
       "      <th>ALLERGIES_CODE</th>\n",
       "      <th>IMMUNIZATIONS_CODE</th>\n",
       "      <th>ENCOUNTERS_CODE</th>\n",
       "      <th>ENCOUNTERS_REASONCODE</th>\n",
       "      <th>CONDITIONS_CODE</th>\n",
       "    </tr>\n",
       "  </thead>\n",
       "  <tbody>\n",
       "    <tr>\n",
       "      <th>0</th>\n",
       "      <td>5125d2b2-3aef-4ae2-aa5c-335f7e206b92</td>\n",
       "      <td>91930004</td>\n",
       "      <td>140.0</td>\n",
       "      <td>371883000</td>\n",
       "      <td>0.0</td>\n",
       "      <td>232353008.0</td>\n",
       "    </tr>\n",
       "    <tr>\n",
       "      <th>1</th>\n",
       "      <td>5125d2b2-3aef-4ae2-aa5c-335f7e206b92</td>\n",
       "      <td>91930004</td>\n",
       "      <td>140.0</td>\n",
       "      <td>371883000</td>\n",
       "      <td>0.0</td>\n",
       "      <td>74400008.0</td>\n",
       "    </tr>\n",
       "    <tr>\n",
       "      <th>2</th>\n",
       "      <td>5125d2b2-3aef-4ae2-aa5c-335f7e206b92</td>\n",
       "      <td>91930004</td>\n",
       "      <td>140.0</td>\n",
       "      <td>371883000</td>\n",
       "      <td>0.0</td>\n",
       "      <td>428251008.0</td>\n",
       "    </tr>\n",
       "    <tr>\n",
       "      <th>3</th>\n",
       "      <td>5125d2b2-3aef-4ae2-aa5c-335f7e206b92</td>\n",
       "      <td>91930004</td>\n",
       "      <td>140.0</td>\n",
       "      <td>185347001</td>\n",
       "      <td>0.0</td>\n",
       "      <td>232353008.0</td>\n",
       "    </tr>\n",
       "    <tr>\n",
       "      <th>4</th>\n",
       "      <td>5125d2b2-3aef-4ae2-aa5c-335f7e206b92</td>\n",
       "      <td>91930004</td>\n",
       "      <td>140.0</td>\n",
       "      <td>185347001</td>\n",
       "      <td>0.0</td>\n",
       "      <td>74400008.0</td>\n",
       "    </tr>\n",
       "  </tbody>\n",
       "</table>\n",
       "</div>"
      ],
      "text/plain": [
       "                                PATIENT  ALLERGIES_CODE  IMMUNIZATIONS_CODE  \\\n",
       "0  5125d2b2-3aef-4ae2-aa5c-335f7e206b92        91930004               140.0   \n",
       "1  5125d2b2-3aef-4ae2-aa5c-335f7e206b92        91930004               140.0   \n",
       "2  5125d2b2-3aef-4ae2-aa5c-335f7e206b92        91930004               140.0   \n",
       "3  5125d2b2-3aef-4ae2-aa5c-335f7e206b92        91930004               140.0   \n",
       "4  5125d2b2-3aef-4ae2-aa5c-335f7e206b92        91930004               140.0   \n",
       "\n",
       "   ENCOUNTERS_CODE  ENCOUNTERS_REASONCODE  CONDITIONS_CODE  \n",
       "0        371883000                    0.0      232353008.0  \n",
       "1        371883000                    0.0       74400008.0  \n",
       "2        371883000                    0.0      428251008.0  \n",
       "3        185347001                    0.0      232353008.0  \n",
       "4        185347001                    0.0       74400008.0  "
      ]
     },
     "execution_count": 18,
     "metadata": {},
     "output_type": "execute_result"
    }
   ],
   "source": [
    "all_immu_encou_df = pd.merge(allergies_immu_df, encounters, on='PATIENT', how='left').merge(conditions, on='PATIENT', how='left')\n",
    "all_immu_encou_df.head()"
   ]
  },
  {
   "cell_type": "code",
   "execution_count": 19,
   "metadata": {},
   "outputs": [
    {
     "data": {
      "text/html": [
       "<div>\n",
       "<style scoped>\n",
       "    .dataframe tbody tr th:only-of-type {\n",
       "        vertical-align: middle;\n",
       "    }\n",
       "\n",
       "    .dataframe tbody tr th {\n",
       "        vertical-align: top;\n",
       "    }\n",
       "\n",
       "    .dataframe thead th {\n",
       "        text-align: right;\n",
       "    }\n",
       "</style>\n",
       "<table border=\"1\" class=\"dataframe\">\n",
       "  <thead>\n",
       "    <tr style=\"text-align: right;\">\n",
       "      <th></th>\n",
       "      <th>PATIENT</th>\n",
       "      <th>CAREPLANS_CODE</th>\n",
       "      <th>CAREPLANS_REASONCODE</th>\n",
       "      <th>MEDICATIONS_CODE</th>\n",
       "      <th>MEDICATIONS_REASONCODE</th>\n",
       "      <th>CONDITIONS_CODE</th>\n",
       "    </tr>\n",
       "  </thead>\n",
       "  <tbody>\n",
       "    <tr>\n",
       "      <th>0</th>\n",
       "      <td>660bec03-9e58-47f2-98b9-2f1c564f3838</td>\n",
       "      <td>872781000000100</td>\n",
       "      <td>39848009.0</td>\n",
       "      <td>834060.0</td>\n",
       "      <td>43878008.0</td>\n",
       "      <td>39848009.0</td>\n",
       "    </tr>\n",
       "    <tr>\n",
       "      <th>1</th>\n",
       "      <td>660bec03-9e58-47f2-98b9-2f1c564f3838</td>\n",
       "      <td>872781000000100</td>\n",
       "      <td>39848009.0</td>\n",
       "      <td>834060.0</td>\n",
       "      <td>43878008.0</td>\n",
       "      <td>10509002.0</td>\n",
       "    </tr>\n",
       "    <tr>\n",
       "      <th>2</th>\n",
       "      <td>660bec03-9e58-47f2-98b9-2f1c564f3838</td>\n",
       "      <td>872781000000100</td>\n",
       "      <td>39848009.0</td>\n",
       "      <td>834060.0</td>\n",
       "      <td>43878008.0</td>\n",
       "      <td>444814009.0</td>\n",
       "    </tr>\n",
       "    <tr>\n",
       "      <th>3</th>\n",
       "      <td>660bec03-9e58-47f2-98b9-2f1c564f3838</td>\n",
       "      <td>872781000000100</td>\n",
       "      <td>39848009.0</td>\n",
       "      <td>834060.0</td>\n",
       "      <td>43878008.0</td>\n",
       "      <td>38341003.0</td>\n",
       "    </tr>\n",
       "    <tr>\n",
       "      <th>4</th>\n",
       "      <td>660bec03-9e58-47f2-98b9-2f1c564f3838</td>\n",
       "      <td>872781000000100</td>\n",
       "      <td>39848009.0</td>\n",
       "      <td>834060.0</td>\n",
       "      <td>43878008.0</td>\n",
       "      <td>283371005.0</td>\n",
       "    </tr>\n",
       "  </tbody>\n",
       "</table>\n",
       "</div>"
      ],
      "text/plain": [
       "                                PATIENT   CAREPLANS_CODE  \\\n",
       "0  660bec03-9e58-47f2-98b9-2f1c564f3838  872781000000100   \n",
       "1  660bec03-9e58-47f2-98b9-2f1c564f3838  872781000000100   \n",
       "2  660bec03-9e58-47f2-98b9-2f1c564f3838  872781000000100   \n",
       "3  660bec03-9e58-47f2-98b9-2f1c564f3838  872781000000100   \n",
       "4  660bec03-9e58-47f2-98b9-2f1c564f3838  872781000000100   \n",
       "\n",
       "   CAREPLANS_REASONCODE  MEDICATIONS_CODE  MEDICATIONS_REASONCODE  \\\n",
       "0            39848009.0          834060.0              43878008.0   \n",
       "1            39848009.0          834060.0              43878008.0   \n",
       "2            39848009.0          834060.0              43878008.0   \n",
       "3            39848009.0          834060.0              43878008.0   \n",
       "4            39848009.0          834060.0              43878008.0   \n",
       "\n",
       "   CONDITIONS_CODE  \n",
       "0       39848009.0  \n",
       "1       10509002.0  \n",
       "2      444814009.0  \n",
       "3       38341003.0  \n",
       "4      283371005.0  "
      ]
     },
     "execution_count": 19,
     "metadata": {},
     "output_type": "execute_result"
    }
   ],
   "source": [
    "med_care_df = pd.merge(careplans, medications, on='PATIENT', how='left').merge(conditions, on='PATIENT', how='left')\n",
    "med_care_df.head()"
   ]
  },
  {
   "cell_type": "code",
   "execution_count": 20,
   "metadata": {},
   "outputs": [
    {
     "data": {
      "text/html": [
       "<div>\n",
       "<style scoped>\n",
       "    .dataframe tbody tr th:only-of-type {\n",
       "        vertical-align: middle;\n",
       "    }\n",
       "\n",
       "    .dataframe tbody tr th {\n",
       "        vertical-align: top;\n",
       "    }\n",
       "\n",
       "    .dataframe thead th {\n",
       "        text-align: right;\n",
       "    }\n",
       "</style>\n",
       "<table border=\"1\" class=\"dataframe\">\n",
       "  <thead>\n",
       "    <tr style=\"text-align: right;\">\n",
       "      <th></th>\n",
       "      <th>ID</th>\n",
       "      <th>BIRTHDATE</th>\n",
       "      <th>DEATHDATE</th>\n",
       "      <th>PASSPORT</th>\n",
       "      <th>MARITAL</th>\n",
       "      <th>RACE</th>\n",
       "      <th>ETHNICITY</th>\n",
       "      <th>GENDER</th>\n",
       "      <th>BIRTHPLACE</th>\n",
       "      <th>ZIP</th>\n",
       "      <th>BODY_WEIGHT</th>\n",
       "      <th>BODY_HEIGHT</th>\n",
       "      <th>BMI</th>\n",
       "      <th>SYSTOLIC_BP</th>\n",
       "      <th>DIASTOLIC_BP</th>\n",
       "      <th>AGE</th>\n",
       "      <th>AGE_AT_DEATH</th>\n",
       "      <th>PATIENT</th>\n",
       "      <th>CONDITIONS_CODE</th>\n",
       "    </tr>\n",
       "  </thead>\n",
       "  <tbody>\n",
       "    <tr>\n",
       "      <th>0</th>\n",
       "      <td>660bec03-9e58-47f2-98b9-2f1c564f3838</td>\n",
       "      <td>1996-07-26</td>\n",
       "      <td>NaT</td>\n",
       "      <td>0</td>\n",
       "      <td>0</td>\n",
       "      <td>43</td>\n",
       "      <td>59</td>\n",
       "      <td>0</td>\n",
       "      <td>119</td>\n",
       "      <td>20810.0</td>\n",
       "      <td>73.54</td>\n",
       "      <td>163.07</td>\n",
       "      <td>27.66</td>\n",
       "      <td>101.0</td>\n",
       "      <td>75.0</td>\n",
       "      <td>26.0</td>\n",
       "      <td>0.0</td>\n",
       "      <td>660bec03-9e58-47f2-98b9-2f1c564f3838</td>\n",
       "      <td>39848009.0</td>\n",
       "    </tr>\n",
       "    <tr>\n",
       "      <th>1</th>\n",
       "      <td>660bec03-9e58-47f2-98b9-2f1c564f3838</td>\n",
       "      <td>1996-07-26</td>\n",
       "      <td>NaT</td>\n",
       "      <td>0</td>\n",
       "      <td>0</td>\n",
       "      <td>43</td>\n",
       "      <td>59</td>\n",
       "      <td>0</td>\n",
       "      <td>119</td>\n",
       "      <td>20810.0</td>\n",
       "      <td>73.54</td>\n",
       "      <td>163.07</td>\n",
       "      <td>27.66</td>\n",
       "      <td>101.0</td>\n",
       "      <td>75.0</td>\n",
       "      <td>26.0</td>\n",
       "      <td>0.0</td>\n",
       "      <td>660bec03-9e58-47f2-98b9-2f1c564f3838</td>\n",
       "      <td>10509002.0</td>\n",
       "    </tr>\n",
       "    <tr>\n",
       "      <th>2</th>\n",
       "      <td>660bec03-9e58-47f2-98b9-2f1c564f3838</td>\n",
       "      <td>1996-07-26</td>\n",
       "      <td>NaT</td>\n",
       "      <td>0</td>\n",
       "      <td>0</td>\n",
       "      <td>43</td>\n",
       "      <td>59</td>\n",
       "      <td>0</td>\n",
       "      <td>119</td>\n",
       "      <td>20810.0</td>\n",
       "      <td>73.54</td>\n",
       "      <td>163.07</td>\n",
       "      <td>27.66</td>\n",
       "      <td>101.0</td>\n",
       "      <td>75.0</td>\n",
       "      <td>26.0</td>\n",
       "      <td>0.0</td>\n",
       "      <td>660bec03-9e58-47f2-98b9-2f1c564f3838</td>\n",
       "      <td>444814009.0</td>\n",
       "    </tr>\n",
       "    <tr>\n",
       "      <th>3</th>\n",
       "      <td>660bec03-9e58-47f2-98b9-2f1c564f3838</td>\n",
       "      <td>1996-07-26</td>\n",
       "      <td>NaT</td>\n",
       "      <td>0</td>\n",
       "      <td>0</td>\n",
       "      <td>43</td>\n",
       "      <td>59</td>\n",
       "      <td>0</td>\n",
       "      <td>119</td>\n",
       "      <td>20810.0</td>\n",
       "      <td>73.54</td>\n",
       "      <td>163.07</td>\n",
       "      <td>27.66</td>\n",
       "      <td>101.0</td>\n",
       "      <td>75.0</td>\n",
       "      <td>26.0</td>\n",
       "      <td>0.0</td>\n",
       "      <td>660bec03-9e58-47f2-98b9-2f1c564f3838</td>\n",
       "      <td>38341003.0</td>\n",
       "    </tr>\n",
       "    <tr>\n",
       "      <th>4</th>\n",
       "      <td>660bec03-9e58-47f2-98b9-2f1c564f3838</td>\n",
       "      <td>1996-07-26</td>\n",
       "      <td>NaT</td>\n",
       "      <td>0</td>\n",
       "      <td>0</td>\n",
       "      <td>43</td>\n",
       "      <td>59</td>\n",
       "      <td>0</td>\n",
       "      <td>119</td>\n",
       "      <td>20810.0</td>\n",
       "      <td>73.54</td>\n",
       "      <td>163.07</td>\n",
       "      <td>27.66</td>\n",
       "      <td>101.0</td>\n",
       "      <td>75.0</td>\n",
       "      <td>26.0</td>\n",
       "      <td>0.0</td>\n",
       "      <td>660bec03-9e58-47f2-98b9-2f1c564f3838</td>\n",
       "      <td>283371005.0</td>\n",
       "    </tr>\n",
       "  </tbody>\n",
       "</table>\n",
       "</div>"
      ],
      "text/plain": [
       "                                     ID  BIRTHDATE DEATHDATE  PASSPORT  \\\n",
       "0  660bec03-9e58-47f2-98b9-2f1c564f3838 1996-07-26       NaT         0   \n",
       "1  660bec03-9e58-47f2-98b9-2f1c564f3838 1996-07-26       NaT         0   \n",
       "2  660bec03-9e58-47f2-98b9-2f1c564f3838 1996-07-26       NaT         0   \n",
       "3  660bec03-9e58-47f2-98b9-2f1c564f3838 1996-07-26       NaT         0   \n",
       "4  660bec03-9e58-47f2-98b9-2f1c564f3838 1996-07-26       NaT         0   \n",
       "\n",
       "   MARITAL  RACE  ETHNICITY  GENDER  BIRTHPLACE      ZIP  BODY_WEIGHT  \\\n",
       "0        0    43         59       0         119  20810.0        73.54   \n",
       "1        0    43         59       0         119  20810.0        73.54   \n",
       "2        0    43         59       0         119  20810.0        73.54   \n",
       "3        0    43         59       0         119  20810.0        73.54   \n",
       "4        0    43         59       0         119  20810.0        73.54   \n",
       "\n",
       "   BODY_HEIGHT    BMI  SYSTOLIC_BP  DIASTOLIC_BP   AGE  AGE_AT_DEATH  \\\n",
       "0       163.07  27.66        101.0          75.0  26.0           0.0   \n",
       "1       163.07  27.66        101.0          75.0  26.0           0.0   \n",
       "2       163.07  27.66        101.0          75.0  26.0           0.0   \n",
       "3       163.07  27.66        101.0          75.0  26.0           0.0   \n",
       "4       163.07  27.66        101.0          75.0  26.0           0.0   \n",
       "\n",
       "                                PATIENT  CONDITIONS_CODE  \n",
       "0  660bec03-9e58-47f2-98b9-2f1c564f3838       39848009.0  \n",
       "1  660bec03-9e58-47f2-98b9-2f1c564f3838       10509002.0  \n",
       "2  660bec03-9e58-47f2-98b9-2f1c564f3838      444814009.0  \n",
       "3  660bec03-9e58-47f2-98b9-2f1c564f3838       38341003.0  \n",
       "4  660bec03-9e58-47f2-98b9-2f1c564f3838      283371005.0  "
      ]
     },
     "execution_count": 20,
     "metadata": {},
     "output_type": "execute_result"
    }
   ],
   "source": [
    "patient_merge = pd.merge(patient, conditions, left_on='ID', right_on='PATIENT', how='left')\n",
    "patient_merge.head()"
   ]
  },
  {
   "cell_type": "code",
   "execution_count": 21,
   "metadata": {},
   "outputs": [],
   "source": [
    "# These codes are the ones that correlate to a type of lung cancer\n",
    "conditions_code = set([162573006, 254637007, 432121009, 424132000, 422968005, 254632001, 67821000119109])\n",
    "patient_merge.drop(columns=['DEATHDATE', 'BIRTHDATE', 'PATIENT', 'ID'], inplace=True)\n",
    "med_care_df.drop(columns=['PATIENT'], inplace=True)\n",
    "all_immu_encou_df.drop(columns=['PATIENT'], inplace=True)\n",
    "# Create a 'CODE' column in conditions DataFrame\n",
    "patient_merge['TARGET'] = conditions['CONDITIONS_CODE'].apply(lambda code: 1 if code in conditions_code else 0)\n",
    "med_care_df['TARGET'] = conditions['CONDITIONS_CODE'].apply(lambda code: 1 if code in conditions_code else 0)\n",
    "all_immu_encou_df['TARGET'] = conditions['CONDITIONS_CODE'].apply(lambda code: 1 if code in conditions_code else 0)\n",
    "\n",
    "#fill any missing codes with 0 meaning there were no inputs\n",
    "patient_merge.fillna(0, inplace=True)\n",
    "med_care_df.fillna(0, inplace=True)\n",
    "all_immu_encou_df.fillna(0, inplace=True)"
   ]
  },
  {
   "cell_type": "code",
   "execution_count": 22,
   "metadata": {},
   "outputs": [
    {
     "name": "stdout",
     "output_type": "stream",
     "text": [
      "TARGET\n",
      "0    427910\n",
      "1    427910\n",
      "Name: count, dtype: int64\n"
     ]
    }
   ],
   "source": [
    "X = patient_merge.drop(columns='TARGET')\n",
    "y = patient_merge['TARGET']\n",
    "\n",
    "# Instantiate the SMOTE\n",
    "smote = SMOTE(sampling_strategy='auto', random_state=42)\n",
    "\n",
    "# Fit and apply the SMOTE\n",
    "X_resampled, y_resampled = smote.fit_resample(X, y)\n",
    "\n",
    "# Create a new DataFrame with the balanced data\n",
    "balanced_df1 = pd.concat([pd.DataFrame(X_resampled, columns=X.columns), pd.Series(y_resampled, name='TARGET')], axis=1)\n",
    "\n",
    "# Check the balance\n",
    "print(balanced_df1['TARGET'].value_counts())"
   ]
  },
  {
   "cell_type": "code",
   "execution_count": 23,
   "metadata": {},
   "outputs": [
    {
     "name": "stdout",
     "output_type": "stream",
     "text": [
      "TARGET\n",
      "0.0    22608821\n",
      "1.0    22608821\n",
      "Name: count, dtype: int64\n"
     ]
    }
   ],
   "source": [
    "X = med_care_df.drop(columns='TARGET')\n",
    "y = med_care_df['TARGET']\n",
    "\n",
    "# Instantiate the SMOTE\n",
    "smote = SMOTE(sampling_strategy='auto', random_state=42)\n",
    "\n",
    "# Fit and apply the SMOTE\n",
    "X_resampled, y_resampled = smote.fit_resample(X, y)\n",
    "\n",
    "# Create a new DataFrame with the balanced data\n",
    "balanced_df2 = pd.concat([pd.DataFrame(X_resampled, columns=X.columns), pd.Series(y_resampled, name='TARGET')], axis=1)\n",
    "\n",
    "# Check the balance\n",
    "print(balanced_df2['TARGET'].value_counts())"
   ]
  },
  {
   "cell_type": "code",
   "execution_count": 24,
   "metadata": {},
   "outputs": [
    {
     "name": "stdout",
     "output_type": "stream",
     "text": [
      "TARGET\n",
      "0.0    65963899\n",
      "1.0    65963899\n",
      "Name: count, dtype: int64\n"
     ]
    }
   ],
   "source": [
    "X = all_immu_encou_df.drop(columns='TARGET')\n",
    "y = all_immu_encou_df['TARGET']\n",
    "\n",
    "# Instantiate the SMOTE\n",
    "smote = SMOTE(sampling_strategy='auto', random_state=42)\n",
    "\n",
    "# Fit and apply the SMOTE\n",
    "X_resampled, y_resampled = smote.fit_resample(X, y)\n",
    "\n",
    "# Create a new DataFrame with the balanced data\n",
    "balanced_df3 = pd.concat([pd.DataFrame(X_resampled, columns=X.columns), pd.Series(y_resampled, name='TARGET')], axis=1)\n",
    "\n",
    "# Check the balance\n",
    "print(balanced_df3['TARGET'].value_counts())"
   ]
  },
  {
   "cell_type": "code",
   "execution_count": 25,
   "metadata": {},
   "outputs": [
    {
     "data": {
      "text/html": [
       "<div>\n",
       "<style scoped>\n",
       "    .dataframe tbody tr th:only-of-type {\n",
       "        vertical-align: middle;\n",
       "    }\n",
       "\n",
       "    .dataframe tbody tr th {\n",
       "        vertical-align: top;\n",
       "    }\n",
       "\n",
       "    .dataframe thead th {\n",
       "        text-align: right;\n",
       "    }\n",
       "</style>\n",
       "<table border=\"1\" class=\"dataframe\">\n",
       "  <thead>\n",
       "    <tr style=\"text-align: right;\">\n",
       "      <th></th>\n",
       "      <th>PASSPORT</th>\n",
       "      <th>MARITAL</th>\n",
       "      <th>RACE</th>\n",
       "      <th>ETHNICITY</th>\n",
       "      <th>GENDER</th>\n",
       "      <th>BIRTHPLACE</th>\n",
       "      <th>ZIP</th>\n",
       "      <th>BODY_WEIGHT</th>\n",
       "      <th>BODY_HEIGHT</th>\n",
       "      <th>BMI</th>\n",
       "      <th>SYSTOLIC_BP</th>\n",
       "      <th>DIASTOLIC_BP</th>\n",
       "      <th>AGE</th>\n",
       "      <th>AGE_AT_DEATH</th>\n",
       "      <th>CONDITIONS_CODE</th>\n",
       "      <th>TARGET</th>\n",
       "    </tr>\n",
       "  </thead>\n",
       "  <tbody>\n",
       "    <tr>\n",
       "      <th>0</th>\n",
       "      <td>0</td>\n",
       "      <td>0</td>\n",
       "      <td>43</td>\n",
       "      <td>59</td>\n",
       "      <td>0</td>\n",
       "      <td>119</td>\n",
       "      <td>20810.0</td>\n",
       "      <td>73.54</td>\n",
       "      <td>163.07</td>\n",
       "      <td>27.66</td>\n",
       "      <td>101.0</td>\n",
       "      <td>75.0</td>\n",
       "      <td>26.0</td>\n",
       "      <td>0.0</td>\n",
       "      <td>39848009.0</td>\n",
       "      <td>0</td>\n",
       "    </tr>\n",
       "    <tr>\n",
       "      <th>1</th>\n",
       "      <td>0</td>\n",
       "      <td>0</td>\n",
       "      <td>43</td>\n",
       "      <td>59</td>\n",
       "      <td>0</td>\n",
       "      <td>119</td>\n",
       "      <td>20810.0</td>\n",
       "      <td>73.54</td>\n",
       "      <td>163.07</td>\n",
       "      <td>27.66</td>\n",
       "      <td>101.0</td>\n",
       "      <td>75.0</td>\n",
       "      <td>26.0</td>\n",
       "      <td>0.0</td>\n",
       "      <td>10509002.0</td>\n",
       "      <td>0</td>\n",
       "    </tr>\n",
       "    <tr>\n",
       "      <th>2</th>\n",
       "      <td>0</td>\n",
       "      <td>0</td>\n",
       "      <td>43</td>\n",
       "      <td>59</td>\n",
       "      <td>0</td>\n",
       "      <td>119</td>\n",
       "      <td>20810.0</td>\n",
       "      <td>73.54</td>\n",
       "      <td>163.07</td>\n",
       "      <td>27.66</td>\n",
       "      <td>101.0</td>\n",
       "      <td>75.0</td>\n",
       "      <td>26.0</td>\n",
       "      <td>0.0</td>\n",
       "      <td>444814009.0</td>\n",
       "      <td>0</td>\n",
       "    </tr>\n",
       "    <tr>\n",
       "      <th>3</th>\n",
       "      <td>0</td>\n",
       "      <td>0</td>\n",
       "      <td>43</td>\n",
       "      <td>59</td>\n",
       "      <td>0</td>\n",
       "      <td>119</td>\n",
       "      <td>20810.0</td>\n",
       "      <td>73.54</td>\n",
       "      <td>163.07</td>\n",
       "      <td>27.66</td>\n",
       "      <td>101.0</td>\n",
       "      <td>75.0</td>\n",
       "      <td>26.0</td>\n",
       "      <td>0.0</td>\n",
       "      <td>38341003.0</td>\n",
       "      <td>0</td>\n",
       "    </tr>\n",
       "    <tr>\n",
       "      <th>4</th>\n",
       "      <td>0</td>\n",
       "      <td>0</td>\n",
       "      <td>43</td>\n",
       "      <td>59</td>\n",
       "      <td>0</td>\n",
       "      <td>119</td>\n",
       "      <td>20810.0</td>\n",
       "      <td>73.54</td>\n",
       "      <td>163.07</td>\n",
       "      <td>27.66</td>\n",
       "      <td>101.0</td>\n",
       "      <td>75.0</td>\n",
       "      <td>26.0</td>\n",
       "      <td>0.0</td>\n",
       "      <td>283371005.0</td>\n",
       "      <td>0</td>\n",
       "    </tr>\n",
       "  </tbody>\n",
       "</table>\n",
       "</div>"
      ],
      "text/plain": [
       "   PASSPORT  MARITAL  RACE  ETHNICITY  GENDER  BIRTHPLACE      ZIP  \\\n",
       "0         0        0    43         59       0         119  20810.0   \n",
       "1         0        0    43         59       0         119  20810.0   \n",
       "2         0        0    43         59       0         119  20810.0   \n",
       "3         0        0    43         59       0         119  20810.0   \n",
       "4         0        0    43         59       0         119  20810.0   \n",
       "\n",
       "   BODY_WEIGHT  BODY_HEIGHT    BMI  SYSTOLIC_BP  DIASTOLIC_BP   AGE  \\\n",
       "0        73.54       163.07  27.66        101.0          75.0  26.0   \n",
       "1        73.54       163.07  27.66        101.0          75.0  26.0   \n",
       "2        73.54       163.07  27.66        101.0          75.0  26.0   \n",
       "3        73.54       163.07  27.66        101.0          75.0  26.0   \n",
       "4        73.54       163.07  27.66        101.0          75.0  26.0   \n",
       "\n",
       "   AGE_AT_DEATH  CONDITIONS_CODE  TARGET  \n",
       "0           0.0       39848009.0       0  \n",
       "1           0.0       10509002.0       0  \n",
       "2           0.0      444814009.0       0  \n",
       "3           0.0       38341003.0       0  \n",
       "4           0.0      283371005.0       0  "
      ]
     },
     "execution_count": 25,
     "metadata": {},
     "output_type": "execute_result"
    }
   ],
   "source": [
    "balanced_df1.head()"
   ]
  },
  {
   "cell_type": "code",
   "execution_count": 26,
   "metadata": {},
   "outputs": [
    {
     "data": {
      "text/html": [
       "<div>\n",
       "<style scoped>\n",
       "    .dataframe tbody tr th:only-of-type {\n",
       "        vertical-align: middle;\n",
       "    }\n",
       "\n",
       "    .dataframe tbody tr th {\n",
       "        vertical-align: top;\n",
       "    }\n",
       "\n",
       "    .dataframe thead th {\n",
       "        text-align: right;\n",
       "    }\n",
       "</style>\n",
       "<table border=\"1\" class=\"dataframe\">\n",
       "  <thead>\n",
       "    <tr style=\"text-align: right;\">\n",
       "      <th></th>\n",
       "      <th>CAREPLANS_CODE</th>\n",
       "      <th>CAREPLANS_REASONCODE</th>\n",
       "      <th>MEDICATIONS_CODE</th>\n",
       "      <th>MEDICATIONS_REASONCODE</th>\n",
       "      <th>CONDITIONS_CODE</th>\n",
       "      <th>TARGET</th>\n",
       "    </tr>\n",
       "  </thead>\n",
       "  <tbody>\n",
       "    <tr>\n",
       "      <th>0</th>\n",
       "      <td>872781000000100</td>\n",
       "      <td>39848009.0</td>\n",
       "      <td>834060.0</td>\n",
       "      <td>43878008.0</td>\n",
       "      <td>39848009.0</td>\n",
       "      <td>0.0</td>\n",
       "    </tr>\n",
       "    <tr>\n",
       "      <th>1</th>\n",
       "      <td>872781000000100</td>\n",
       "      <td>39848009.0</td>\n",
       "      <td>834060.0</td>\n",
       "      <td>43878008.0</td>\n",
       "      <td>10509002.0</td>\n",
       "      <td>0.0</td>\n",
       "    </tr>\n",
       "    <tr>\n",
       "      <th>2</th>\n",
       "      <td>872781000000100</td>\n",
       "      <td>39848009.0</td>\n",
       "      <td>834060.0</td>\n",
       "      <td>43878008.0</td>\n",
       "      <td>444814009.0</td>\n",
       "      <td>0.0</td>\n",
       "    </tr>\n",
       "    <tr>\n",
       "      <th>3</th>\n",
       "      <td>872781000000100</td>\n",
       "      <td>39848009.0</td>\n",
       "      <td>834060.0</td>\n",
       "      <td>43878008.0</td>\n",
       "      <td>38341003.0</td>\n",
       "      <td>0.0</td>\n",
       "    </tr>\n",
       "    <tr>\n",
       "      <th>4</th>\n",
       "      <td>872781000000100</td>\n",
       "      <td>39848009.0</td>\n",
       "      <td>834060.0</td>\n",
       "      <td>43878008.0</td>\n",
       "      <td>283371005.0</td>\n",
       "      <td>0.0</td>\n",
       "    </tr>\n",
       "  </tbody>\n",
       "</table>\n",
       "</div>"
      ],
      "text/plain": [
       "    CAREPLANS_CODE  CAREPLANS_REASONCODE  MEDICATIONS_CODE  \\\n",
       "0  872781000000100            39848009.0          834060.0   \n",
       "1  872781000000100            39848009.0          834060.0   \n",
       "2  872781000000100            39848009.0          834060.0   \n",
       "3  872781000000100            39848009.0          834060.0   \n",
       "4  872781000000100            39848009.0          834060.0   \n",
       "\n",
       "   MEDICATIONS_REASONCODE  CONDITIONS_CODE  TARGET  \n",
       "0              43878008.0       39848009.0     0.0  \n",
       "1              43878008.0       10509002.0     0.0  \n",
       "2              43878008.0      444814009.0     0.0  \n",
       "3              43878008.0       38341003.0     0.0  \n",
       "4              43878008.0      283371005.0     0.0  "
      ]
     },
     "execution_count": 26,
     "metadata": {},
     "output_type": "execute_result"
    }
   ],
   "source": [
    "balanced_df2.head()\n"
   ]
  },
  {
   "cell_type": "code",
   "execution_count": 27,
   "metadata": {},
   "outputs": [
    {
     "data": {
      "text/html": [
       "<div>\n",
       "<style scoped>\n",
       "    .dataframe tbody tr th:only-of-type {\n",
       "        vertical-align: middle;\n",
       "    }\n",
       "\n",
       "    .dataframe tbody tr th {\n",
       "        vertical-align: top;\n",
       "    }\n",
       "\n",
       "    .dataframe thead th {\n",
       "        text-align: right;\n",
       "    }\n",
       "</style>\n",
       "<table border=\"1\" class=\"dataframe\">\n",
       "  <thead>\n",
       "    <tr style=\"text-align: right;\">\n",
       "      <th></th>\n",
       "      <th>ALLERGIES_CODE</th>\n",
       "      <th>IMMUNIZATIONS_CODE</th>\n",
       "      <th>ENCOUNTERS_CODE</th>\n",
       "      <th>ENCOUNTERS_REASONCODE</th>\n",
       "      <th>CONDITIONS_CODE</th>\n",
       "      <th>TARGET</th>\n",
       "    </tr>\n",
       "  </thead>\n",
       "  <tbody>\n",
       "    <tr>\n",
       "      <th>0</th>\n",
       "      <td>91930004</td>\n",
       "      <td>140.0</td>\n",
       "      <td>371883000</td>\n",
       "      <td>0.0</td>\n",
       "      <td>232353008.0</td>\n",
       "      <td>0.0</td>\n",
       "    </tr>\n",
       "    <tr>\n",
       "      <th>1</th>\n",
       "      <td>91930004</td>\n",
       "      <td>140.0</td>\n",
       "      <td>371883000</td>\n",
       "      <td>0.0</td>\n",
       "      <td>74400008.0</td>\n",
       "      <td>0.0</td>\n",
       "    </tr>\n",
       "    <tr>\n",
       "      <th>2</th>\n",
       "      <td>91930004</td>\n",
       "      <td>140.0</td>\n",
       "      <td>371883000</td>\n",
       "      <td>0.0</td>\n",
       "      <td>428251008.0</td>\n",
       "      <td>0.0</td>\n",
       "    </tr>\n",
       "    <tr>\n",
       "      <th>3</th>\n",
       "      <td>91930004</td>\n",
       "      <td>140.0</td>\n",
       "      <td>185347001</td>\n",
       "      <td>0.0</td>\n",
       "      <td>232353008.0</td>\n",
       "      <td>0.0</td>\n",
       "    </tr>\n",
       "    <tr>\n",
       "      <th>4</th>\n",
       "      <td>91930004</td>\n",
       "      <td>140.0</td>\n",
       "      <td>185347001</td>\n",
       "      <td>0.0</td>\n",
       "      <td>74400008.0</td>\n",
       "      <td>0.0</td>\n",
       "    </tr>\n",
       "  </tbody>\n",
       "</table>\n",
       "</div>"
      ],
      "text/plain": [
       "   ALLERGIES_CODE  IMMUNIZATIONS_CODE  ENCOUNTERS_CODE  ENCOUNTERS_REASONCODE  \\\n",
       "0        91930004               140.0        371883000                    0.0   \n",
       "1        91930004               140.0        371883000                    0.0   \n",
       "2        91930004               140.0        371883000                    0.0   \n",
       "3        91930004               140.0        185347001                    0.0   \n",
       "4        91930004               140.0        185347001                    0.0   \n",
       "\n",
       "   CONDITIONS_CODE  TARGET  \n",
       "0      232353008.0     0.0  \n",
       "1       74400008.0     0.0  \n",
       "2      428251008.0     0.0  \n",
       "3      232353008.0     0.0  \n",
       "4       74400008.0     0.0  "
      ]
     },
     "execution_count": 27,
     "metadata": {},
     "output_type": "execute_result"
    }
   ],
   "source": [
    "balanced_df3.head()\n"
   ]
  },
  {
   "cell_type": "code",
   "execution_count": 28,
   "metadata": {},
   "outputs": [],
   "source": [
    "features1 = ['PASSPORT','MARITAL','RACE','ETHNICITY','GENDER','BIRTHPLACE','ZIP','BODY_WEIGHT','BODY_HEIGHT','BMI','SYSTOLIC_BP','DIASTOLIC_BP','AGE','AGE_AT_DEATH','CONDITIONS_CODE']\n",
    "features2 = ['CAREPLANS_CODE', 'CAREPLANS_REASONCODE', 'MEDICATIONS_CODE', 'MEDICATIONS_REASONCODE', 'CONDITIONS_CODE']\n",
    "features3 = ['ALLERGIES_CODE', 'IMMUNIZATIONS_CODE', 'ENCOUNTERS_CODE', 'ENCOUNTERS_REASONCODE', 'CONDITIONS_CODE']\n",
    "Y1 = balanced_df1['TARGET']\n",
    "Y2 = balanced_df2['TARGET']\n",
    "Y3 = balanced_df3['TARGET']\n",
    "X1 = balanced_df1[features1]\n",
    "X2 = balanced_df2[features2]\n",
    "X3 = balanced_df3[features3]\n",
    "\n",
    "# Split the data into training and test sets\n",
    "X_train1, X_test1, Y_train1, Y_test1 = train_test_split(X1, Y1, test_size=0.2, random_state=42)\n",
    "X_train2, X_test2, Y_train2, Y_test2 = train_test_split(X2, Y2, test_size=0.2, random_state=42)\n",
    "X_train3, X_test3, Y_train3, Y_test3 = train_test_split(X3, Y3, test_size=0.2, random_state=42)\n"
   ]
  },
  {
   "cell_type": "code",
   "execution_count": 29,
   "metadata": {},
   "outputs": [],
   "source": [
    "scaler = StandardScaler()\n",
    "X_train1_scaled = scaler.fit_transform(X_train1)\n",
    "X_test_1scaled = scaler.transform(X_test1)\n",
    "X_train2_scaled = scaler.fit_transform(X_train2)\n",
    "X_test2_scaled = scaler.transform(X_test2)\n",
    "X_train3_scaled = scaler.fit_transform(X_train3)\n",
    "X_test3_scaled = scaler.transform(X_test3)"
   ]
  },
  {
   "cell_type": "code",
   "execution_count": 30,
   "metadata": {},
   "outputs": [],
   "source": [
    "import xgboost as xgb\n",
    "from sklearn.metrics import mean_squared_error\n",
    "import matplotlib.pyplot as plt"
   ]
  },
  {
   "cell_type": "code",
   "execution_count": 31,
   "metadata": {},
   "outputs": [],
   "source": [
    "model1 = xgb.XGBRegressor(objective ='reg:squarederror', seed=42)\n",
    "model2 = xgb.XGBRegressor(objective ='reg:squarederror', seed=42)\n",
    "model3 = xgb.XGBRegressor(objective ='reg:squarederror', seed=42)"
   ]
  },
  {
   "cell_type": "code",
   "execution_count": 32,
   "metadata": {},
   "outputs": [
    {
     "data": {
      "text/html": [
       "<style>#sk-container-id-1 {color: black;}#sk-container-id-1 pre{padding: 0;}#sk-container-id-1 div.sk-toggleable {background-color: white;}#sk-container-id-1 label.sk-toggleable__label {cursor: pointer;display: block;width: 100%;margin-bottom: 0;padding: 0.3em;box-sizing: border-box;text-align: center;}#sk-container-id-1 label.sk-toggleable__label-arrow:before {content: \"▸\";float: left;margin-right: 0.25em;color: #696969;}#sk-container-id-1 label.sk-toggleable__label-arrow:hover:before {color: black;}#sk-container-id-1 div.sk-estimator:hover label.sk-toggleable__label-arrow:before {color: black;}#sk-container-id-1 div.sk-toggleable__content {max-height: 0;max-width: 0;overflow: hidden;text-align: left;background-color: #f0f8ff;}#sk-container-id-1 div.sk-toggleable__content pre {margin: 0.2em;color: black;border-radius: 0.25em;background-color: #f0f8ff;}#sk-container-id-1 input.sk-toggleable__control:checked~div.sk-toggleable__content {max-height: 200px;max-width: 100%;overflow: auto;}#sk-container-id-1 input.sk-toggleable__control:checked~label.sk-toggleable__label-arrow:before {content: \"▾\";}#sk-container-id-1 div.sk-estimator input.sk-toggleable__control:checked~label.sk-toggleable__label {background-color: #d4ebff;}#sk-container-id-1 div.sk-label input.sk-toggleable__control:checked~label.sk-toggleable__label {background-color: #d4ebff;}#sk-container-id-1 input.sk-hidden--visually {border: 0;clip: rect(1px 1px 1px 1px);clip: rect(1px, 1px, 1px, 1px);height: 1px;margin: -1px;overflow: hidden;padding: 0;position: absolute;width: 1px;}#sk-container-id-1 div.sk-estimator {font-family: monospace;background-color: #f0f8ff;border: 1px dotted black;border-radius: 0.25em;box-sizing: border-box;margin-bottom: 0.5em;}#sk-container-id-1 div.sk-estimator:hover {background-color: #d4ebff;}#sk-container-id-1 div.sk-parallel-item::after {content: \"\";width: 100%;border-bottom: 1px solid gray;flex-grow: 1;}#sk-container-id-1 div.sk-label:hover label.sk-toggleable__label {background-color: #d4ebff;}#sk-container-id-1 div.sk-serial::before {content: \"\";position: absolute;border-left: 1px solid gray;box-sizing: border-box;top: 0;bottom: 0;left: 50%;z-index: 0;}#sk-container-id-1 div.sk-serial {display: flex;flex-direction: column;align-items: center;background-color: white;padding-right: 0.2em;padding-left: 0.2em;position: relative;}#sk-container-id-1 div.sk-item {position: relative;z-index: 1;}#sk-container-id-1 div.sk-parallel {display: flex;align-items: stretch;justify-content: center;background-color: white;position: relative;}#sk-container-id-1 div.sk-item::before, #sk-container-id-1 div.sk-parallel-item::before {content: \"\";position: absolute;border-left: 1px solid gray;box-sizing: border-box;top: 0;bottom: 0;left: 50%;z-index: -1;}#sk-container-id-1 div.sk-parallel-item {display: flex;flex-direction: column;z-index: 1;position: relative;background-color: white;}#sk-container-id-1 div.sk-parallel-item:first-child::after {align-self: flex-end;width: 50%;}#sk-container-id-1 div.sk-parallel-item:last-child::after {align-self: flex-start;width: 50%;}#sk-container-id-1 div.sk-parallel-item:only-child::after {width: 0;}#sk-container-id-1 div.sk-dashed-wrapped {border: 1px dashed gray;margin: 0 0.4em 0.5em 0.4em;box-sizing: border-box;padding-bottom: 0.4em;background-color: white;}#sk-container-id-1 div.sk-label label {font-family: monospace;font-weight: bold;display: inline-block;line-height: 1.2em;}#sk-container-id-1 div.sk-label-container {text-align: center;}#sk-container-id-1 div.sk-container {/* jupyter's `normalize.less` sets `[hidden] { display: none; }` but bootstrap.min.css set `[hidden] { display: none !important; }` so we also need the `!important` here to be able to override the default hidden behavior on the sphinx rendered scikit-learn.org. See: https://github.com/scikit-learn/scikit-learn/issues/21755 */display: inline-block !important;position: relative;}#sk-container-id-1 div.sk-text-repr-fallback {display: none;}</style><div id=\"sk-container-id-1\" class=\"sk-top-container\"><div class=\"sk-text-repr-fallback\"><pre>XGBRegressor(base_score=None, booster=None, callbacks=None,\n",
       "             colsample_bylevel=None, colsample_bynode=None,\n",
       "             colsample_bytree=None, device=None, early_stopping_rounds=None,\n",
       "             enable_categorical=False, eval_metric=None, feature_types=None,\n",
       "             gamma=None, grow_policy=None, importance_type=None,\n",
       "             interaction_constraints=None, learning_rate=None, max_bin=None,\n",
       "             max_cat_threshold=None, max_cat_to_onehot=None,\n",
       "             max_delta_step=None, max_depth=None, max_leaves=None,\n",
       "             min_child_weight=None, missing=nan, monotone_constraints=None,\n",
       "             multi_strategy=None, n_estimators=None, n_jobs=None,\n",
       "             num_parallel_tree=None, random_state=None, ...)</pre><b>In a Jupyter environment, please rerun this cell to show the HTML representation or trust the notebook. <br />On GitHub, the HTML representation is unable to render, please try loading this page with nbviewer.org.</b></div><div class=\"sk-container\" hidden><div class=\"sk-item\"><div class=\"sk-estimator sk-toggleable\"><input class=\"sk-toggleable__control sk-hidden--visually\" id=\"sk-estimator-id-1\" type=\"checkbox\" checked><label for=\"sk-estimator-id-1\" class=\"sk-toggleable__label sk-toggleable__label-arrow\">XGBRegressor</label><div class=\"sk-toggleable__content\"><pre>XGBRegressor(base_score=None, booster=None, callbacks=None,\n",
       "             colsample_bylevel=None, colsample_bynode=None,\n",
       "             colsample_bytree=None, device=None, early_stopping_rounds=None,\n",
       "             enable_categorical=False, eval_metric=None, feature_types=None,\n",
       "             gamma=None, grow_policy=None, importance_type=None,\n",
       "             interaction_constraints=None, learning_rate=None, max_bin=None,\n",
       "             max_cat_threshold=None, max_cat_to_onehot=None,\n",
       "             max_delta_step=None, max_depth=None, max_leaves=None,\n",
       "             min_child_weight=None, missing=nan, monotone_constraints=None,\n",
       "             multi_strategy=None, n_estimators=None, n_jobs=None,\n",
       "             num_parallel_tree=None, random_state=None, ...)</pre></div></div></div></div></div>"
      ],
      "text/plain": [
       "XGBRegressor(base_score=None, booster=None, callbacks=None,\n",
       "             colsample_bylevel=None, colsample_bynode=None,\n",
       "             colsample_bytree=None, device=None, early_stopping_rounds=None,\n",
       "             enable_categorical=False, eval_metric=None, feature_types=None,\n",
       "             gamma=None, grow_policy=None, importance_type=None,\n",
       "             interaction_constraints=None, learning_rate=None, max_bin=None,\n",
       "             max_cat_threshold=None, max_cat_to_onehot=None,\n",
       "             max_delta_step=None, max_depth=None, max_leaves=None,\n",
       "             min_child_weight=None, missing=nan, monotone_constraints=None,\n",
       "             multi_strategy=None, n_estimators=None, n_jobs=None,\n",
       "             num_parallel_tree=None, random_state=None, ...)"
      ]
     },
     "execution_count": 32,
     "metadata": {},
     "output_type": "execute_result"
    }
   ],
   "source": [
    "# Fit the model to the training data\n",
    "model1.fit(X_train1, Y_train1)"
   ]
  },
  {
   "cell_type": "code",
   "execution_count": 33,
   "metadata": {},
   "outputs": [
    {
     "data": {
      "text/html": [
       "<style>#sk-container-id-2 {color: black;}#sk-container-id-2 pre{padding: 0;}#sk-container-id-2 div.sk-toggleable {background-color: white;}#sk-container-id-2 label.sk-toggleable__label {cursor: pointer;display: block;width: 100%;margin-bottom: 0;padding: 0.3em;box-sizing: border-box;text-align: center;}#sk-container-id-2 label.sk-toggleable__label-arrow:before {content: \"▸\";float: left;margin-right: 0.25em;color: #696969;}#sk-container-id-2 label.sk-toggleable__label-arrow:hover:before {color: black;}#sk-container-id-2 div.sk-estimator:hover label.sk-toggleable__label-arrow:before {color: black;}#sk-container-id-2 div.sk-toggleable__content {max-height: 0;max-width: 0;overflow: hidden;text-align: left;background-color: #f0f8ff;}#sk-container-id-2 div.sk-toggleable__content pre {margin: 0.2em;color: black;border-radius: 0.25em;background-color: #f0f8ff;}#sk-container-id-2 input.sk-toggleable__control:checked~div.sk-toggleable__content {max-height: 200px;max-width: 100%;overflow: auto;}#sk-container-id-2 input.sk-toggleable__control:checked~label.sk-toggleable__label-arrow:before {content: \"▾\";}#sk-container-id-2 div.sk-estimator input.sk-toggleable__control:checked~label.sk-toggleable__label {background-color: #d4ebff;}#sk-container-id-2 div.sk-label input.sk-toggleable__control:checked~label.sk-toggleable__label {background-color: #d4ebff;}#sk-container-id-2 input.sk-hidden--visually {border: 0;clip: rect(1px 1px 1px 1px);clip: rect(1px, 1px, 1px, 1px);height: 1px;margin: -1px;overflow: hidden;padding: 0;position: absolute;width: 1px;}#sk-container-id-2 div.sk-estimator {font-family: monospace;background-color: #f0f8ff;border: 1px dotted black;border-radius: 0.25em;box-sizing: border-box;margin-bottom: 0.5em;}#sk-container-id-2 div.sk-estimator:hover {background-color: #d4ebff;}#sk-container-id-2 div.sk-parallel-item::after {content: \"\";width: 100%;border-bottom: 1px solid gray;flex-grow: 1;}#sk-container-id-2 div.sk-label:hover label.sk-toggleable__label {background-color: #d4ebff;}#sk-container-id-2 div.sk-serial::before {content: \"\";position: absolute;border-left: 1px solid gray;box-sizing: border-box;top: 0;bottom: 0;left: 50%;z-index: 0;}#sk-container-id-2 div.sk-serial {display: flex;flex-direction: column;align-items: center;background-color: white;padding-right: 0.2em;padding-left: 0.2em;position: relative;}#sk-container-id-2 div.sk-item {position: relative;z-index: 1;}#sk-container-id-2 div.sk-parallel {display: flex;align-items: stretch;justify-content: center;background-color: white;position: relative;}#sk-container-id-2 div.sk-item::before, #sk-container-id-2 div.sk-parallel-item::before {content: \"\";position: absolute;border-left: 1px solid gray;box-sizing: border-box;top: 0;bottom: 0;left: 50%;z-index: -1;}#sk-container-id-2 div.sk-parallel-item {display: flex;flex-direction: column;z-index: 1;position: relative;background-color: white;}#sk-container-id-2 div.sk-parallel-item:first-child::after {align-self: flex-end;width: 50%;}#sk-container-id-2 div.sk-parallel-item:last-child::after {align-self: flex-start;width: 50%;}#sk-container-id-2 div.sk-parallel-item:only-child::after {width: 0;}#sk-container-id-2 div.sk-dashed-wrapped {border: 1px dashed gray;margin: 0 0.4em 0.5em 0.4em;box-sizing: border-box;padding-bottom: 0.4em;background-color: white;}#sk-container-id-2 div.sk-label label {font-family: monospace;font-weight: bold;display: inline-block;line-height: 1.2em;}#sk-container-id-2 div.sk-label-container {text-align: center;}#sk-container-id-2 div.sk-container {/* jupyter's `normalize.less` sets `[hidden] { display: none; }` but bootstrap.min.css set `[hidden] { display: none !important; }` so we also need the `!important` here to be able to override the default hidden behavior on the sphinx rendered scikit-learn.org. See: https://github.com/scikit-learn/scikit-learn/issues/21755 */display: inline-block !important;position: relative;}#sk-container-id-2 div.sk-text-repr-fallback {display: none;}</style><div id=\"sk-container-id-2\" class=\"sk-top-container\"><div class=\"sk-text-repr-fallback\"><pre>XGBRegressor(base_score=None, booster=None, callbacks=None,\n",
       "             colsample_bylevel=None, colsample_bynode=None,\n",
       "             colsample_bytree=None, device=None, early_stopping_rounds=None,\n",
       "             enable_categorical=False, eval_metric=None, feature_types=None,\n",
       "             gamma=None, grow_policy=None, importance_type=None,\n",
       "             interaction_constraints=None, learning_rate=None, max_bin=None,\n",
       "             max_cat_threshold=None, max_cat_to_onehot=None,\n",
       "             max_delta_step=None, max_depth=None, max_leaves=None,\n",
       "             min_child_weight=None, missing=nan, monotone_constraints=None,\n",
       "             multi_strategy=None, n_estimators=None, n_jobs=None,\n",
       "             num_parallel_tree=None, random_state=None, ...)</pre><b>In a Jupyter environment, please rerun this cell to show the HTML representation or trust the notebook. <br />On GitHub, the HTML representation is unable to render, please try loading this page with nbviewer.org.</b></div><div class=\"sk-container\" hidden><div class=\"sk-item\"><div class=\"sk-estimator sk-toggleable\"><input class=\"sk-toggleable__control sk-hidden--visually\" id=\"sk-estimator-id-2\" type=\"checkbox\" checked><label for=\"sk-estimator-id-2\" class=\"sk-toggleable__label sk-toggleable__label-arrow\">XGBRegressor</label><div class=\"sk-toggleable__content\"><pre>XGBRegressor(base_score=None, booster=None, callbacks=None,\n",
       "             colsample_bylevel=None, colsample_bynode=None,\n",
       "             colsample_bytree=None, device=None, early_stopping_rounds=None,\n",
       "             enable_categorical=False, eval_metric=None, feature_types=None,\n",
       "             gamma=None, grow_policy=None, importance_type=None,\n",
       "             interaction_constraints=None, learning_rate=None, max_bin=None,\n",
       "             max_cat_threshold=None, max_cat_to_onehot=None,\n",
       "             max_delta_step=None, max_depth=None, max_leaves=None,\n",
       "             min_child_weight=None, missing=nan, monotone_constraints=None,\n",
       "             multi_strategy=None, n_estimators=None, n_jobs=None,\n",
       "             num_parallel_tree=None, random_state=None, ...)</pre></div></div></div></div></div>"
      ],
      "text/plain": [
       "XGBRegressor(base_score=None, booster=None, callbacks=None,\n",
       "             colsample_bylevel=None, colsample_bynode=None,\n",
       "             colsample_bytree=None, device=None, early_stopping_rounds=None,\n",
       "             enable_categorical=False, eval_metric=None, feature_types=None,\n",
       "             gamma=None, grow_policy=None, importance_type=None,\n",
       "             interaction_constraints=None, learning_rate=None, max_bin=None,\n",
       "             max_cat_threshold=None, max_cat_to_onehot=None,\n",
       "             max_delta_step=None, max_depth=None, max_leaves=None,\n",
       "             min_child_weight=None, missing=nan, monotone_constraints=None,\n",
       "             multi_strategy=None, n_estimators=None, n_jobs=None,\n",
       "             num_parallel_tree=None, random_state=None, ...)"
      ]
     },
     "execution_count": 33,
     "metadata": {},
     "output_type": "execute_result"
    }
   ],
   "source": [
    "model2.fit(X_train2, Y_train2)"
   ]
  },
  {
   "cell_type": "code",
   "execution_count": 34,
   "metadata": {},
   "outputs": [
    {
     "data": {
      "text/html": [
       "<style>#sk-container-id-3 {color: black;}#sk-container-id-3 pre{padding: 0;}#sk-container-id-3 div.sk-toggleable {background-color: white;}#sk-container-id-3 label.sk-toggleable__label {cursor: pointer;display: block;width: 100%;margin-bottom: 0;padding: 0.3em;box-sizing: border-box;text-align: center;}#sk-container-id-3 label.sk-toggleable__label-arrow:before {content: \"▸\";float: left;margin-right: 0.25em;color: #696969;}#sk-container-id-3 label.sk-toggleable__label-arrow:hover:before {color: black;}#sk-container-id-3 div.sk-estimator:hover label.sk-toggleable__label-arrow:before {color: black;}#sk-container-id-3 div.sk-toggleable__content {max-height: 0;max-width: 0;overflow: hidden;text-align: left;background-color: #f0f8ff;}#sk-container-id-3 div.sk-toggleable__content pre {margin: 0.2em;color: black;border-radius: 0.25em;background-color: #f0f8ff;}#sk-container-id-3 input.sk-toggleable__control:checked~div.sk-toggleable__content {max-height: 200px;max-width: 100%;overflow: auto;}#sk-container-id-3 input.sk-toggleable__control:checked~label.sk-toggleable__label-arrow:before {content: \"▾\";}#sk-container-id-3 div.sk-estimator input.sk-toggleable__control:checked~label.sk-toggleable__label {background-color: #d4ebff;}#sk-container-id-3 div.sk-label input.sk-toggleable__control:checked~label.sk-toggleable__label {background-color: #d4ebff;}#sk-container-id-3 input.sk-hidden--visually {border: 0;clip: rect(1px 1px 1px 1px);clip: rect(1px, 1px, 1px, 1px);height: 1px;margin: -1px;overflow: hidden;padding: 0;position: absolute;width: 1px;}#sk-container-id-3 div.sk-estimator {font-family: monospace;background-color: #f0f8ff;border: 1px dotted black;border-radius: 0.25em;box-sizing: border-box;margin-bottom: 0.5em;}#sk-container-id-3 div.sk-estimator:hover {background-color: #d4ebff;}#sk-container-id-3 div.sk-parallel-item::after {content: \"\";width: 100%;border-bottom: 1px solid gray;flex-grow: 1;}#sk-container-id-3 div.sk-label:hover label.sk-toggleable__label {background-color: #d4ebff;}#sk-container-id-3 div.sk-serial::before {content: \"\";position: absolute;border-left: 1px solid gray;box-sizing: border-box;top: 0;bottom: 0;left: 50%;z-index: 0;}#sk-container-id-3 div.sk-serial {display: flex;flex-direction: column;align-items: center;background-color: white;padding-right: 0.2em;padding-left: 0.2em;position: relative;}#sk-container-id-3 div.sk-item {position: relative;z-index: 1;}#sk-container-id-3 div.sk-parallel {display: flex;align-items: stretch;justify-content: center;background-color: white;position: relative;}#sk-container-id-3 div.sk-item::before, #sk-container-id-3 div.sk-parallel-item::before {content: \"\";position: absolute;border-left: 1px solid gray;box-sizing: border-box;top: 0;bottom: 0;left: 50%;z-index: -1;}#sk-container-id-3 div.sk-parallel-item {display: flex;flex-direction: column;z-index: 1;position: relative;background-color: white;}#sk-container-id-3 div.sk-parallel-item:first-child::after {align-self: flex-end;width: 50%;}#sk-container-id-3 div.sk-parallel-item:last-child::after {align-self: flex-start;width: 50%;}#sk-container-id-3 div.sk-parallel-item:only-child::after {width: 0;}#sk-container-id-3 div.sk-dashed-wrapped {border: 1px dashed gray;margin: 0 0.4em 0.5em 0.4em;box-sizing: border-box;padding-bottom: 0.4em;background-color: white;}#sk-container-id-3 div.sk-label label {font-family: monospace;font-weight: bold;display: inline-block;line-height: 1.2em;}#sk-container-id-3 div.sk-label-container {text-align: center;}#sk-container-id-3 div.sk-container {/* jupyter's `normalize.less` sets `[hidden] { display: none; }` but bootstrap.min.css set `[hidden] { display: none !important; }` so we also need the `!important` here to be able to override the default hidden behavior on the sphinx rendered scikit-learn.org. See: https://github.com/scikit-learn/scikit-learn/issues/21755 */display: inline-block !important;position: relative;}#sk-container-id-3 div.sk-text-repr-fallback {display: none;}</style><div id=\"sk-container-id-3\" class=\"sk-top-container\"><div class=\"sk-text-repr-fallback\"><pre>XGBRegressor(base_score=None, booster=None, callbacks=None,\n",
       "             colsample_bylevel=None, colsample_bynode=None,\n",
       "             colsample_bytree=None, device=None, early_stopping_rounds=None,\n",
       "             enable_categorical=False, eval_metric=None, feature_types=None,\n",
       "             gamma=None, grow_policy=None, importance_type=None,\n",
       "             interaction_constraints=None, learning_rate=None, max_bin=None,\n",
       "             max_cat_threshold=None, max_cat_to_onehot=None,\n",
       "             max_delta_step=None, max_depth=None, max_leaves=None,\n",
       "             min_child_weight=None, missing=nan, monotone_constraints=None,\n",
       "             multi_strategy=None, n_estimators=None, n_jobs=None,\n",
       "             num_parallel_tree=None, random_state=None, ...)</pre><b>In a Jupyter environment, please rerun this cell to show the HTML representation or trust the notebook. <br />On GitHub, the HTML representation is unable to render, please try loading this page with nbviewer.org.</b></div><div class=\"sk-container\" hidden><div class=\"sk-item\"><div class=\"sk-estimator sk-toggleable\"><input class=\"sk-toggleable__control sk-hidden--visually\" id=\"sk-estimator-id-3\" type=\"checkbox\" checked><label for=\"sk-estimator-id-3\" class=\"sk-toggleable__label sk-toggleable__label-arrow\">XGBRegressor</label><div class=\"sk-toggleable__content\"><pre>XGBRegressor(base_score=None, booster=None, callbacks=None,\n",
       "             colsample_bylevel=None, colsample_bynode=None,\n",
       "             colsample_bytree=None, device=None, early_stopping_rounds=None,\n",
       "             enable_categorical=False, eval_metric=None, feature_types=None,\n",
       "             gamma=None, grow_policy=None, importance_type=None,\n",
       "             interaction_constraints=None, learning_rate=None, max_bin=None,\n",
       "             max_cat_threshold=None, max_cat_to_onehot=None,\n",
       "             max_delta_step=None, max_depth=None, max_leaves=None,\n",
       "             min_child_weight=None, missing=nan, monotone_constraints=None,\n",
       "             multi_strategy=None, n_estimators=None, n_jobs=None,\n",
       "             num_parallel_tree=None, random_state=None, ...)</pre></div></div></div></div></div>"
      ],
      "text/plain": [
       "XGBRegressor(base_score=None, booster=None, callbacks=None,\n",
       "             colsample_bylevel=None, colsample_bynode=None,\n",
       "             colsample_bytree=None, device=None, early_stopping_rounds=None,\n",
       "             enable_categorical=False, eval_metric=None, feature_types=None,\n",
       "             gamma=None, grow_policy=None, importance_type=None,\n",
       "             interaction_constraints=None, learning_rate=None, max_bin=None,\n",
       "             max_cat_threshold=None, max_cat_to_onehot=None,\n",
       "             max_delta_step=None, max_depth=None, max_leaves=None,\n",
       "             min_child_weight=None, missing=nan, monotone_constraints=None,\n",
       "             multi_strategy=None, n_estimators=None, n_jobs=None,\n",
       "             num_parallel_tree=None, random_state=None, ...)"
      ]
     },
     "execution_count": 34,
     "metadata": {},
     "output_type": "execute_result"
    }
   ],
   "source": [
    "model3.fit(X_train3, Y_train3)"
   ]
  },
  {
   "cell_type": "code",
   "execution_count": 35,
   "metadata": {},
   "outputs": [],
   "source": [
    "Y_pred1 = model1.predict(X_test1)"
   ]
  },
  {
   "cell_type": "code",
   "execution_count": 36,
   "metadata": {},
   "outputs": [],
   "source": [
    "Y_pred2 = model2.predict(X_test2)"
   ]
  },
  {
   "cell_type": "code",
   "execution_count": 37,
   "metadata": {},
   "outputs": [],
   "source": [
    "Y_pred3 = model3.predict(X_test3)"
   ]
  },
  {
   "cell_type": "code",
   "execution_count": 38,
   "metadata": {},
   "outputs": [],
   "source": [
    "mse1 = mean_squared_error(Y_test1, Y_pred1)"
   ]
  },
  {
   "cell_type": "code",
   "execution_count": 39,
   "metadata": {},
   "outputs": [],
   "source": [
    "mse2 = mean_squared_error(Y_test2, Y_pred2)"
   ]
  },
  {
   "cell_type": "code",
   "execution_count": 40,
   "metadata": {},
   "outputs": [],
   "source": [
    "mse3 = mean_squared_error(Y_test3, Y_pred3)"
   ]
  },
  {
   "cell_type": "code",
   "execution_count": 41,
   "metadata": {},
   "outputs": [
    {
     "name": "stdout",
     "output_type": "stream",
     "text": [
      "Mean Squared Error on Test Set: 0.05658757746613925\n"
     ]
    }
   ],
   "source": [
    "print(f\"Mean Squared Error on Test Set: {mse1}\")"
   ]
  },
  {
   "cell_type": "code",
   "execution_count": 42,
   "metadata": {},
   "outputs": [
    {
     "name": "stdout",
     "output_type": "stream",
     "text": [
      "Mean Squared Error on Test Set: 0.08804669950126522\n"
     ]
    }
   ],
   "source": [
    "print(f\"Mean Squared Error on Test Set: {mse2}\")"
   ]
  },
  {
   "cell_type": "code",
   "execution_count": 43,
   "metadata": {},
   "outputs": [
    {
     "name": "stdout",
     "output_type": "stream",
     "text": [
      "Mean Squared Error on Test Set: 0.10877253431370432\n"
     ]
    }
   ],
   "source": [
    "print(f\"Mean Squared Error on Test Set: {mse3}\")"
   ]
  },
  {
   "cell_type": "code",
   "execution_count": 44,
   "metadata": {},
   "outputs": [
    {
     "data": {
      "image/png": "[encoded data removed]",
      "text/plain": [
       "<Figure size 640x480 with 1 Axes>"
      ]
     },
     "metadata": {},
     "output_type": "display_data"
    }
   ],
   "source": [
    "xgb.plot_importance(model1)\n",
    "plt.show()"
   ]
  },
  {
   "cell_type": "code",
   "execution_count": 45,
   "metadata": {},
   "outputs": [
    {
     "data": {
      "image/png": "[encoded data removed]",
      "text/plain": [
       "<Figure size 640x480 with 1 Axes>"
      ]
     },
     "metadata": {},
     "output_type": "display_data"
    }
   ],
   "source": [
    "xgb.plot_importance(model2)\n",
    "plt.show()"
   ]
  },
  {
   "cell_type": "code",
   "execution_count": 46,
   "metadata": {},
   "outputs": [
    {
     "data": {
      "image/png": "[encoded data removed]",
      "text/plain": [
       "<Figure size 640x480 with 1 Axes>"
      ]
     },
     "metadata": {},
     "output_type": "display_data"
    }
   ],
   "source": [
    "xgb.plot_importance(model3)\n",
    "plt.show()"
   ]
  }
 ],
 "metadata": {
  "kernelspec": {
   "display_name": "base",
   "language": "python",
   "name": "python3"
  },
  "language_info": {
   "codemirror_mode": {
    "name": "ipython",
    "version": 3
   },
   "file_extension": ".py",
   "mimetype": "text/x-python",
   "name": "python",
   "nbconvert_exporter": "python",
   "pygments_lexer": "ipython3",
   "version": "3.11.5"
  }
 },
 "nbformat": 4,
 "nbformat_minor": 2
}
